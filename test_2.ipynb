{
 "cells": [
  {
   "cell_type": "code",
   "execution_count": 43,
   "metadata": {},
   "outputs": [],
   "source": [
    "import csv\n",
    "from bs4 import BeautifulSoup as bs\n",
    "import requests\n",
    "import pandas as pd\n",
    "from selenium import webdriver\n",
    "import time\n",
    "import datetime\n",
    "from selenium.webdriver.common.by import By\n",
    "import pandas as pd\n",
    "import requests\n",
    "import numpy as np\n",
    "\n",
    "browser = webdriver.Chrome()\n",
    "#browser.maximize_window() # 창 최대화\n",
    "\n",
    "\n",
    "# url 정의 - 네이버 뉴스 경제란\n",
    "url_finance = 'https://news.naver.com/main/list.naver?mode=LS2D&mid=shm&sid2=259&sid1=101&date='\n",
    "url_stock = 'https://news.naver.com/main/list.naver?mode=LS2D&mid=shm&sid2=258&sid1=101&date='\n",
    "\n",
    "# 경제 page 이동\n",
    "\n",
    "\n",
    "page = [1,2,3,4,5]\n",
    "\n",
    "date = pd.date_range('2015-01-01','2015-01-05')\n",
    "headers = {'User-Agent':'Mozilla/5.0 (Windows NT 6.3; Win64; x64) AppleWebKit/537.36 (KHTML, like Gecko) Chrome/63.0.3239.132 Safari/537.36'}\n",
    "result_finance = []"
   ]
  },
  {
   "cell_type": "code",
   "execution_count": 44,
   "metadata": {},
   "outputs": [
    {
     "name": "stdout",
     "output_type": "stream",
     "text": [
      "https://news.naver.com/main/list.naver?mode=LS2D&mid=shm&sid2=259&sid1=101&date=20150101&page=1\n",
      "https://news.naver.com/main/list.naver?mode=LS2D&mid=shm&sid2=259&sid1=101&date=20150101&page=2\n",
      "https://news.naver.com/main/list.naver?mode=LS2D&mid=shm&sid2=259&sid1=101&date=20150101&page=3\n",
      "https://news.naver.com/main/list.naver?mode=LS2D&mid=shm&sid2=259&sid1=101&date=20150101&page=4\n",
      "https://news.naver.com/main/list.naver?mode=LS2D&mid=shm&sid2=259&sid1=101&date=20150101&page=5\n",
      "https://news.naver.com/main/list.naver?mode=LS2D&mid=shm&sid2=259&sid1=101&date=20150102&page=1\n",
      "https://news.naver.com/main/list.naver?mode=LS2D&mid=shm&sid2=259&sid1=101&date=20150102&page=2\n",
      "https://news.naver.com/main/list.naver?mode=LS2D&mid=shm&sid2=259&sid1=101&date=20150102&page=3\n",
      "https://news.naver.com/main/list.naver?mode=LS2D&mid=shm&sid2=259&sid1=101&date=20150102&page=4\n",
      "https://news.naver.com/main/list.naver?mode=LS2D&mid=shm&sid2=259&sid1=101&date=20150102&page=5\n",
      "https://news.naver.com/main/list.naver?mode=LS2D&mid=shm&sid2=259&sid1=101&date=20150103&page=1\n",
      "https://news.naver.com/main/list.naver?mode=LS2D&mid=shm&sid2=259&sid1=101&date=20150103&page=2\n",
      "https://news.naver.com/main/list.naver?mode=LS2D&mid=shm&sid2=259&sid1=101&date=20150103&page=3\n",
      "https://news.naver.com/main/list.naver?mode=LS2D&mid=shm&sid2=259&sid1=101&date=20150103&page=4\n",
      "https://news.naver.com/main/list.naver?mode=LS2D&mid=shm&sid2=259&sid1=101&date=20150103&page=5\n",
      "https://news.naver.com/main/list.naver?mode=LS2D&mid=shm&sid2=259&sid1=101&date=20150104&page=1\n",
      "https://news.naver.com/main/list.naver?mode=LS2D&mid=shm&sid2=259&sid1=101&date=20150104&page=2\n",
      "https://news.naver.com/main/list.naver?mode=LS2D&mid=shm&sid2=259&sid1=101&date=20150104&page=3\n",
      "https://news.naver.com/main/list.naver?mode=LS2D&mid=shm&sid2=259&sid1=101&date=20150104&page=4\n",
      "https://news.naver.com/main/list.naver?mode=LS2D&mid=shm&sid2=259&sid1=101&date=20150104&page=5\n",
      "https://news.naver.com/main/list.naver?mode=LS2D&mid=shm&sid2=259&sid1=101&date=20150105&page=1\n",
      "https://news.naver.com/main/list.naver?mode=LS2D&mid=shm&sid2=259&sid1=101&date=20150105&page=2\n",
      "https://news.naver.com/main/list.naver?mode=LS2D&mid=shm&sid2=259&sid1=101&date=20150105&page=3\n",
      "https://news.naver.com/main/list.naver?mode=LS2D&mid=shm&sid2=259&sid1=101&date=20150105&page=4\n",
      "https://news.naver.com/main/list.naver?mode=LS2D&mid=shm&sid2=259&sid1=101&date=20150105&page=5\n"
     ]
    }
   ],
   "source": [
    "for i in date:\n",
    "    date = str(i).replace('-','')[0:8]\n",
    "    url = url_finance + date\n",
    "    for k in page:\n",
    "        url_q = url+'&page='+'{}'.format(k)\n",
    "        url_k = browser.get(url_q)\n",
    "        time.sleep(0.5)\n",
    "        print(url_q)\n",
    "        response = requests.get(url_q, headers=headers)\n",
    "        html_text = response.text\n",
    "        soup = bs(html_text,'html.parser')\n",
    "        link = list(soup.select('li>dl>dt>a'))\n",
    "        for j in link:\n",
    "            href = j.text.replace('\\n','').replace('\\t','').replace(' ','')\n",
    "            result_finance.append(href)\n"
   ]
  },
  {
   "cell_type": "code",
   "execution_count": 45,
   "metadata": {},
   "outputs": [],
   "source": [
    "mask = pd.DataFrame(result_finance).isin([''])"
   ]
  },
  {
   "cell_type": "code",
   "execution_count": 46,
   "metadata": {},
   "outputs": [],
   "source": [
    "a = pd.DataFrame(result_finance)[~mask].dropna().reset_index()"
   ]
  },
  {
   "cell_type": "code",
   "execution_count": 47,
   "metadata": {},
   "outputs": [
    {
     "data": {
      "text/plain": [
       "0               은행방문없이도실명확인가능해진다\n",
       "1       하나-외환은행임직원,북한산에서성공적인통합다짐\n",
       "2      [생생돈Talk]\"원유선물ETF단기투자노려라\"\n",
       "3      [종합]현대차·BC카드,수수료율협상4일까지연장\n",
       "4                 국민·하나銀임대사업시동건다\n",
       "                 ...            \n",
       "464       ING생명,서울강남'오렌지타워'입주기념식\n",
       "465        기업실적하락우려...1920선내준코스피\n",
       "466                   1920선내준코스피\n",
       "467              코스피,실적우려속1920붕괴\n",
       "468                     [인사]신한생명\n",
       "Name: 0, Length: 469, dtype: object"
      ]
     },
     "execution_count": 47,
     "metadata": {},
     "output_type": "execute_result"
    }
   ],
   "source": [
    "a.iloc[:,1]"
   ]
  },
  {
   "cell_type": "code",
   "execution_count": null,
   "metadata": {},
   "outputs": [],
   "source": []
  }
 ],
 "metadata": {
  "kernelspec": {
   "display_name": "3_9",
   "language": "python",
   "name": "python3"
  },
  "language_info": {
   "codemirror_mode": {
    "name": "ipython",
    "version": 3
   },
   "file_extension": ".py",
   "mimetype": "text/x-python",
   "name": "python",
   "nbconvert_exporter": "python",
   "pygments_lexer": "ipython3",
   "version": "3.9.15 (main, Nov 24 2022, 14:39:17) [MSC v.1916 64 bit (AMD64)]"
  },
  "orig_nbformat": 4,
  "vscode": {
   "interpreter": {
    "hash": "ae277f26e92b6eb0141b40d5dc8f19f277e61da472923d71a3cfdab33db76134"
   }
  }
 },
 "nbformat": 4,
 "nbformat_minor": 2
}
