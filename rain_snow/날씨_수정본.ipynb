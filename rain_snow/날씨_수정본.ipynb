{
 "cells": [
  {
   "cell_type": "code",
   "execution_count": 1,
   "id": "a5376dda",
   "metadata": {},
   "outputs": [],
   "source": [
    "import numpy as np\n",
    "import pandas as pd\n",
    "#교통사고 데이터(CSV파일) 불러오기\n",
    "accident_data = pd.read_csv(\"../rain_snow/accident_data.csv\",encoding = 'EUC-KR')"
   ]
  },
  {
   "cell_type": "code",
   "execution_count": 2,
   "id": "006927a4",
   "metadata": {},
   "outputs": [
    {
     "data": {
      "text/html": [
       "<div>\n",
       "<style scoped>\n",
       "    .dataframe tbody tr th:only-of-type {\n",
       "        vertical-align: middle;\n",
       "    }\n",
       "\n",
       "    .dataframe tbody tr th {\n",
       "        vertical-align: top;\n",
       "    }\n",
       "\n",
       "    .dataframe thead th {\n",
       "        text-align: right;\n",
       "    }\n",
       "</style>\n",
       "<table border=\"1\" class=\"dataframe\">\n",
       "  <thead>\n",
       "    <tr style=\"text-align: right;\">\n",
       "      <th></th>\n",
       "      <th>발생일</th>\n",
       "      <th>발생시간</th>\n",
       "      <th>발생지_시도</th>\n",
       "      <th>발생지_시군구</th>\n",
       "      <th>법정동명</th>\n",
       "      <th>사고건수</th>\n",
       "      <th>사망자수</th>\n",
       "      <th>중상자수</th>\n",
       "      <th>경상자수</th>\n",
       "      <th>부상신고자수</th>\n",
       "    </tr>\n",
       "  </thead>\n",
       "  <tbody>\n",
       "    <tr>\n",
       "      <th>0</th>\n",
       "      <td>2017-01-01</td>\n",
       "      <td>0</td>\n",
       "      <td>서울</td>\n",
       "      <td>강북구</td>\n",
       "      <td>미아동</td>\n",
       "      <td>1</td>\n",
       "      <td>0</td>\n",
       "      <td>1</td>\n",
       "      <td>6</td>\n",
       "      <td>0</td>\n",
       "    </tr>\n",
       "    <tr>\n",
       "      <th>1</th>\n",
       "      <td>2017-01-01</td>\n",
       "      <td>0</td>\n",
       "      <td>서울</td>\n",
       "      <td>노원구</td>\n",
       "      <td>상계동</td>\n",
       "      <td>1</td>\n",
       "      <td>0</td>\n",
       "      <td>0</td>\n",
       "      <td>1</td>\n",
       "      <td>0</td>\n",
       "    </tr>\n",
       "    <tr>\n",
       "      <th>2</th>\n",
       "      <td>2017-01-01</td>\n",
       "      <td>0</td>\n",
       "      <td>서울</td>\n",
       "      <td>동작구</td>\n",
       "      <td>상도동</td>\n",
       "      <td>1</td>\n",
       "      <td>0</td>\n",
       "      <td>0</td>\n",
       "      <td>1</td>\n",
       "      <td>0</td>\n",
       "    </tr>\n",
       "    <tr>\n",
       "      <th>3</th>\n",
       "      <td>2017-01-01</td>\n",
       "      <td>0</td>\n",
       "      <td>서울</td>\n",
       "      <td>서초구</td>\n",
       "      <td>서초동</td>\n",
       "      <td>1</td>\n",
       "      <td>0</td>\n",
       "      <td>0</td>\n",
       "      <td>1</td>\n",
       "      <td>0</td>\n",
       "    </tr>\n",
       "    <tr>\n",
       "      <th>4</th>\n",
       "      <td>2017-01-01</td>\n",
       "      <td>0</td>\n",
       "      <td>서울</td>\n",
       "      <td>송파구</td>\n",
       "      <td>잠실동</td>\n",
       "      <td>1</td>\n",
       "      <td>0</td>\n",
       "      <td>0</td>\n",
       "      <td>1</td>\n",
       "      <td>0</td>\n",
       "    </tr>\n",
       "    <tr>\n",
       "      <th>...</th>\n",
       "      <td>...</td>\n",
       "      <td>...</td>\n",
       "      <td>...</td>\n",
       "      <td>...</td>\n",
       "      <td>...</td>\n",
       "      <td>...</td>\n",
       "      <td>...</td>\n",
       "      <td>...</td>\n",
       "      <td>...</td>\n",
       "      <td>...</td>\n",
       "    </tr>\n",
       "    <tr>\n",
       "      <th>114438</th>\n",
       "      <td>2019-12-31</td>\n",
       "      <td>22</td>\n",
       "      <td>서울</td>\n",
       "      <td>송파구</td>\n",
       "      <td>송파동</td>\n",
       "      <td>1</td>\n",
       "      <td>0</td>\n",
       "      <td>0</td>\n",
       "      <td>1</td>\n",
       "      <td>0</td>\n",
       "    </tr>\n",
       "    <tr>\n",
       "      <th>114439</th>\n",
       "      <td>2019-12-31</td>\n",
       "      <td>22</td>\n",
       "      <td>서울</td>\n",
       "      <td>영등포구</td>\n",
       "      <td>대림동</td>\n",
       "      <td>1</td>\n",
       "      <td>0</td>\n",
       "      <td>0</td>\n",
       "      <td>1</td>\n",
       "      <td>0</td>\n",
       "    </tr>\n",
       "    <tr>\n",
       "      <th>114440</th>\n",
       "      <td>2019-12-31</td>\n",
       "      <td>22</td>\n",
       "      <td>서울</td>\n",
       "      <td>중랑구</td>\n",
       "      <td>면목동</td>\n",
       "      <td>1</td>\n",
       "      <td>0</td>\n",
       "      <td>0</td>\n",
       "      <td>0</td>\n",
       "      <td>1</td>\n",
       "    </tr>\n",
       "    <tr>\n",
       "      <th>114441</th>\n",
       "      <td>2019-12-31</td>\n",
       "      <td>23</td>\n",
       "      <td>서울</td>\n",
       "      <td>강남구</td>\n",
       "      <td>수서동</td>\n",
       "      <td>1</td>\n",
       "      <td>0</td>\n",
       "      <td>0</td>\n",
       "      <td>1</td>\n",
       "      <td>0</td>\n",
       "    </tr>\n",
       "    <tr>\n",
       "      <th>114442</th>\n",
       "      <td>2019-12-31</td>\n",
       "      <td>23</td>\n",
       "      <td>서울</td>\n",
       "      <td>강남구</td>\n",
       "      <td>역삼동</td>\n",
       "      <td>1</td>\n",
       "      <td>0</td>\n",
       "      <td>0</td>\n",
       "      <td>0</td>\n",
       "      <td>2</td>\n",
       "    </tr>\n",
       "  </tbody>\n",
       "</table>\n",
       "<p>114443 rows × 10 columns</p>\n",
       "</div>"
      ],
      "text/plain": [
       "               발생일  발생시간 발생지_시도 발생지_시군구 법정동명  사고건수  사망자수  중상자수  경상자수  부상신고자수\n",
       "0       2017-01-01     0     서울     강북구  미아동     1     0     1     6       0\n",
       "1       2017-01-01     0     서울     노원구  상계동     1     0     0     1       0\n",
       "2       2017-01-01     0     서울     동작구  상도동     1     0     0     1       0\n",
       "3       2017-01-01     0     서울     서초구  서초동     1     0     0     1       0\n",
       "4       2017-01-01     0     서울     송파구  잠실동     1     0     0     1       0\n",
       "...            ...   ...    ...     ...  ...   ...   ...   ...   ...     ...\n",
       "114438  2019-12-31    22     서울     송파구  송파동     1     0     0     1       0\n",
       "114439  2019-12-31    22     서울    영등포구  대림동     1     0     0     1       0\n",
       "114440  2019-12-31    22     서울     중랑구  면목동     1     0     0     0       1\n",
       "114441  2019-12-31    23     서울     강남구  수서동     1     0     0     1       0\n",
       "114442  2019-12-31    23     서울     강남구  역삼동     1     0     0     0       2\n",
       "\n",
       "[114443 rows x 10 columns]"
      ]
     },
     "execution_count": 2,
     "metadata": {},
     "output_type": "execute_result"
    }
   ],
   "source": [
    "accident_data"
   ]
  },
  {
   "cell_type": "code",
   "execution_count": 3,
   "id": "7d3518d2",
   "metadata": {},
   "outputs": [],
   "source": [
    "#쓰지않는 데이터 열 삭제\n",
    "del accident_data['발생시간']\n",
    "del accident_data['발생지_시군구']\n",
    "del accident_data['발생지_시도']\n",
    "del accident_data['법정동명']"
   ]
  },
  {
   "cell_type": "code",
   "execution_count": 4,
   "id": "f4ce033a",
   "metadata": {},
   "outputs": [],
   "source": [
    "# '발생일'컬럼을 날짜 데이터로 변환\n",
    "\n",
    "accident_data['발생일'] = pd.to_datetime(accident_data['발생일'])"
   ]
  },
  {
   "cell_type": "code",
   "execution_count": 5,
   "id": "c124731b",
   "metadata": {},
   "outputs": [
    {
     "data": {
      "text/html": [
       "<div>\n",
       "<style scoped>\n",
       "    .dataframe tbody tr th:only-of-type {\n",
       "        vertical-align: middle;\n",
       "    }\n",
       "\n",
       "    .dataframe tbody tr th {\n",
       "        vertical-align: top;\n",
       "    }\n",
       "\n",
       "    .dataframe thead th {\n",
       "        text-align: right;\n",
       "    }\n",
       "</style>\n",
       "<table border=\"1\" class=\"dataframe\">\n",
       "  <thead>\n",
       "    <tr style=\"text-align: right;\">\n",
       "      <th></th>\n",
       "      <th>사고건수</th>\n",
       "      <th>사망자수</th>\n",
       "      <th>중상자수</th>\n",
       "      <th>경상자수</th>\n",
       "      <th>부상신고자수</th>\n",
       "    </tr>\n",
       "    <tr>\n",
       "      <th>날짜</th>\n",
       "      <th></th>\n",
       "      <th></th>\n",
       "      <th></th>\n",
       "      <th></th>\n",
       "      <th></th>\n",
       "    </tr>\n",
       "  </thead>\n",
       "  <tbody>\n",
       "    <tr>\n",
       "      <th>2017-01-01</th>\n",
       "      <td>73</td>\n",
       "      <td>2</td>\n",
       "      <td>25</td>\n",
       "      <td>90</td>\n",
       "      <td>10</td>\n",
       "    </tr>\n",
       "    <tr>\n",
       "      <th>2017-01-02</th>\n",
       "      <td>82</td>\n",
       "      <td>4</td>\n",
       "      <td>27</td>\n",
       "      <td>92</td>\n",
       "      <td>17</td>\n",
       "    </tr>\n",
       "    <tr>\n",
       "      <th>2017-01-03</th>\n",
       "      <td>88</td>\n",
       "      <td>1</td>\n",
       "      <td>25</td>\n",
       "      <td>80</td>\n",
       "      <td>13</td>\n",
       "    </tr>\n",
       "    <tr>\n",
       "      <th>2017-01-04</th>\n",
       "      <td>115</td>\n",
       "      <td>1</td>\n",
       "      <td>39</td>\n",
       "      <td>99</td>\n",
       "      <td>25</td>\n",
       "    </tr>\n",
       "    <tr>\n",
       "      <th>2017-01-05</th>\n",
       "      <td>103</td>\n",
       "      <td>1</td>\n",
       "      <td>34</td>\n",
       "      <td>111</td>\n",
       "      <td>8</td>\n",
       "    </tr>\n",
       "    <tr>\n",
       "      <th>...</th>\n",
       "      <td>...</td>\n",
       "      <td>...</td>\n",
       "      <td>...</td>\n",
       "      <td>...</td>\n",
       "      <td>...</td>\n",
       "    </tr>\n",
       "    <tr>\n",
       "      <th>2019-12-27</th>\n",
       "      <td>94</td>\n",
       "      <td>0</td>\n",
       "      <td>27</td>\n",
       "      <td>88</td>\n",
       "      <td>14</td>\n",
       "    </tr>\n",
       "    <tr>\n",
       "      <th>2019-12-28</th>\n",
       "      <td>94</td>\n",
       "      <td>0</td>\n",
       "      <td>27</td>\n",
       "      <td>105</td>\n",
       "      <td>10</td>\n",
       "    </tr>\n",
       "    <tr>\n",
       "      <th>2019-12-29</th>\n",
       "      <td>78</td>\n",
       "      <td>1</td>\n",
       "      <td>26</td>\n",
       "      <td>87</td>\n",
       "      <td>7</td>\n",
       "    </tr>\n",
       "    <tr>\n",
       "      <th>2019-12-30</th>\n",
       "      <td>91</td>\n",
       "      <td>1</td>\n",
       "      <td>19</td>\n",
       "      <td>93</td>\n",
       "      <td>53</td>\n",
       "    </tr>\n",
       "    <tr>\n",
       "      <th>2019-12-31</th>\n",
       "      <td>106</td>\n",
       "      <td>2</td>\n",
       "      <td>20</td>\n",
       "      <td>102</td>\n",
       "      <td>12</td>\n",
       "    </tr>\n",
       "  </tbody>\n",
       "</table>\n",
       "<p>1095 rows × 5 columns</p>\n",
       "</div>"
      ],
      "text/plain": [
       "            사고건수  사망자수  중상자수  경상자수  부상신고자수\n",
       "날짜                                        \n",
       "2017-01-01    73     2    25    90      10\n",
       "2017-01-02    82     4    27    92      17\n",
       "2017-01-03    88     1    25    80      13\n",
       "2017-01-04   115     1    39    99      25\n",
       "2017-01-05   103     1    34   111       8\n",
       "...          ...   ...   ...   ...     ...\n",
       "2019-12-27    94     0    27    88      14\n",
       "2019-12-28    94     0    27   105      10\n",
       "2019-12-29    78     1    26    87       7\n",
       "2019-12-30    91     1    19    93      53\n",
       "2019-12-31   106     2    20   102      12\n",
       "\n",
       "[1095 rows x 5 columns]"
      ]
     },
     "execution_count": 5,
     "metadata": {},
     "output_type": "execute_result"
    }
   ],
   "source": [
    "#같은 날짜에 발생한 사건은 합치기\n",
    "accident_data_final = accident_data.groupby('발생일').sum()\n",
    "\n",
    "# 인덱스 이름 '날짜'로 변환\n",
    "accident_data_final.index.name = '날짜'\n",
    "accident_data_final"
   ]
  },
  {
   "cell_type": "code",
   "execution_count": 6,
   "id": "6563bbec",
   "metadata": {},
   "outputs": [
    {
     "data": {
      "text/html": [
       "<div>\n",
       "<style scoped>\n",
       "    .dataframe tbody tr th:only-of-type {\n",
       "        vertical-align: middle;\n",
       "    }\n",
       "\n",
       "    .dataframe tbody tr th {\n",
       "        vertical-align: top;\n",
       "    }\n",
       "\n",
       "    .dataframe thead th {\n",
       "        text-align: right;\n",
       "    }\n",
       "</style>\n",
       "<table border=\"1\" class=\"dataframe\">\n",
       "  <thead>\n",
       "    <tr style=\"text-align: right;\">\n",
       "      <th></th>\n",
       "      <th>날짜</th>\n",
       "      <th>비</th>\n",
       "    </tr>\n",
       "  </thead>\n",
       "  <tbody>\n",
       "    <tr>\n",
       "      <th>0</th>\n",
       "      <td>2017-01-01</td>\n",
       "      <td>NaN</td>\n",
       "    </tr>\n",
       "    <tr>\n",
       "      <th>1</th>\n",
       "      <td>2017-01-02</td>\n",
       "      <td>비</td>\n",
       "    </tr>\n",
       "    <tr>\n",
       "      <th>2</th>\n",
       "      <td>2017-01-03</td>\n",
       "      <td>NaN</td>\n",
       "    </tr>\n",
       "    <tr>\n",
       "      <th>3</th>\n",
       "      <td>2017-01-04</td>\n",
       "      <td>NaN</td>\n",
       "    </tr>\n",
       "    <tr>\n",
       "      <th>4</th>\n",
       "      <td>2017-01-05</td>\n",
       "      <td>NaN</td>\n",
       "    </tr>\n",
       "    <tr>\n",
       "      <th>...</th>\n",
       "      <td>...</td>\n",
       "      <td>...</td>\n",
       "    </tr>\n",
       "    <tr>\n",
       "      <th>1090</th>\n",
       "      <td>2019-12-27</td>\n",
       "      <td>NaN</td>\n",
       "    </tr>\n",
       "    <tr>\n",
       "      <th>1091</th>\n",
       "      <td>2019-12-28</td>\n",
       "      <td>NaN</td>\n",
       "    </tr>\n",
       "    <tr>\n",
       "      <th>1092</th>\n",
       "      <td>2019-12-29</td>\n",
       "      <td>비</td>\n",
       "    </tr>\n",
       "    <tr>\n",
       "      <th>1093</th>\n",
       "      <td>2019-12-30</td>\n",
       "      <td>비</td>\n",
       "    </tr>\n",
       "    <tr>\n",
       "      <th>1094</th>\n",
       "      <td>2019-12-31</td>\n",
       "      <td>비</td>\n",
       "    </tr>\n",
       "  </tbody>\n",
       "</table>\n",
       "<p>1095 rows × 2 columns</p>\n",
       "</div>"
      ],
      "text/plain": [
       "             날짜    비\n",
       "0    2017-01-01  NaN\n",
       "1    2017-01-02    비\n",
       "2    2017-01-03  NaN\n",
       "3    2017-01-04  NaN\n",
       "4    2017-01-05  NaN\n",
       "...         ...  ...\n",
       "1090 2019-12-27  NaN\n",
       "1091 2019-12-28  NaN\n",
       "1092 2019-12-29    비\n",
       "1093 2019-12-30    비\n",
       "1094 2019-12-31    비\n",
       "\n",
       "[1095 rows x 2 columns]"
      ]
     },
     "execution_count": 6,
     "metadata": {},
     "output_type": "execute_result"
    }
   ],
   "source": [
    "# 강수량 데이터(CSV파일) 불러오기\n",
    "rain_df = pd.read_csv(\"rain_data.csv\",encoding = 'EUC-KR')\n",
    "\n",
    "# 날짜' 날짜데이터 형식으로 변환\n",
    "rain_df['날짜'] = pd.to_datetime(rain_df['날짜'])\n",
    "\n",
    "# 지점 열 삭제\n",
    "rain_df.drop('지점', axis=1, inplace=True)\n",
    "\n",
    "# 강수량 열 이름을 비로 변경\n",
    "rain_df.rename(columns={'강수량(mm)': '비'}, inplace=True)\n",
    "\n",
    "rain_df.loc[rain_df['비'].notnull(), '비'] = '비'\n",
    "\n",
    "rain_df"
   ]
  },
  {
   "cell_type": "code",
   "execution_count": 7,
   "id": "468b1596",
   "metadata": {},
   "outputs": [
    {
     "name": "stderr",
     "output_type": "stream",
     "text": [
      "C:\\Users\\user\\AppData\\Local\\Temp\\ipykernel_17128\\3259086161.py:15: SettingWithCopyWarning: \n",
      "A value is trying to be set on a copy of a slice from a DataFrame.\n",
      "Try using .loc[row_indexer,col_indexer] = value instead\n",
      "\n",
      "See the caveats in the documentation: https://pandas.pydata.org/pandas-docs/stable/user_guide/indexing.html#returning-a-view-versus-a-copy\n",
      "  snow_df['눈'] = '눈'\n"
     ]
    },
    {
     "data": {
      "text/html": [
       "<div>\n",
       "<style scoped>\n",
       "    .dataframe tbody tr th:only-of-type {\n",
       "        vertical-align: middle;\n",
       "    }\n",
       "\n",
       "    .dataframe tbody tr th {\n",
       "        vertical-align: top;\n",
       "    }\n",
       "\n",
       "    .dataframe thead th {\n",
       "        text-align: right;\n",
       "    }\n",
       "</style>\n",
       "<table border=\"1\" class=\"dataframe\">\n",
       "  <thead>\n",
       "    <tr style=\"text-align: right;\">\n",
       "      <th></th>\n",
       "      <th>날짜</th>\n",
       "      <th>눈</th>\n",
       "    </tr>\n",
       "  </thead>\n",
       "  <tbody>\n",
       "    <tr>\n",
       "      <th>0</th>\n",
       "      <td>2017-11-02</td>\n",
       "      <td>눈</td>\n",
       "    </tr>\n",
       "    <tr>\n",
       "      <th>1</th>\n",
       "      <td>2017-11-03</td>\n",
       "      <td>눈</td>\n",
       "    </tr>\n",
       "    <tr>\n",
       "      <th>2</th>\n",
       "      <td>2017-11-08</td>\n",
       "      <td>눈</td>\n",
       "    </tr>\n",
       "    <tr>\n",
       "      <th>3</th>\n",
       "      <td>2017-01-20</td>\n",
       "      <td>눈</td>\n",
       "    </tr>\n",
       "    <tr>\n",
       "      <th>4</th>\n",
       "      <td>2017-12-01</td>\n",
       "      <td>눈</td>\n",
       "    </tr>\n",
       "    <tr>\n",
       "      <th>...</th>\n",
       "      <td>...</td>\n",
       "      <td>...</td>\n",
       "    </tr>\n",
       "    <tr>\n",
       "      <th>72</th>\n",
       "      <td>2019-12-19</td>\n",
       "      <td>눈</td>\n",
       "    </tr>\n",
       "    <tr>\n",
       "      <th>73</th>\n",
       "      <td>2019-12-20</td>\n",
       "      <td>눈</td>\n",
       "    </tr>\n",
       "    <tr>\n",
       "      <th>74</th>\n",
       "      <td>2019-12-21</td>\n",
       "      <td>눈</td>\n",
       "    </tr>\n",
       "    <tr>\n",
       "      <th>75</th>\n",
       "      <td>2019-12-30</td>\n",
       "      <td>눈</td>\n",
       "    </tr>\n",
       "    <tr>\n",
       "      <th>76</th>\n",
       "      <td>2019-12-31</td>\n",
       "      <td>눈</td>\n",
       "    </tr>\n",
       "  </tbody>\n",
       "</table>\n",
       "<p>77 rows × 2 columns</p>\n",
       "</div>"
      ],
      "text/plain": [
       "           날짜  눈\n",
       "0  2017-11-02  눈\n",
       "1  2017-11-03  눈\n",
       "2  2017-11-08  눈\n",
       "3  2017-01-20  눈\n",
       "4  2017-12-01  눈\n",
       "..        ... ..\n",
       "72 2019-12-19  눈\n",
       "73 2019-12-20  눈\n",
       "74 2019-12-21  눈\n",
       "75 2019-12-30  눈\n",
       "76 2019-12-31  눈\n",
       "\n",
       "[77 rows x 2 columns]"
      ]
     },
     "execution_count": 7,
     "metadata": {},
     "output_type": "execute_result"
    }
   ],
   "source": [
    "# 눈일수 데이터(CSV파일) 불러오기\n",
    "snow_data = pd.read_csv(\"snow_data.csv\",encoding = 'EUC-KR')\n",
    "snow_df = snow_data\n",
    "\n",
    "# 연도와 날짜 열을 합치고 날짜 형식으로 변환\n",
    "snow_df['날짜'] = pd.to_datetime(snow_df['연도'].astype(str) + snow_df['날짜'].astype(str), format='%Y%m%d')\n",
    "\n",
    "# 기상현상 열 이름을 눈으로 변경\n",
    "snow_df.rename(columns={'기상현상': '눈'}, inplace=True)\n",
    "\n",
    "# 열의 순서 변경, 연도, 지점, 일 최심신적설(cm) 열 삭제\n",
    "snow_df = snow_df[['날짜', '눈']]\n",
    "\n",
    "# 데이터프레임의 '눈'열 값들을 '눈'으로 변경\n",
    "snow_df['눈'] = '눈'\n",
    "snow_df"
   ]
  },
  {
   "cell_type": "code",
   "execution_count": 8,
   "id": "653e7b41",
   "metadata": {},
   "outputs": [
    {
     "data": {
      "text/html": [
       "<div>\n",
       "<style scoped>\n",
       "    .dataframe tbody tr th:only-of-type {\n",
       "        vertical-align: middle;\n",
       "    }\n",
       "\n",
       "    .dataframe tbody tr th {\n",
       "        vertical-align: top;\n",
       "    }\n",
       "\n",
       "    .dataframe thead th {\n",
       "        text-align: right;\n",
       "    }\n",
       "</style>\n",
       "<table border=\"1\" class=\"dataframe\">\n",
       "  <thead>\n",
       "    <tr style=\"text-align: right;\">\n",
       "      <th></th>\n",
       "      <th>날짜</th>\n",
       "      <th>사고건수</th>\n",
       "      <th>사망자수</th>\n",
       "      <th>중상자수</th>\n",
       "      <th>경상자수</th>\n",
       "      <th>부상신고자수</th>\n",
       "      <th>비</th>\n",
       "      <th>눈</th>\n",
       "    </tr>\n",
       "  </thead>\n",
       "  <tbody>\n",
       "    <tr>\n",
       "      <th>0</th>\n",
       "      <td>2017-01-01</td>\n",
       "      <td>73</td>\n",
       "      <td>2</td>\n",
       "      <td>25</td>\n",
       "      <td>90</td>\n",
       "      <td>10</td>\n",
       "      <td>NaN</td>\n",
       "      <td>NaN</td>\n",
       "    </tr>\n",
       "    <tr>\n",
       "      <th>1</th>\n",
       "      <td>2017-01-02</td>\n",
       "      <td>82</td>\n",
       "      <td>4</td>\n",
       "      <td>27</td>\n",
       "      <td>92</td>\n",
       "      <td>17</td>\n",
       "      <td>비</td>\n",
       "      <td>NaN</td>\n",
       "    </tr>\n",
       "    <tr>\n",
       "      <th>2</th>\n",
       "      <td>2017-01-03</td>\n",
       "      <td>88</td>\n",
       "      <td>1</td>\n",
       "      <td>25</td>\n",
       "      <td>80</td>\n",
       "      <td>13</td>\n",
       "      <td>NaN</td>\n",
       "      <td>NaN</td>\n",
       "    </tr>\n",
       "    <tr>\n",
       "      <th>3</th>\n",
       "      <td>2017-01-04</td>\n",
       "      <td>115</td>\n",
       "      <td>1</td>\n",
       "      <td>39</td>\n",
       "      <td>99</td>\n",
       "      <td>25</td>\n",
       "      <td>NaN</td>\n",
       "      <td>NaN</td>\n",
       "    </tr>\n",
       "    <tr>\n",
       "      <th>4</th>\n",
       "      <td>2017-01-05</td>\n",
       "      <td>103</td>\n",
       "      <td>1</td>\n",
       "      <td>34</td>\n",
       "      <td>111</td>\n",
       "      <td>8</td>\n",
       "      <td>NaN</td>\n",
       "      <td>NaN</td>\n",
       "    </tr>\n",
       "    <tr>\n",
       "      <th>...</th>\n",
       "      <td>...</td>\n",
       "      <td>...</td>\n",
       "      <td>...</td>\n",
       "      <td>...</td>\n",
       "      <td>...</td>\n",
       "      <td>...</td>\n",
       "      <td>...</td>\n",
       "      <td>...</td>\n",
       "    </tr>\n",
       "    <tr>\n",
       "      <th>1091</th>\n",
       "      <td>2019-12-27</td>\n",
       "      <td>94</td>\n",
       "      <td>0</td>\n",
       "      <td>27</td>\n",
       "      <td>88</td>\n",
       "      <td>14</td>\n",
       "      <td>NaN</td>\n",
       "      <td>NaN</td>\n",
       "    </tr>\n",
       "    <tr>\n",
       "      <th>1092</th>\n",
       "      <td>2019-12-28</td>\n",
       "      <td>94</td>\n",
       "      <td>0</td>\n",
       "      <td>27</td>\n",
       "      <td>105</td>\n",
       "      <td>10</td>\n",
       "      <td>NaN</td>\n",
       "      <td>NaN</td>\n",
       "    </tr>\n",
       "    <tr>\n",
       "      <th>1093</th>\n",
       "      <td>2019-12-29</td>\n",
       "      <td>78</td>\n",
       "      <td>1</td>\n",
       "      <td>26</td>\n",
       "      <td>87</td>\n",
       "      <td>7</td>\n",
       "      <td>비</td>\n",
       "      <td>NaN</td>\n",
       "    </tr>\n",
       "    <tr>\n",
       "      <th>1094</th>\n",
       "      <td>2019-12-30</td>\n",
       "      <td>91</td>\n",
       "      <td>1</td>\n",
       "      <td>19</td>\n",
       "      <td>93</td>\n",
       "      <td>53</td>\n",
       "      <td>비</td>\n",
       "      <td>눈</td>\n",
       "    </tr>\n",
       "    <tr>\n",
       "      <th>1095</th>\n",
       "      <td>2019-12-31</td>\n",
       "      <td>106</td>\n",
       "      <td>2</td>\n",
       "      <td>20</td>\n",
       "      <td>102</td>\n",
       "      <td>12</td>\n",
       "      <td>비</td>\n",
       "      <td>눈</td>\n",
       "    </tr>\n",
       "  </tbody>\n",
       "</table>\n",
       "<p>1096 rows × 8 columns</p>\n",
       "</div>"
      ],
      "text/plain": [
       "             날짜  사고건수  사망자수  중상자수  경상자수  부상신고자수    비    눈\n",
       "0    2017-01-01    73     2    25    90      10  NaN  NaN\n",
       "1    2017-01-02    82     4    27    92      17    비  NaN\n",
       "2    2017-01-03    88     1    25    80      13  NaN  NaN\n",
       "3    2017-01-04   115     1    39    99      25  NaN  NaN\n",
       "4    2017-01-05   103     1    34   111       8  NaN  NaN\n",
       "...         ...   ...   ...   ...   ...     ...  ...  ...\n",
       "1091 2019-12-27    94     0    27    88      14  NaN  NaN\n",
       "1092 2019-12-28    94     0    27   105      10  NaN  NaN\n",
       "1093 2019-12-29    78     1    26    87       7    비  NaN\n",
       "1094 2019-12-30    91     1    19    93      53    비    눈\n",
       "1095 2019-12-31   106     2    20   102      12    비    눈\n",
       "\n",
       "[1096 rows x 8 columns]"
      ]
     },
     "execution_count": 8,
     "metadata": {},
     "output_type": "execute_result"
    }
   ],
   "source": [
    "# 교통사고 데이터, 눈, 비 데이터프레임 합치기\n",
    "\n",
    "# 'accident_data_final' 데이터프레임과 'rain_df' 데이터프레임을 날짜를 기준으로 병합\n",
    "merged_df = pd.merge(accident_data_final, rain_df, on='날짜', how='left')\n",
    "\n",
    "# 'merged_df'와 'snow_df'를 날짜를 기준으로 병합\n",
    "merged_df = pd.merge(merged_df, snow_df, on='날짜', how='left')\n",
    "\n",
    "merged_df"
   ]
  },
  {
   "cell_type": "code",
   "execution_count": 9,
   "id": "cd80950b",
   "metadata": {},
   "outputs": [
    {
     "data": {
      "text/html": [
       "<div>\n",
       "<style scoped>\n",
       "    .dataframe tbody tr th:only-of-type {\n",
       "        vertical-align: middle;\n",
       "    }\n",
       "\n",
       "    .dataframe tbody tr th {\n",
       "        vertical-align: top;\n",
       "    }\n",
       "\n",
       "    .dataframe thead th {\n",
       "        text-align: right;\n",
       "    }\n",
       "</style>\n",
       "<table border=\"1\" class=\"dataframe\">\n",
       "  <thead>\n",
       "    <tr style=\"text-align: right;\">\n",
       "      <th></th>\n",
       "      <th>날짜</th>\n",
       "      <th>사고건수</th>\n",
       "      <th>사망자수</th>\n",
       "      <th>중상자수</th>\n",
       "      <th>경상자수</th>\n",
       "      <th>부상신고자수</th>\n",
       "      <th>비</th>\n",
       "      <th>눈</th>\n",
       "      <th>날씨</th>\n",
       "    </tr>\n",
       "  </thead>\n",
       "  <tbody>\n",
       "    <tr>\n",
       "      <th>0</th>\n",
       "      <td>2017-01-01</td>\n",
       "      <td>73</td>\n",
       "      <td>2</td>\n",
       "      <td>25</td>\n",
       "      <td>90</td>\n",
       "      <td>10</td>\n",
       "      <td></td>\n",
       "      <td></td>\n",
       "      <td></td>\n",
       "    </tr>\n",
       "    <tr>\n",
       "      <th>1</th>\n",
       "      <td>2017-01-02</td>\n",
       "      <td>82</td>\n",
       "      <td>4</td>\n",
       "      <td>27</td>\n",
       "      <td>92</td>\n",
       "      <td>17</td>\n",
       "      <td>비</td>\n",
       "      <td></td>\n",
       "      <td>비</td>\n",
       "    </tr>\n",
       "    <tr>\n",
       "      <th>2</th>\n",
       "      <td>2017-01-03</td>\n",
       "      <td>88</td>\n",
       "      <td>1</td>\n",
       "      <td>25</td>\n",
       "      <td>80</td>\n",
       "      <td>13</td>\n",
       "      <td></td>\n",
       "      <td></td>\n",
       "      <td></td>\n",
       "    </tr>\n",
       "    <tr>\n",
       "      <th>3</th>\n",
       "      <td>2017-01-04</td>\n",
       "      <td>115</td>\n",
       "      <td>1</td>\n",
       "      <td>39</td>\n",
       "      <td>99</td>\n",
       "      <td>25</td>\n",
       "      <td></td>\n",
       "      <td></td>\n",
       "      <td></td>\n",
       "    </tr>\n",
       "    <tr>\n",
       "      <th>4</th>\n",
       "      <td>2017-01-05</td>\n",
       "      <td>103</td>\n",
       "      <td>1</td>\n",
       "      <td>34</td>\n",
       "      <td>111</td>\n",
       "      <td>8</td>\n",
       "      <td></td>\n",
       "      <td></td>\n",
       "      <td></td>\n",
       "    </tr>\n",
       "    <tr>\n",
       "      <th>...</th>\n",
       "      <td>...</td>\n",
       "      <td>...</td>\n",
       "      <td>...</td>\n",
       "      <td>...</td>\n",
       "      <td>...</td>\n",
       "      <td>...</td>\n",
       "      <td>...</td>\n",
       "      <td>...</td>\n",
       "      <td>...</td>\n",
       "    </tr>\n",
       "    <tr>\n",
       "      <th>1091</th>\n",
       "      <td>2019-12-27</td>\n",
       "      <td>94</td>\n",
       "      <td>0</td>\n",
       "      <td>27</td>\n",
       "      <td>88</td>\n",
       "      <td>14</td>\n",
       "      <td></td>\n",
       "      <td></td>\n",
       "      <td></td>\n",
       "    </tr>\n",
       "    <tr>\n",
       "      <th>1092</th>\n",
       "      <td>2019-12-28</td>\n",
       "      <td>94</td>\n",
       "      <td>0</td>\n",
       "      <td>27</td>\n",
       "      <td>105</td>\n",
       "      <td>10</td>\n",
       "      <td></td>\n",
       "      <td></td>\n",
       "      <td></td>\n",
       "    </tr>\n",
       "    <tr>\n",
       "      <th>1093</th>\n",
       "      <td>2019-12-29</td>\n",
       "      <td>78</td>\n",
       "      <td>1</td>\n",
       "      <td>26</td>\n",
       "      <td>87</td>\n",
       "      <td>7</td>\n",
       "      <td>비</td>\n",
       "      <td></td>\n",
       "      <td>비</td>\n",
       "    </tr>\n",
       "    <tr>\n",
       "      <th>1094</th>\n",
       "      <td>2019-12-30</td>\n",
       "      <td>91</td>\n",
       "      <td>1</td>\n",
       "      <td>19</td>\n",
       "      <td>93</td>\n",
       "      <td>53</td>\n",
       "      <td>비</td>\n",
       "      <td>눈</td>\n",
       "      <td>비눈</td>\n",
       "    </tr>\n",
       "    <tr>\n",
       "      <th>1095</th>\n",
       "      <td>2019-12-31</td>\n",
       "      <td>106</td>\n",
       "      <td>2</td>\n",
       "      <td>20</td>\n",
       "      <td>102</td>\n",
       "      <td>12</td>\n",
       "      <td>비</td>\n",
       "      <td>눈</td>\n",
       "      <td>비눈</td>\n",
       "    </tr>\n",
       "  </tbody>\n",
       "</table>\n",
       "<p>1096 rows × 9 columns</p>\n",
       "</div>"
      ],
      "text/plain": [
       "             날짜  사고건수  사망자수  중상자수  경상자수  부상신고자수  비  눈  날씨\n",
       "0    2017-01-01    73     2    25    90      10          \n",
       "1    2017-01-02    82     4    27    92      17  비      비\n",
       "2    2017-01-03    88     1    25    80      13          \n",
       "3    2017-01-04   115     1    39    99      25          \n",
       "4    2017-01-05   103     1    34   111       8          \n",
       "...         ...   ...   ...   ...   ...     ... .. ..  ..\n",
       "1091 2019-12-27    94     0    27    88      14          \n",
       "1092 2019-12-28    94     0    27   105      10          \n",
       "1093 2019-12-29    78     1    26    87       7  비      비\n",
       "1094 2019-12-30    91     1    19    93      53  비  눈  비눈\n",
       "1095 2019-12-31   106     2    20   102      12  비  눈  비눈\n",
       "\n",
       "[1096 rows x 9 columns]"
      ]
     },
     "execution_count": 9,
     "metadata": {},
     "output_type": "execute_result"
    }
   ],
   "source": [
    "merged_df['비'].fillna('', inplace=True)\n",
    "merged_df['눈'].fillna('', inplace=True)\n",
    "\n",
    "merged_df['날씨'] = merged_df['비'] + merged_df['눈']\n",
    "merged_df"
   ]
  },
  {
   "cell_type": "code",
   "execution_count": 10,
   "id": "edf3c3c4",
   "metadata": {},
   "outputs": [
    {
     "name": "stdout",
     "output_type": "stream",
     "text": [
      "눈 개수: 9\n",
      "비 개수: 344\n",
      "비눈 개수: 68\n"
     ]
    }
   ],
   "source": [
    "snow_count = merged_df[merged_df['날씨'] == '눈'].shape[0]\n",
    "rain_count = merged_df[merged_df['날씨'] == '비'].shape[0]\n",
    "snow_rain_count = merged_df[merged_df['날씨'] == '비눈'].shape[0]\n",
    "\n",
    "print(\"눈 개수:\", snow_count)\n",
    "print(\"비 개수:\", rain_count)\n",
    "print(\"비눈 개수:\", snow_rain_count)"
   ]
  },
  {
   "cell_type": "code",
   "execution_count": 11,
   "id": "50274b3f",
   "metadata": {},
   "outputs": [],
   "source": [
    "col = ['비', '눈', '날씨']"
   ]
  },
  {
   "cell_type": "code",
   "execution_count": 12,
   "id": "317de443",
   "metadata": {},
   "outputs": [],
   "source": [
    "df = pd.get_dummies(merged_df, columns=col)"
   ]
  },
  {
   "cell_type": "code",
   "execution_count": 13,
   "id": "fb0443a3",
   "metadata": {},
   "outputs": [],
   "source": [
    "df.drop(['날씨_비', '날씨_눈', '비_', '눈_', '날씨_'], axis=1, inplace=True)"
   ]
  },
  {
   "cell_type": "code",
   "execution_count": 14,
   "id": "55b909fb",
   "metadata": {},
   "outputs": [],
   "source": [
    "import seaborn as sns\n",
    "import matplotlib.pyplot as plt\n",
    "import matplotlib\n",
    "matplotlib.rcParams['font.family'] ='Malgun Gothic'\n",
    "matplotlib.rcParams['axes.unicode_minus'] =False\n"
   ]
  },
  {
   "cell_type": "code",
   "execution_count": 15,
   "id": "a8323249",
   "metadata": {},
   "outputs": [
    {
     "name": "stderr",
     "output_type": "stream",
     "text": [
      "C:\\Users\\user\\AppData\\Local\\Temp\\ipykernel_17128\\3887025668.py:1: FutureWarning: The default value of numeric_only in DataFrame.corr is deprecated. In a future version, it will default to False. Select only valid columns or specify the value of numeric_only to silence this warning.\n",
      "  sns.heatmap(df.corr(), annot=True, cmap='Greens', fmt = '.2f')\n"
     ]
    },
    {
     "data": {
      "image/png": "[encoded data removed]",
      "text/plain": [
       "<Figure size 640x480 with 2 Axes>"
      ]
     },
     "metadata": {},
     "output_type": "display_data"
    }
   ],
   "source": [
    "sns.heatmap(df.corr(), annot=True, cmap='Greens', fmt = '.2f')\n",
    "plt.show()"
   ]
  },
  {
   "cell_type": "code",
   "execution_count": 16,
   "id": "f26234ec",
   "metadata": {},
   "outputs": [],
   "source": [
    "rain  = pd.read_csv(\"rain_data.csv\",encoding = 'EUC-KR')"
   ]
  },
  {
   "cell_type": "code",
   "execution_count": 17,
   "id": "f4cc6cfa",
   "metadata": {},
   "outputs": [],
   "source": [
    "snow  = pd.read_csv(\"snow_data.csv\",encoding = 'EUC-KR')"
   ]
  },
  {
   "cell_type": "code",
   "execution_count": 18,
   "id": "91e94459",
   "metadata": {},
   "outputs": [],
   "source": [
    "snow['날짜'] = pd.to_datetime(snow['연도'].astype(str) + snow['날짜'].astype(str), format='%Y%m%d')"
   ]
  },
  {
   "cell_type": "code",
   "execution_count": 19,
   "id": "cd3fbc6a",
   "metadata": {},
   "outputs": [],
   "source": [
    "snow.drop(['연도','지점','기상현상'], axis=1, inplace=True)"
   ]
  },
  {
   "cell_type": "code",
   "execution_count": 20,
   "id": "81ef8ae1",
   "metadata": {},
   "outputs": [],
   "source": [
    "rain.drop('지점', axis=1, inplace=True)"
   ]
  },
  {
   "cell_type": "code",
   "execution_count": 21,
   "id": "544b51dd",
   "metadata": {},
   "outputs": [],
   "source": [
    "rain.날짜 = pd.to_datetime(rain.날짜)"
   ]
  },
  {
   "cell_type": "code",
   "execution_count": 22,
   "id": "986cf5ee",
   "metadata": {},
   "outputs": [],
   "source": [
    "snow.날짜 = pd.to_datetime(snow.날짜)"
   ]
  },
  {
   "cell_type": "code",
   "execution_count": 23,
   "id": "28558917",
   "metadata": {},
   "outputs": [],
   "source": [
    "merged = pd.merge(accident_data_final, rain, on='날짜', how='left')\n",
    "\n",
    "# 'merged_df'와 'snow_df'를 날짜를 기준으로 병합\n",
    "merged = pd.merge(merged, snow, on='날짜', how='left')"
   ]
  },
  {
   "cell_type": "code",
   "execution_count": 24,
   "id": "399b5954",
   "metadata": {},
   "outputs": [],
   "source": [
    "merged.fillna(0, inplace=True)"
   ]
  },
  {
   "cell_type": "code",
   "execution_count": 25,
   "id": "e095033a",
   "metadata": {},
   "outputs": [],
   "source": [
    "merged.columns = ['날짜', '사고건수', '사망자수', '중상자수', '경상자수', '부상신고자수', '강수량', '적설량']"
   ]
  },
  {
   "cell_type": "code",
   "execution_count": 26,
   "id": "e511c997",
   "metadata": {},
   "outputs": [
    {
     "data": {
      "text/plain": [
       "0      1019\n",
       "-        44\n",
       "1         4\n",
       "0.1       3\n",
       "0         3\n",
       "0.3       3\n",
       "0.4       2\n",
       "1.5       2\n",
       "0.2       2\n",
       "2.4       1\n",
       "1.7       1\n",
       "8.8       1\n",
       "0.6       1\n",
       "0.5       1\n",
       "3.7       1\n",
       "0.8       1\n",
       "3.5       1\n",
       "6.6       1\n",
       "5.1       1\n",
       "4.3       1\n",
       "2.1       1\n",
       "3.2       1\n",
       "3.3       1\n",
       "Name: 적설량, dtype: int64"
      ]
     },
     "execution_count": 26,
     "metadata": {},
     "output_type": "execute_result"
    }
   ],
   "source": [
    "merged.적설량.value_counts()"
   ]
  },
  {
   "cell_type": "code",
   "execution_count": 27,
   "id": "7e359f85",
   "metadata": {},
   "outputs": [],
   "source": [
    "merged.replace('-',0, inplace=True)"
   ]
  },
  {
   "cell_type": "code",
   "execution_count": 28,
   "id": "d86eb262",
   "metadata": {},
   "outputs": [
    {
     "data": {
      "text/html": [
       "<div>\n",
       "<style scoped>\n",
       "    .dataframe tbody tr th:only-of-type {\n",
       "        vertical-align: middle;\n",
       "    }\n",
       "\n",
       "    .dataframe tbody tr th {\n",
       "        vertical-align: top;\n",
       "    }\n",
       "\n",
       "    .dataframe thead th {\n",
       "        text-align: right;\n",
       "    }\n",
       "</style>\n",
       "<table border=\"1\" class=\"dataframe\">\n",
       "  <thead>\n",
       "    <tr style=\"text-align: right;\">\n",
       "      <th></th>\n",
       "      <th>날짜</th>\n",
       "      <th>사고건수</th>\n",
       "      <th>사망자수</th>\n",
       "      <th>중상자수</th>\n",
       "      <th>경상자수</th>\n",
       "      <th>부상신고자수</th>\n",
       "      <th>강수량</th>\n",
       "      <th>적설량</th>\n",
       "    </tr>\n",
       "  </thead>\n",
       "  <tbody>\n",
       "    <tr>\n",
       "      <th>날짜</th>\n",
       "      <td>1.000000</td>\n",
       "      <td>0.089217</td>\n",
       "      <td>-0.101307</td>\n",
       "      <td>-0.172832</td>\n",
       "      <td>0.141472</td>\n",
       "      <td>-0.020665</td>\n",
       "      <td>-0.014608</td>\n",
       "      <td>-0.034902</td>\n",
       "    </tr>\n",
       "    <tr>\n",
       "      <th>사고건수</th>\n",
       "      <td>0.089217</td>\n",
       "      <td>1.000000</td>\n",
       "      <td>0.079496</td>\n",
       "      <td>0.674847</td>\n",
       "      <td>0.816892</td>\n",
       "      <td>0.441506</td>\n",
       "      <td>0.059942</td>\n",
       "      <td>-0.031914</td>\n",
       "    </tr>\n",
       "    <tr>\n",
       "      <th>사망자수</th>\n",
       "      <td>-0.101307</td>\n",
       "      <td>0.079496</td>\n",
       "      <td>1.000000</td>\n",
       "      <td>0.112997</td>\n",
       "      <td>0.017132</td>\n",
       "      <td>0.054965</td>\n",
       "      <td>-0.001395</td>\n",
       "      <td>0.037008</td>\n",
       "    </tr>\n",
       "    <tr>\n",
       "      <th>중상자수</th>\n",
       "      <td>-0.172832</td>\n",
       "      <td>0.674847</td>\n",
       "      <td>0.112997</td>\n",
       "      <td>1.000000</td>\n",
       "      <td>0.443675</td>\n",
       "      <td>0.231366</td>\n",
       "      <td>0.011708</td>\n",
       "      <td>-0.007298</td>\n",
       "    </tr>\n",
       "    <tr>\n",
       "      <th>경상자수</th>\n",
       "      <td>0.141472</td>\n",
       "      <td>0.816892</td>\n",
       "      <td>0.017132</td>\n",
       "      <td>0.443675</td>\n",
       "      <td>1.000000</td>\n",
       "      <td>0.356990</td>\n",
       "      <td>0.094509</td>\n",
       "      <td>0.007954</td>\n",
       "    </tr>\n",
       "    <tr>\n",
       "      <th>부상신고자수</th>\n",
       "      <td>-0.020665</td>\n",
       "      <td>0.441506</td>\n",
       "      <td>0.054965</td>\n",
       "      <td>0.231366</td>\n",
       "      <td>0.356990</td>\n",
       "      <td>1.000000</td>\n",
       "      <td>-0.005592</td>\n",
       "      <td>-0.039446</td>\n",
       "    </tr>\n",
       "    <tr>\n",
       "      <th>강수량</th>\n",
       "      <td>-0.014608</td>\n",
       "      <td>0.059942</td>\n",
       "      <td>-0.001395</td>\n",
       "      <td>0.011708</td>\n",
       "      <td>0.094509</td>\n",
       "      <td>-0.005592</td>\n",
       "      <td>1.000000</td>\n",
       "      <td>0.006039</td>\n",
       "    </tr>\n",
       "    <tr>\n",
       "      <th>적설량</th>\n",
       "      <td>-0.034902</td>\n",
       "      <td>-0.031914</td>\n",
       "      <td>0.037008</td>\n",
       "      <td>-0.007298</td>\n",
       "      <td>0.007954</td>\n",
       "      <td>-0.039446</td>\n",
       "      <td>0.006039</td>\n",
       "      <td>1.000000</td>\n",
       "    </tr>\n",
       "  </tbody>\n",
       "</table>\n",
       "</div>"
      ],
      "text/plain": [
       "              날짜      사고건수      사망자수      중상자수      경상자수    부상신고자수       강수량  \\\n",
       "날짜      1.000000  0.089217 -0.101307 -0.172832  0.141472 -0.020665 -0.014608   \n",
       "사고건수    0.089217  1.000000  0.079496  0.674847  0.816892  0.441506  0.059942   \n",
       "사망자수   -0.101307  0.079496  1.000000  0.112997  0.017132  0.054965 -0.001395   \n",
       "중상자수   -0.172832  0.674847  0.112997  1.000000  0.443675  0.231366  0.011708   \n",
       "경상자수    0.141472  0.816892  0.017132  0.443675  1.000000  0.356990  0.094509   \n",
       "부상신고자수 -0.020665  0.441506  0.054965  0.231366  0.356990  1.000000 -0.005592   \n",
       "강수량    -0.014608  0.059942 -0.001395  0.011708  0.094509 -0.005592  1.000000   \n",
       "적설량    -0.034902 -0.031914  0.037008 -0.007298  0.007954 -0.039446  0.006039   \n",
       "\n",
       "             적설량  \n",
       "날짜     -0.034902  \n",
       "사고건수   -0.031914  \n",
       "사망자수    0.037008  \n",
       "중상자수   -0.007298  \n",
       "경상자수    0.007954  \n",
       "부상신고자수 -0.039446  \n",
       "강수량     0.006039  \n",
       "적설량     1.000000  "
      ]
     },
     "execution_count": 28,
     "metadata": {},
     "output_type": "execute_result"
    }
   ],
   "source": [
    "merged.corr(numeric_only=False)"
   ]
  },
  {
   "cell_type": "code",
   "execution_count": 29,
   "id": "eff83ebc",
   "metadata": {},
   "outputs": [
    {
     "data": {
      "text/html": [
       "<div>\n",
       "<style scoped>\n",
       "    .dataframe tbody tr th:only-of-type {\n",
       "        vertical-align: middle;\n",
       "    }\n",
       "\n",
       "    .dataframe tbody tr th {\n",
       "        vertical-align: top;\n",
       "    }\n",
       "\n",
       "    .dataframe thead th {\n",
       "        text-align: right;\n",
       "    }\n",
       "</style>\n",
       "<table border=\"1\" class=\"dataframe\">\n",
       "  <thead>\n",
       "    <tr style=\"text-align: right;\">\n",
       "      <th></th>\n",
       "      <th>사고건수</th>\n",
       "      <th>사망자수</th>\n",
       "      <th>중상자수</th>\n",
       "      <th>경상자수</th>\n",
       "      <th>부상신고자수</th>\n",
       "      <th>비_비</th>\n",
       "      <th>눈_눈</th>\n",
       "      <th>날씨_비눈</th>\n",
       "    </tr>\n",
       "  </thead>\n",
       "  <tbody>\n",
       "    <tr>\n",
       "      <th>count</th>\n",
       "      <td>1096.000000</td>\n",
       "      <td>1096.000000</td>\n",
       "      <td>1096.000000</td>\n",
       "      <td>1096.000000</td>\n",
       "      <td>1096.000000</td>\n",
       "      <td>1096.000000</td>\n",
       "      <td>1096.000000</td>\n",
       "      <td>1096.000000</td>\n",
       "    </tr>\n",
       "    <tr>\n",
       "      <th>mean</th>\n",
       "      <td>106.569343</td>\n",
       "      <td>0.819343</td>\n",
       "      <td>31.019161</td>\n",
       "      <td>103.267336</td>\n",
       "      <td>13.184307</td>\n",
       "      <td>0.375912</td>\n",
       "      <td>0.070255</td>\n",
       "      <td>0.062044</td>\n",
       "    </tr>\n",
       "    <tr>\n",
       "      <th>std</th>\n",
       "      <td>20.125785</td>\n",
       "      <td>0.963361</td>\n",
       "      <td>8.018506</td>\n",
       "      <td>20.856515</td>\n",
       "      <td>5.148105</td>\n",
       "      <td>0.484579</td>\n",
       "      <td>0.255694</td>\n",
       "      <td>0.241345</td>\n",
       "    </tr>\n",
       "    <tr>\n",
       "      <th>min</th>\n",
       "      <td>38.000000</td>\n",
       "      <td>0.000000</td>\n",
       "      <td>10.000000</td>\n",
       "      <td>34.000000</td>\n",
       "      <td>2.000000</td>\n",
       "      <td>0.000000</td>\n",
       "      <td>0.000000</td>\n",
       "      <td>0.000000</td>\n",
       "    </tr>\n",
       "    <tr>\n",
       "      <th>25%</th>\n",
       "      <td>94.000000</td>\n",
       "      <td>0.000000</td>\n",
       "      <td>26.000000</td>\n",
       "      <td>89.000000</td>\n",
       "      <td>10.000000</td>\n",
       "      <td>0.000000</td>\n",
       "      <td>0.000000</td>\n",
       "      <td>0.000000</td>\n",
       "    </tr>\n",
       "    <tr>\n",
       "      <th>50%</th>\n",
       "      <td>108.000000</td>\n",
       "      <td>1.000000</td>\n",
       "      <td>31.000000</td>\n",
       "      <td>102.000000</td>\n",
       "      <td>13.000000</td>\n",
       "      <td>0.000000</td>\n",
       "      <td>0.000000</td>\n",
       "      <td>0.000000</td>\n",
       "    </tr>\n",
       "    <tr>\n",
       "      <th>75%</th>\n",
       "      <td>119.000000</td>\n",
       "      <td>1.000000</td>\n",
       "      <td>36.000000</td>\n",
       "      <td>115.000000</td>\n",
       "      <td>16.000000</td>\n",
       "      <td>1.000000</td>\n",
       "      <td>0.000000</td>\n",
       "      <td>0.000000</td>\n",
       "    </tr>\n",
       "    <tr>\n",
       "      <th>max</th>\n",
       "      <td>184.000000</td>\n",
       "      <td>7.000000</td>\n",
       "      <td>59.000000</td>\n",
       "      <td>180.000000</td>\n",
       "      <td>53.000000</td>\n",
       "      <td>1.000000</td>\n",
       "      <td>1.000000</td>\n",
       "      <td>1.000000</td>\n",
       "    </tr>\n",
       "  </tbody>\n",
       "</table>\n",
       "</div>"
      ],
      "text/plain": [
       "              사고건수         사망자수         중상자수         경상자수       부상신고자수  \\\n",
       "count  1096.000000  1096.000000  1096.000000  1096.000000  1096.000000   \n",
       "mean    106.569343     0.819343    31.019161   103.267336    13.184307   \n",
       "std      20.125785     0.963361     8.018506    20.856515     5.148105   \n",
       "min      38.000000     0.000000    10.000000    34.000000     2.000000   \n",
       "25%      94.000000     0.000000    26.000000    89.000000    10.000000   \n",
       "50%     108.000000     1.000000    31.000000   102.000000    13.000000   \n",
       "75%     119.000000     1.000000    36.000000   115.000000    16.000000   \n",
       "max     184.000000     7.000000    59.000000   180.000000    53.000000   \n",
       "\n",
       "               비_비          눈_눈        날씨_비눈  \n",
       "count  1096.000000  1096.000000  1096.000000  \n",
       "mean      0.375912     0.070255     0.062044  \n",
       "std       0.484579     0.255694     0.241345  \n",
       "min       0.000000     0.000000     0.000000  \n",
       "25%       0.000000     0.000000     0.000000  \n",
       "50%       0.000000     0.000000     0.000000  \n",
       "75%       1.000000     0.000000     0.000000  \n",
       "max       1.000000     1.000000     1.000000  "
      ]
     },
     "execution_count": 29,
     "metadata": {},
     "output_type": "execute_result"
    }
   ],
   "source": [
    "df.describe()"
   ]
  },
  {
   "attachments": {},
   "cell_type": "markdown",
   "id": "42342d48",
   "metadata": {},
   "source": [
    "df['month'] = df.날짜.dt.month"
   ]
  },
  {
   "attachments": {},
   "cell_type": "markdown",
   "id": "43868b3e",
   "metadata": {},
   "source": [
    "----\n",
    "## ANOVA분석\n",
    "상관관계에 대해서 확인을 했는데 결과가 좋지 못하네요\n",
    "\n",
    "두가지로 확인을 한 사유는 binary로 numeric data와 corr을 확인하면 설명정도에 대해서 차이가 있을 것으로 판단하여 따로 진행을 했습니다.\n",
    "\n",
    "하지만 numeric끼리 비교를 해도 차이가 없네요\n",
    "\n",
    "그래서 ANOVA분석을 통해서 조금이라도 의미가 있는 것을 찾아보려고 합니다.\n",
    "\n",
    "보통 F는 1이상, P는 0.05 미만일때 평균 차이가 존재하고, 유의미한 차이라고 할 수 있지만 해석하기 나름이라서 살짝 넘거나 작아도 크게 상관은 없습니다 \n"
   ]
  },
  {
   "cell_type": "code",
   "execution_count": 30,
   "id": "bd8bd71d",
   "metadata": {},
   "outputs": [],
   "source": [
    "# anova 분석\n",
    "from scipy.stats import f_oneway\n",
    "from statsmodels.stats.multicomp import pairwise_tukeyhsd"
   ]
  },
  {
   "cell_type": "code",
   "execution_count": 31,
   "id": "7a808515",
   "metadata": {},
   "outputs": [],
   "source": [
    "df_anova = df.copy()"
   ]
  },
  {
   "cell_type": "code",
   "execution_count": 32,
   "id": "7e16a474",
   "metadata": {},
   "outputs": [],
   "source": [
    "rain_0 = df_anova[df_anova['비_비'] == 0][['사고건수','사망자수', '중상자수', '경상자수', '부상신고자수']]\n",
    "rain_1 = df_anova[df_anova['비_비'] == 1][['사고건수','사망자수', '중상자수', '경상자수', '부상신고자수']]"
   ]
  },
  {
   "cell_type": "code",
   "execution_count": 33,
   "id": "d3cf903e",
   "metadata": {},
   "outputs": [],
   "source": [
    "f_statistic_rain, p_value_rain = f_oneway(rain_0, rain_1)"
   ]
  },
  {
   "cell_type": "code",
   "execution_count": 34,
   "id": "71057e96",
   "metadata": {},
   "outputs": [
    {
     "name": "stdout",
     "output_type": "stream",
     "text": [
      "[0.00532907 3.15942034 3.66625747 1.44442332 0.12387286] [0.94181905 0.07576774 0.05578531 0.22968498 0.72493922]\n"
     ]
    }
   ],
   "source": [
    "print(f_statistic_rain, p_value_rain)"
   ]
  },
  {
   "cell_type": "code",
   "execution_count": 35,
   "id": "ff5d246a",
   "metadata": {},
   "outputs": [],
   "source": [
    "snow_0 = df_anova[df_anova['눈_눈'] == 0][['사고건수','사망자수', '중상자수', '경상자수', '부상신고자수']]\n",
    "snow_1 = df_anova[df_anova['눈_눈'] == 1][['사고건수','사망자수', '중상자수', '경상자수', '부상신고자수']]"
   ]
  },
  {
   "cell_type": "code",
   "execution_count": 36,
   "id": "6b38d8bf",
   "metadata": {},
   "outputs": [],
   "source": [
    "f_statistic_snow, p_value_snow = f_oneway(snow_0, snow_1)"
   ]
  },
  {
   "cell_type": "code",
   "execution_count": 37,
   "id": "8bc1bed1",
   "metadata": {},
   "outputs": [
    {
     "name": "stdout",
     "output_type": "stream",
     "text": [
      "[2.46470685 0.05489402 1.66526416 5.61857931 0.03533509] [0.11671859 0.81480002 0.19716673 0.01794366 0.8509301 ]\n"
     ]
    }
   ],
   "source": [
    "print(f_statistic_snow, p_value_snow)"
   ]
  },
  {
   "cell_type": "code",
   "execution_count": 38,
   "id": "ba460004",
   "metadata": {},
   "outputs": [],
   "source": [
    "rain_snow_0 = df_anova[df_anova['날씨_비눈'] == 0][['사고건수','사망자수', '중상자수', '경상자수', '부상신고자수']]\n",
    "rain_snow_1 = df_anova[df_anova['날씨_비눈'] == 1][['사고건수','사망자수', '중상자수', '경상자수', '부상신고자수']]\n"
   ]
  },
  {
   "cell_type": "code",
   "execution_count": 39,
   "id": "b03b8d6f",
   "metadata": {},
   "outputs": [],
   "source": [
    "f_statistic_rain_snow, p_value_rain_snow = f_oneway(rain_snow_0, rain_snow_1)"
   ]
  },
  {
   "cell_type": "code",
   "execution_count": 40,
   "id": "78648aa7",
   "metadata": {},
   "outputs": [
    {
     "name": "stdout",
     "output_type": "stream",
     "text": [
      "[1.66418103e+00 6.67058257e-01 7.02918747e-01 5.33085888e+00\n",
      " 1.67811442e-04] [0.19731237 0.41425693 0.40198783 0.02113672 0.98966669]\n"
     ]
    }
   ],
   "source": [
    "print(f_statistic_rain_snow, p_value_rain_snow)"
   ]
  },
  {
   "cell_type": "code",
   "execution_count": 41,
   "id": "9266f913",
   "metadata": {},
   "outputs": [
    {
     "name": "stdout",
     "output_type": "stream",
     "text": [
      "Multiple Comparison of Means - Tukey HSD, FWER=0.05\n",
      "===================================================\n",
      "group1 group2 meandiff p-adj   lower  upper  reject\n",
      "---------------------------------------------------\n",
      "     0      1  -0.9563 0.0558 -1.9363 0.0237  False\n",
      "---------------------------------------------------\n"
     ]
    }
   ],
   "source": [
    "print(pairwise_tukeyhsd(df_anova['중상자수'], df_anova['비_비'], alpha=0.05))"
   ]
  },
  {
   "cell_type": "code",
   "execution_count": 42,
   "id": "f1ec6849",
   "metadata": {},
   "outputs": [
    {
     "name": "stdout",
     "output_type": "stream",
     "text": [
      "Multiple Comparison of Means - Tukey HSD, FWER=0.05\n",
      "===================================================\n",
      "group1 group2 meandiff p-adj  lower   upper  reject\n",
      "---------------------------------------------------\n",
      "     0      1   6.0178 0.0211 0.9037 11.1319   True\n",
      "---------------------------------------------------\n"
     ]
    }
   ],
   "source": [
    "print(pairwise_tukeyhsd(df_anova['경상자수'], df_anova['날씨_비눈'], alpha=0.05))"
   ]
  },
  {
   "cell_type": "code",
   "execution_count": 43,
   "id": "0bcaccbe",
   "metadata": {},
   "outputs": [
    {
     "name": "stdout",
     "output_type": "stream",
     "text": [
      "Multiple Comparison of Means - Tukey HSD, FWER=0.05\n",
      "===================================================\n",
      "group1 group2 meandiff p-adj  lower   upper  reject\n",
      "---------------------------------------------------\n",
      "     0      1   5.8306 0.0179 1.0041 10.6571   True\n",
      "---------------------------------------------------\n"
     ]
    }
   ],
   "source": [
    "print(pairwise_tukeyhsd(df_anova['경상자수'], df_anova['눈_눈'], alpha=0.05))"
   ]
  },
  {
   "attachments": {},
   "cell_type": "markdown",
   "id": "f426678e",
   "metadata": {},
   "source": [
    "-----\n",
    "## Association Rules\n",
    "\n",
    "이전 내용에 있던 것 같아 간단하게만 만들어 놨습니다.\n",
    "lift 값이 높다는 것은 랜덤으로 선행과 후행을 추출 했을 때 보다 얼마나 발생할 확률이 높은지를 나타내는 지표라고 생각하시면 되고,\n",
    "눈, 비가 consequents or antecedents에 존재하는지 확인하고, 존재할 때 일반적으로 사고가 발생하는 것보다 얼마나 lift가 높은지 보면 됩니다.\n",
    "association rules은 노가다로 하나씩 찾으면서 확인해야 하는 단점이 있습니다...\n",
    "한번 보시고 사용하실 생각이 있다면 사용하셔도 좋을 것 같습니다.\n",
    "\n",
    "대략적으로 눈이나 비가 올때, 어떤 지역에서 사고가 더 많이 발생한다 이런 식으로 접근해도 괜찮을 것으로 생각됩니다."
   ]
  },
  {
   "cell_type": "code",
   "execution_count": 44,
   "id": "edf90617",
   "metadata": {},
   "outputs": [],
   "source": [
    "ac_df = pd.read_csv('./accident_data.csv', encoding='EUC-KR')"
   ]
  },
  {
   "cell_type": "code",
   "execution_count": 45,
   "id": "a161451d",
   "metadata": {},
   "outputs": [
    {
     "data": {
      "text/plain": [
       "1    112269\n",
       "2      2116\n",
       "3        55\n",
       "4         3\n",
       "Name: 사고건수, dtype: int64"
      ]
     },
     "execution_count": 45,
     "metadata": {},
     "output_type": "execute_result"
    }
   ],
   "source": [
    "ac_df.사고건수.value_counts()"
   ]
  },
  {
   "cell_type": "code",
   "execution_count": 46,
   "id": "2a138222",
   "metadata": {},
   "outputs": [
    {
     "data": {
      "text/plain": [
       "0    113559\n",
       "1       871\n",
       "2        13\n",
       "Name: 사망자수, dtype: int64"
      ]
     },
     "execution_count": 46,
     "metadata": {},
     "output_type": "execute_result"
    }
   ],
   "source": [
    "ac_df.사망자수.value_counts()"
   ]
  },
  {
   "cell_type": "code",
   "execution_count": 47,
   "id": "796c3fe6",
   "metadata": {},
   "outputs": [
    {
     "data": {
      "text/plain": [
       "0     83566\n",
       "1     28404\n",
       "2      2040\n",
       "3       326\n",
       "4        73\n",
       "5        19\n",
       "6         8\n",
       "9         2\n",
       "7         2\n",
       "11        1\n",
       "8         1\n",
       "14        1\n",
       "Name: 중상자수, dtype: int64"
      ]
     },
     "execution_count": 47,
     "metadata": {},
     "output_type": "execute_result"
    }
   ],
   "source": [
    "ac_df.중상자수.value_counts()"
   ]
  },
  {
   "cell_type": "code",
   "execution_count": 48,
   "id": "1d587094",
   "metadata": {},
   "outputs": [
    {
     "data": {
      "text/plain": [
       "1     60859\n",
       "0     33375\n",
       "2     13606\n",
       "3      3999\n",
       "4      1489\n",
       "5       599\n",
       "6       241\n",
       "7       103\n",
       "8        59\n",
       "9        35\n",
       "10       23\n",
       "11       11\n",
       "14        8\n",
       "13        8\n",
       "12        7\n",
       "15        4\n",
       "16        3\n",
       "24        2\n",
       "18        2\n",
       "19        2\n",
       "28        2\n",
       "17        2\n",
       "34        1\n",
       "22        1\n",
       "27        1\n",
       "41        1\n",
       "Name: 경상자수, dtype: int64"
      ]
     },
     "execution_count": 48,
     "metadata": {},
     "output_type": "execute_result"
    }
   ],
   "source": [
    "ac_df.경상자수.value_counts()"
   ]
  },
  {
   "cell_type": "code",
   "execution_count": 49,
   "id": "15e9a9bd",
   "metadata": {},
   "outputs": [
    {
     "data": {
      "text/plain": [
       "0     101928\n",
       "1      11307\n",
       "2        880\n",
       "3        202\n",
       "4         59\n",
       "5         24\n",
       "6         17\n",
       "7          8\n",
       "9          4\n",
       "10         3\n",
       "8          3\n",
       "12         1\n",
       "19         1\n",
       "11         1\n",
       "15         1\n",
       "13         1\n",
       "25         1\n",
       "16         1\n",
       "47         1\n",
       "Name: 부상신고자수, dtype: int64"
      ]
     },
     "execution_count": 49,
     "metadata": {},
     "output_type": "execute_result"
    }
   ],
   "source": [
    "ac_df.부상신고자수.value_counts()"
   ]
  },
  {
   "cell_type": "code",
   "execution_count": 50,
   "id": "b97c56af",
   "metadata": {},
   "outputs": [],
   "source": [
    "ac_df['발생시간'] = ac_df['발생시간'].astype(str)\n",
    "ac_df['발생시간'] = ac_df['발생시간'].apply(lambda x: '0' + x if len(x) == 1 else x)\n",
    "ac_df['발생일시'] = pd.to_datetime(ac_df['발생일'] + ' ' + ac_df['발생시간'], format='%Y-%m-%d %H')\n"
   ]
  },
  {
   "cell_type": "code",
   "execution_count": 51,
   "id": "57375898",
   "metadata": {},
   "outputs": [],
   "source": [
    "ac_df['발생일'] = pd.to_datetime(ac_df['발생일'], format='%Y-%m-%d')"
   ]
  },
  {
   "cell_type": "code",
   "execution_count": 52,
   "id": "ec1c4b85",
   "metadata": {},
   "outputs": [],
   "source": [
    "ac_merged = pd.merge(ac_df, rain, left_on='발생일', right_on = '날짜', how='left')\n",
    "ac_merged = pd.merge(ac_merged, snow, left_on='발생일', right_on = '날짜', how='left')"
   ]
  },
  {
   "cell_type": "code",
   "execution_count": 53,
   "id": "d552e309",
   "metadata": {},
   "outputs": [],
   "source": [
    "ac_merged.drop(['날짜_x', '날짜_y','발생일','발생시간','발생지_시도','발생지_시군구'], axis=1, inplace=True)"
   ]
  },
  {
   "cell_type": "code",
   "execution_count": 54,
   "id": "63439d58",
   "metadata": {},
   "outputs": [
    {
     "data": {
      "text/html": [
       "<div>\n",
       "<style scoped>\n",
       "    .dataframe tbody tr th:only-of-type {\n",
       "        vertical-align: middle;\n",
       "    }\n",
       "\n",
       "    .dataframe tbody tr th {\n",
       "        vertical-align: top;\n",
       "    }\n",
       "\n",
       "    .dataframe thead th {\n",
       "        text-align: right;\n",
       "    }\n",
       "</style>\n",
       "<table border=\"1\" class=\"dataframe\">\n",
       "  <thead>\n",
       "    <tr style=\"text-align: right;\">\n",
       "      <th></th>\n",
       "      <th>법정동명</th>\n",
       "      <th>사고건수</th>\n",
       "      <th>사망자수</th>\n",
       "      <th>중상자수</th>\n",
       "      <th>경상자수</th>\n",
       "      <th>부상신고자수</th>\n",
       "      <th>발생일시</th>\n",
       "      <th>강수량(mm)</th>\n",
       "      <th>일 최심신적설(cm)</th>\n",
       "    </tr>\n",
       "  </thead>\n",
       "  <tbody>\n",
       "    <tr>\n",
       "      <th>0</th>\n",
       "      <td>미아동</td>\n",
       "      <td>1</td>\n",
       "      <td>0</td>\n",
       "      <td>1</td>\n",
       "      <td>6</td>\n",
       "      <td>0</td>\n",
       "      <td>2017-01-01 00:00:00</td>\n",
       "      <td>NaN</td>\n",
       "      <td>NaN</td>\n",
       "    </tr>\n",
       "    <tr>\n",
       "      <th>1</th>\n",
       "      <td>상계동</td>\n",
       "      <td>1</td>\n",
       "      <td>0</td>\n",
       "      <td>0</td>\n",
       "      <td>1</td>\n",
       "      <td>0</td>\n",
       "      <td>2017-01-01 00:00:00</td>\n",
       "      <td>NaN</td>\n",
       "      <td>NaN</td>\n",
       "    </tr>\n",
       "    <tr>\n",
       "      <th>2</th>\n",
       "      <td>상도동</td>\n",
       "      <td>1</td>\n",
       "      <td>0</td>\n",
       "      <td>0</td>\n",
       "      <td>1</td>\n",
       "      <td>0</td>\n",
       "      <td>2017-01-01 00:00:00</td>\n",
       "      <td>NaN</td>\n",
       "      <td>NaN</td>\n",
       "    </tr>\n",
       "    <tr>\n",
       "      <th>3</th>\n",
       "      <td>서초동</td>\n",
       "      <td>1</td>\n",
       "      <td>0</td>\n",
       "      <td>0</td>\n",
       "      <td>1</td>\n",
       "      <td>0</td>\n",
       "      <td>2017-01-01 00:00:00</td>\n",
       "      <td>NaN</td>\n",
       "      <td>NaN</td>\n",
       "    </tr>\n",
       "    <tr>\n",
       "      <th>4</th>\n",
       "      <td>잠실동</td>\n",
       "      <td>1</td>\n",
       "      <td>0</td>\n",
       "      <td>0</td>\n",
       "      <td>1</td>\n",
       "      <td>0</td>\n",
       "      <td>2017-01-01 00:00:00</td>\n",
       "      <td>NaN</td>\n",
       "      <td>NaN</td>\n",
       "    </tr>\n",
       "    <tr>\n",
       "      <th>...</th>\n",
       "      <td>...</td>\n",
       "      <td>...</td>\n",
       "      <td>...</td>\n",
       "      <td>...</td>\n",
       "      <td>...</td>\n",
       "      <td>...</td>\n",
       "      <td>...</td>\n",
       "      <td>...</td>\n",
       "      <td>...</td>\n",
       "    </tr>\n",
       "    <tr>\n",
       "      <th>114558</th>\n",
       "      <td>송파동</td>\n",
       "      <td>1</td>\n",
       "      <td>0</td>\n",
       "      <td>0</td>\n",
       "      <td>1</td>\n",
       "      <td>0</td>\n",
       "      <td>2019-12-31 22:00:00</td>\n",
       "      <td>0.0</td>\n",
       "      <td>-</td>\n",
       "    </tr>\n",
       "    <tr>\n",
       "      <th>114559</th>\n",
       "      <td>대림동</td>\n",
       "      <td>1</td>\n",
       "      <td>0</td>\n",
       "      <td>0</td>\n",
       "      <td>1</td>\n",
       "      <td>0</td>\n",
       "      <td>2019-12-31 22:00:00</td>\n",
       "      <td>0.0</td>\n",
       "      <td>-</td>\n",
       "    </tr>\n",
       "    <tr>\n",
       "      <th>114560</th>\n",
       "      <td>면목동</td>\n",
       "      <td>1</td>\n",
       "      <td>0</td>\n",
       "      <td>0</td>\n",
       "      <td>0</td>\n",
       "      <td>1</td>\n",
       "      <td>2019-12-31 22:00:00</td>\n",
       "      <td>0.0</td>\n",
       "      <td>-</td>\n",
       "    </tr>\n",
       "    <tr>\n",
       "      <th>114561</th>\n",
       "      <td>수서동</td>\n",
       "      <td>1</td>\n",
       "      <td>0</td>\n",
       "      <td>0</td>\n",
       "      <td>1</td>\n",
       "      <td>0</td>\n",
       "      <td>2019-12-31 23:00:00</td>\n",
       "      <td>0.0</td>\n",
       "      <td>-</td>\n",
       "    </tr>\n",
       "    <tr>\n",
       "      <th>114562</th>\n",
       "      <td>역삼동</td>\n",
       "      <td>1</td>\n",
       "      <td>0</td>\n",
       "      <td>0</td>\n",
       "      <td>0</td>\n",
       "      <td>2</td>\n",
       "      <td>2019-12-31 23:00:00</td>\n",
       "      <td>0.0</td>\n",
       "      <td>-</td>\n",
       "    </tr>\n",
       "  </tbody>\n",
       "</table>\n",
       "<p>114563 rows × 9 columns</p>\n",
       "</div>"
      ],
      "text/plain": [
       "       법정동명  사고건수  사망자수  중상자수  경상자수  부상신고자수                발생일시  강수량(mm)  \\\n",
       "0       미아동     1     0     1     6       0 2017-01-01 00:00:00      NaN   \n",
       "1       상계동     1     0     0     1       0 2017-01-01 00:00:00      NaN   \n",
       "2       상도동     1     0     0     1       0 2017-01-01 00:00:00      NaN   \n",
       "3       서초동     1     0     0     1       0 2017-01-01 00:00:00      NaN   \n",
       "4       잠실동     1     0     0     1       0 2017-01-01 00:00:00      NaN   \n",
       "...     ...   ...   ...   ...   ...     ...                 ...      ...   \n",
       "114558  송파동     1     0     0     1       0 2019-12-31 22:00:00      0.0   \n",
       "114559  대림동     1     0     0     1       0 2019-12-31 22:00:00      0.0   \n",
       "114560  면목동     1     0     0     0       1 2019-12-31 22:00:00      0.0   \n",
       "114561  수서동     1     0     0     1       0 2019-12-31 23:00:00      0.0   \n",
       "114562  역삼동     1     0     0     0       2 2019-12-31 23:00:00      0.0   \n",
       "\n",
       "       일 최심신적설(cm)  \n",
       "0              NaN  \n",
       "1              NaN  \n",
       "2              NaN  \n",
       "3              NaN  \n",
       "4              NaN  \n",
       "...            ...  \n",
       "114558           -  \n",
       "114559           -  \n",
       "114560           -  \n",
       "114561           -  \n",
       "114562           -  \n",
       "\n",
       "[114563 rows x 9 columns]"
      ]
     },
     "execution_count": 54,
     "metadata": {},
     "output_type": "execute_result"
    }
   ],
   "source": [
    "ac_merged"
   ]
  },
  {
   "cell_type": "code",
   "execution_count": 55,
   "id": "471b58d2",
   "metadata": {},
   "outputs": [],
   "source": [
    "ac_merged[['강수량(mm)']] = ac_merged[['강수량(mm)']].apply(lambda x: np.where(x.isnull(), 0, np.where(x == 0.0, 0, 1)))\n",
    "ac_merged[['일 최심신적설(cm)']] = ac_merged[['일 최심신적설(cm)']].apply(lambda x: np.where(x.isnull(), 0, np.where(x == 0.0, 0, 1)))"
   ]
  },
  {
   "cell_type": "code",
   "execution_count": 56,
   "id": "c698c021",
   "metadata": {},
   "outputs": [],
   "source": [
    "ac_merged.set_index('발생일시', inplace=True)"
   ]
  },
  {
   "cell_type": "code",
   "execution_count": 57,
   "id": "b7584205",
   "metadata": {},
   "outputs": [],
   "source": [
    "ac_merged.columns = ['법정동명', '사고건수', '사망자수', '중상자수', '경상자수', '부상신고자수', '비', '눈']"
   ]
  },
  {
   "cell_type": "code",
   "execution_count": 58,
   "id": "7ccda17a",
   "metadata": {},
   "outputs": [],
   "source": [
    "dum = pd.get_dummies(ac_merged, columns=ac_merged.columns[0:6], prefix=ac_merged.columns[0:6])"
   ]
  },
  {
   "cell_type": "code",
   "execution_count": 59,
   "id": "e20a8063",
   "metadata": {},
   "outputs": [],
   "source": [
    "bad_cols = []\n",
    "for col in dum.columns:\n",
    "    if not dum[col].isin([0, 1]).all():\n",
    "        bad_cols.append(col)\n",
    "\n",
    "if bad_cols:\n",
    "    print(bad_cols)\n",
    "else:\n",
    "    pass"
   ]
  },
  {
   "cell_type": "code",
   "execution_count": 60,
   "id": "ea7bf5dc",
   "metadata": {},
   "outputs": [],
   "source": [
    "from mlxtend.frequent_patterns import apriori,association_rules"
   ]
  },
  {
   "cell_type": "code",
   "execution_count": 61,
   "id": "13fc50cf",
   "metadata": {},
   "outputs": [
    {
     "name": "stderr",
     "output_type": "stream",
     "text": [
      "c:\\Users\\user\\anaconda3\\envs\\crawling\\lib\\site-packages\\mlxtend\\frequent_patterns\\fpcommon.py:111: DeprecationWarning: DataFrames with non-bool types result in worse computationalperformance and their support might be discontinued in the future.Please use a DataFrame with bool type\n",
      "  warnings.warn(\n"
     ]
    },
    {
     "name": "stdout",
     "output_type": "stream",
     "text": [
      "Processing 108 combinations | Sampling itemset size 6\n"
     ]
    }
   ],
   "source": [
    "frequent_itemsets = apriori(dum, min_support=0.05, use_colnames=True, verbose= 1).sort_values(by='support', ascending=False)"
   ]
  },
  {
   "cell_type": "code",
   "execution_count": 62,
   "id": "cc72267c",
   "metadata": {},
   "outputs": [
    {
     "data": {
      "text/html": [
       "<div>\n",
       "<style scoped>\n",
       "    .dataframe tbody tr th:only-of-type {\n",
       "        vertical-align: middle;\n",
       "    }\n",
       "\n",
       "    .dataframe tbody tr th {\n",
       "        vertical-align: top;\n",
       "    }\n",
       "\n",
       "    .dataframe thead th {\n",
       "        text-align: right;\n",
       "    }\n",
       "</style>\n",
       "<table border=\"1\" class=\"dataframe\">\n",
       "  <thead>\n",
       "    <tr style=\"text-align: right;\">\n",
       "      <th></th>\n",
       "      <th>support</th>\n",
       "      <th>itemsets</th>\n",
       "    </tr>\n",
       "  </thead>\n",
       "  <tbody>\n",
       "    <tr>\n",
       "      <th>3</th>\n",
       "      <td>0.992275</td>\n",
       "      <td>(사망자수_0)</td>\n",
       "    </tr>\n",
       "    <tr>\n",
       "      <th>2</th>\n",
       "      <td>0.981006</td>\n",
       "      <td>(사고건수_1)</td>\n",
       "    </tr>\n",
       "    <tr>\n",
       "      <th>22</th>\n",
       "      <td>0.973560</td>\n",
       "      <td>(사망자수_0, 사고건수_1)</td>\n",
       "    </tr>\n",
       "    <tr>\n",
       "      <th>9</th>\n",
       "      <td>0.890645</td>\n",
       "      <td>(부상신고자수_0)</td>\n",
       "    </tr>\n",
       "    <tr>\n",
       "      <th>35</th>\n",
       "      <td>0.883104</td>\n",
       "      <td>(부상신고자수_0, 사망자수_0)</td>\n",
       "    </tr>\n",
       "    <tr>\n",
       "      <th>...</th>\n",
       "      <td>...</td>\n",
       "      <td>...</td>\n",
       "    </tr>\n",
       "    <tr>\n",
       "      <th>68</th>\n",
       "      <td>0.052137</td>\n",
       "      <td>(중상자수_0, 사망자수_0, 눈)</td>\n",
       "    </tr>\n",
       "    <tr>\n",
       "      <th>158</th>\n",
       "      <td>0.052129</td>\n",
       "      <td>(부상신고자수_0, 중상자수_1, 사고건수_1, 사망자수_0, 비, 경상자수_0)</td>\n",
       "    </tr>\n",
       "    <tr>\n",
       "      <th>152</th>\n",
       "      <td>0.052129</td>\n",
       "      <td>(부상신고자수_0, 중상자수_1, 사망자수_0, 비, 경상자수_0)</td>\n",
       "    </tr>\n",
       "    <tr>\n",
       "      <th>66</th>\n",
       "      <td>0.051570</td>\n",
       "      <td>(중상자수_0, 눈, 사고건수_1)</td>\n",
       "    </tr>\n",
       "    <tr>\n",
       "      <th>122</th>\n",
       "      <td>0.051116</td>\n",
       "      <td>(중상자수_0, 사망자수_0, 눈, 사고건수_1)</td>\n",
       "    </tr>\n",
       "  </tbody>\n",
       "</table>\n",
       "<p>159 rows × 2 columns</p>\n",
       "</div>"
      ],
      "text/plain": [
       "      support                                       itemsets\n",
       "3    0.992275                                       (사망자수_0)\n",
       "2    0.981006                                       (사고건수_1)\n",
       "22   0.973560                               (사망자수_0, 사고건수_1)\n",
       "9    0.890645                                     (부상신고자수_0)\n",
       "35   0.883104                             (부상신고자수_0, 사망자수_0)\n",
       "..        ...                                            ...\n",
       "68   0.052137                            (중상자수_0, 사망자수_0, 눈)\n",
       "158  0.052129  (부상신고자수_0, 중상자수_1, 사고건수_1, 사망자수_0, 비, 경상자수_0)\n",
       "152  0.052129          (부상신고자수_0, 중상자수_1, 사망자수_0, 비, 경상자수_0)\n",
       "66   0.051570                            (중상자수_0, 눈, 사고건수_1)\n",
       "122  0.051116                    (중상자수_0, 사망자수_0, 눈, 사고건수_1)\n",
       "\n",
       "[159 rows x 2 columns]"
      ]
     },
     "execution_count": 62,
     "metadata": {},
     "output_type": "execute_result"
    }
   ],
   "source": [
    "frequent_itemsets"
   ]
  },
  {
   "cell_type": "code",
   "execution_count": 63,
   "id": "07498cbf",
   "metadata": {},
   "outputs": [
    {
     "data": {
      "text/html": [
       "<div>\n",
       "<style scoped>\n",
       "    .dataframe tbody tr th:only-of-type {\n",
       "        vertical-align: middle;\n",
       "    }\n",
       "\n",
       "    .dataframe tbody tr th {\n",
       "        vertical-align: top;\n",
       "    }\n",
       "\n",
       "    .dataframe thead th {\n",
       "        text-align: right;\n",
       "    }\n",
       "</style>\n",
       "<table border=\"1\" class=\"dataframe\">\n",
       "  <thead>\n",
       "    <tr style=\"text-align: right;\">\n",
       "      <th></th>\n",
       "      <th>antecedents</th>\n",
       "      <th>consequents</th>\n",
       "      <th>antecedent support</th>\n",
       "      <th>consequent support</th>\n",
       "      <th>support</th>\n",
       "      <th>confidence</th>\n",
       "      <th>lift</th>\n",
       "      <th>leverage</th>\n",
       "      <th>conviction</th>\n",
       "    </tr>\n",
       "  </thead>\n",
       "  <tbody>\n",
       "    <tr>\n",
       "      <th>0</th>\n",
       "      <td>(사망자수_0)</td>\n",
       "      <td>(사고건수_1)</td>\n",
       "      <td>0.992275</td>\n",
       "      <td>0.981006</td>\n",
       "      <td>0.973560</td>\n",
       "      <td>0.981140</td>\n",
       "      <td>1.000136</td>\n",
       "      <td>0.000133</td>\n",
       "      <td>1.007085</td>\n",
       "    </tr>\n",
       "    <tr>\n",
       "      <th>1</th>\n",
       "      <td>(사고건수_1)</td>\n",
       "      <td>(사망자수_0)</td>\n",
       "      <td>0.981006</td>\n",
       "      <td>0.992275</td>\n",
       "      <td>0.973560</td>\n",
       "      <td>0.992410</td>\n",
       "      <td>1.000136</td>\n",
       "      <td>0.000133</td>\n",
       "      <td>1.017808</td>\n",
       "    </tr>\n",
       "    <tr>\n",
       "      <th>2</th>\n",
       "      <td>(부상신고자수_0)</td>\n",
       "      <td>(사망자수_0)</td>\n",
       "      <td>0.890645</td>\n",
       "      <td>0.992275</td>\n",
       "      <td>0.883104</td>\n",
       "      <td>0.991532</td>\n",
       "      <td>0.999252</td>\n",
       "      <td>-0.000661</td>\n",
       "      <td>0.912293</td>\n",
       "    </tr>\n",
       "    <tr>\n",
       "      <th>3</th>\n",
       "      <td>(사망자수_0)</td>\n",
       "      <td>(부상신고자수_0)</td>\n",
       "      <td>0.992275</td>\n",
       "      <td>0.890645</td>\n",
       "      <td>0.883104</td>\n",
       "      <td>0.889979</td>\n",
       "      <td>0.999252</td>\n",
       "      <td>-0.000661</td>\n",
       "      <td>0.993941</td>\n",
       "    </tr>\n",
       "    <tr>\n",
       "      <th>4</th>\n",
       "      <td>(부상신고자수_0)</td>\n",
       "      <td>(사고건수_1)</td>\n",
       "      <td>0.890645</td>\n",
       "      <td>0.981006</td>\n",
       "      <td>0.875335</td>\n",
       "      <td>0.982810</td>\n",
       "      <td>1.001839</td>\n",
       "      <td>0.001606</td>\n",
       "      <td>1.104928</td>\n",
       "    </tr>\n",
       "    <tr>\n",
       "      <th>...</th>\n",
       "      <td>...</td>\n",
       "      <td>...</td>\n",
       "      <td>...</td>\n",
       "      <td>...</td>\n",
       "      <td>...</td>\n",
       "      <td>...</td>\n",
       "      <td>...</td>\n",
       "      <td>...</td>\n",
       "      <td>...</td>\n",
       "    </tr>\n",
       "    <tr>\n",
       "      <th>482</th>\n",
       "      <td>(중상자수_1, 경상자수_0, 비)</td>\n",
       "      <td>(부상신고자수_0, 사망자수_0)</td>\n",
       "      <td>0.053525</td>\n",
       "      <td>0.883104</td>\n",
       "      <td>0.052129</td>\n",
       "      <td>0.973907</td>\n",
       "      <td>1.102823</td>\n",
       "      <td>0.004860</td>\n",
       "      <td>4.480054</td>\n",
       "    </tr>\n",
       "    <tr>\n",
       "      <th>483</th>\n",
       "      <td>(중상자수_0, 눈)</td>\n",
       "      <td>(사고건수_1)</td>\n",
       "      <td>0.052600</td>\n",
       "      <td>0.981006</td>\n",
       "      <td>0.051570</td>\n",
       "      <td>0.980418</td>\n",
       "      <td>0.999401</td>\n",
       "      <td>-0.000031</td>\n",
       "      <td>0.969977</td>\n",
       "    </tr>\n",
       "    <tr>\n",
       "      <th>484</th>\n",
       "      <td>(중상자수_0, 사망자수_0, 눈)</td>\n",
       "      <td>(사고건수_1)</td>\n",
       "      <td>0.052137</td>\n",
       "      <td>0.981006</td>\n",
       "      <td>0.051116</td>\n",
       "      <td>0.980412</td>\n",
       "      <td>0.999394</td>\n",
       "      <td>-0.000031</td>\n",
       "      <td>0.969664</td>\n",
       "    </tr>\n",
       "    <tr>\n",
       "      <th>485</th>\n",
       "      <td>(중상자수_0, 눈, 사고건수_1)</td>\n",
       "      <td>(사망자수_0)</td>\n",
       "      <td>0.051570</td>\n",
       "      <td>0.992275</td>\n",
       "      <td>0.051116</td>\n",
       "      <td>0.991198</td>\n",
       "      <td>0.998915</td>\n",
       "      <td>-0.000056</td>\n",
       "      <td>0.877680</td>\n",
       "    </tr>\n",
       "    <tr>\n",
       "      <th>486</th>\n",
       "      <td>(중상자수_0, 눈)</td>\n",
       "      <td>(사망자수_0, 사고건수_1)</td>\n",
       "      <td>0.052600</td>\n",
       "      <td>0.973560</td>\n",
       "      <td>0.051116</td>\n",
       "      <td>0.971789</td>\n",
       "      <td>0.998180</td>\n",
       "      <td>-0.000093</td>\n",
       "      <td>0.937206</td>\n",
       "    </tr>\n",
       "  </tbody>\n",
       "</table>\n",
       "<p>487 rows × 9 columns</p>\n",
       "</div>"
      ],
      "text/plain": [
       "             antecedents         consequents  antecedent support  \\\n",
       "0               (사망자수_0)            (사고건수_1)            0.992275   \n",
       "1               (사고건수_1)            (사망자수_0)            0.981006   \n",
       "2             (부상신고자수_0)            (사망자수_0)            0.890645   \n",
       "3               (사망자수_0)          (부상신고자수_0)            0.992275   \n",
       "4             (부상신고자수_0)            (사고건수_1)            0.890645   \n",
       "..                   ...                 ...                 ...   \n",
       "482  (중상자수_1, 경상자수_0, 비)  (부상신고자수_0, 사망자수_0)            0.053525   \n",
       "483          (중상자수_0, 눈)            (사고건수_1)            0.052600   \n",
       "484  (중상자수_0, 사망자수_0, 눈)            (사고건수_1)            0.052137   \n",
       "485  (중상자수_0, 눈, 사고건수_1)            (사망자수_0)            0.051570   \n",
       "486          (중상자수_0, 눈)    (사망자수_0, 사고건수_1)            0.052600   \n",
       "\n",
       "     consequent support   support  confidence      lift  leverage  conviction  \n",
       "0              0.981006  0.973560    0.981140  1.000136  0.000133    1.007085  \n",
       "1              0.992275  0.973560    0.992410  1.000136  0.000133    1.017808  \n",
       "2              0.992275  0.883104    0.991532  0.999252 -0.000661    0.912293  \n",
       "3              0.890645  0.883104    0.889979  0.999252 -0.000661    0.993941  \n",
       "4              0.981006  0.875335    0.982810  1.001839  0.001606    1.104928  \n",
       "..                  ...       ...         ...       ...       ...         ...  \n",
       "482            0.883104  0.052129    0.973907  1.102823  0.004860    4.480054  \n",
       "483            0.981006  0.051570    0.980418  0.999401 -0.000031    0.969977  \n",
       "484            0.981006  0.051116    0.980412  0.999394 -0.000031    0.969664  \n",
       "485            0.992275  0.051116    0.991198  0.998915 -0.000056    0.877680  \n",
       "486            0.973560  0.051116    0.971789  0.998180 -0.000093    0.937206  \n",
       "\n",
       "[487 rows x 9 columns]"
      ]
     },
     "execution_count": 63,
     "metadata": {},
     "output_type": "execute_result"
    }
   ],
   "source": [
    "association_rules(frequent_itemsets, metric=\"confidence\") "
   ]
  },
  {
   "cell_type": "code",
   "execution_count": 64,
   "id": "b5837758",
   "metadata": {},
   "outputs": [],
   "source": [
    "rules = association_rules(frequent_itemsets, metric=\"confidence\", min_threshold=0.6)\n",
    "rule_df = pd.DataFrame(rules)\n",
    "rules[\"consequents\"] = rules[\"consequents\"].apply(lambda x: ', '.join(list(x))).astype(\"unicode\")\n",
    "rules[\"antecedents\"] = rules[\"antecedents\"].apply(lambda x: ', '.join(list(x))).astype(\"unicode\")\n",
    "\n",
    "goodRule = rule_df[(rule_df['confidence'] > 0.3) & (rule_df['lift'] > 2.5)]\n",
    "goodRule = goodRule.reset_index()"
   ]
  },
  {
   "cell_type": "code",
   "execution_count": 65,
   "id": "51ea0d50",
   "metadata": {},
   "outputs": [
    {
     "data": {
      "text/html": [
       "<div>\n",
       "<style scoped>\n",
       "    .dataframe tbody tr th:only-of-type {\n",
       "        vertical-align: middle;\n",
       "    }\n",
       "\n",
       "    .dataframe tbody tr th {\n",
       "        vertical-align: top;\n",
       "    }\n",
       "\n",
       "    .dataframe thead th {\n",
       "        text-align: right;\n",
       "    }\n",
       "</style>\n",
       "<table border=\"1\" class=\"dataframe\">\n",
       "  <thead>\n",
       "    <tr style=\"text-align: right;\">\n",
       "      <th></th>\n",
       "      <th>index</th>\n",
       "      <th>antecedents</th>\n",
       "      <th>consequents</th>\n",
       "      <th>antecedent support</th>\n",
       "      <th>consequent support</th>\n",
       "      <th>support</th>\n",
       "      <th>confidence</th>\n",
       "      <th>lift</th>\n",
       "      <th>leverage</th>\n",
       "      <th>conviction</th>\n",
       "    </tr>\n",
       "  </thead>\n",
       "  <tbody>\n",
       "    <tr>\n",
       "      <th>0</th>\n",
       "      <td>206</td>\n",
       "      <td>중상자수_1</td>\n",
       "      <td>경상자수_0</td>\n",
       "      <td>0.248160</td>\n",
       "      <td>0.291639</td>\n",
       "      <td>0.200798</td>\n",
       "      <td>0.809145</td>\n",
       "      <td>2.774479</td>\n",
       "      <td>0.128425</td>\n",
       "      <td>3.711521</td>\n",
       "    </tr>\n",
       "    <tr>\n",
       "      <th>1</th>\n",
       "      <td>207</td>\n",
       "      <td>경상자수_0</td>\n",
       "      <td>중상자수_1</td>\n",
       "      <td>0.291639</td>\n",
       "      <td>0.248160</td>\n",
       "      <td>0.200798</td>\n",
       "      <td>0.688516</td>\n",
       "      <td>2.774479</td>\n",
       "      <td>0.128425</td>\n",
       "      <td>2.413732</td>\n",
       "    </tr>\n",
       "    <tr>\n",
       "      <th>2</th>\n",
       "      <td>209</td>\n",
       "      <td>중상자수_1, 사망자수_0</td>\n",
       "      <td>경상자수_0</td>\n",
       "      <td>0.247567</td>\n",
       "      <td>0.291639</td>\n",
       "      <td>0.200422</td>\n",
       "      <td>0.809569</td>\n",
       "      <td>2.775932</td>\n",
       "      <td>0.128222</td>\n",
       "      <td>3.719782</td>\n",
       "    </tr>\n",
       "    <tr>\n",
       "      <th>3</th>\n",
       "      <td>210</td>\n",
       "      <td>경상자수_0, 사망자수_0</td>\n",
       "      <td>중상자수_1</td>\n",
       "      <td>0.284987</td>\n",
       "      <td>0.248160</td>\n",
       "      <td>0.200422</td>\n",
       "      <td>0.703268</td>\n",
       "      <td>2.833926</td>\n",
       "      <td>0.129700</td>\n",
       "      <td>2.533734</td>\n",
       "    </tr>\n",
       "    <tr>\n",
       "      <th>4</th>\n",
       "      <td>211</td>\n",
       "      <td>중상자수_1</td>\n",
       "      <td>경상자수_0, 사망자수_0</td>\n",
       "      <td>0.248160</td>\n",
       "      <td>0.284987</td>\n",
       "      <td>0.200422</td>\n",
       "      <td>0.807633</td>\n",
       "      <td>2.833926</td>\n",
       "      <td>0.129700</td>\n",
       "      <td>3.716916</td>\n",
       "    </tr>\n",
       "    <tr>\n",
       "      <th>...</th>\n",
       "      <td>...</td>\n",
       "      <td>...</td>\n",
       "      <td>...</td>\n",
       "      <td>...</td>\n",
       "      <td>...</td>\n",
       "      <td>...</td>\n",
       "      <td>...</td>\n",
       "      <td>...</td>\n",
       "      <td>...</td>\n",
       "      <td>...</td>\n",
       "    </tr>\n",
       "    <tr>\n",
       "      <th>139</th>\n",
       "      <td>682</td>\n",
       "      <td>부상신고자수_0, 경상자수_0, 비</td>\n",
       "      <td>중상자수_1, 사망자수_0</td>\n",
       "      <td>0.056877</td>\n",
       "      <td>0.247567</td>\n",
       "      <td>0.052129</td>\n",
       "      <td>0.916513</td>\n",
       "      <td>3.702084</td>\n",
       "      <td>0.038048</td>\n",
       "      <td>9.012600</td>\n",
       "    </tr>\n",
       "    <tr>\n",
       "      <th>140</th>\n",
       "      <td>683</td>\n",
       "      <td>중상자수_1, 비, 사망자수_0</td>\n",
       "      <td>부상신고자수_0, 경상자수_0</td>\n",
       "      <td>0.067160</td>\n",
       "      <td>0.213446</td>\n",
       "      <td>0.052129</td>\n",
       "      <td>0.776189</td>\n",
       "      <td>3.636469</td>\n",
       "      <td>0.037794</td>\n",
       "      <td>3.514371</td>\n",
       "    </tr>\n",
       "    <tr>\n",
       "      <th>141</th>\n",
       "      <td>685</td>\n",
       "      <td>사망자수_0, 경상자수_0, 비</td>\n",
       "      <td>부상신고자수_0, 중상자수_1</td>\n",
       "      <td>0.076534</td>\n",
       "      <td>0.239528</td>\n",
       "      <td>0.052129</td>\n",
       "      <td>0.681113</td>\n",
       "      <td>2.843569</td>\n",
       "      <td>0.033796</td>\n",
       "      <td>2.384772</td>\n",
       "    </tr>\n",
       "    <tr>\n",
       "      <th>142</th>\n",
       "      <td>686</td>\n",
       "      <td>중상자수_1, 비</td>\n",
       "      <td>부상신고자수_0, 사망자수_0, 경상자수_0</td>\n",
       "      <td>0.067317</td>\n",
       "      <td>0.206899</td>\n",
       "      <td>0.052129</td>\n",
       "      <td>0.774378</td>\n",
       "      <td>3.742776</td>\n",
       "      <td>0.038201</td>\n",
       "      <td>3.515168</td>\n",
       "    </tr>\n",
       "    <tr>\n",
       "      <th>143</th>\n",
       "      <td>687</td>\n",
       "      <td>경상자수_0, 비</td>\n",
       "      <td>부상신고자수_0, 중상자수_1, 사망자수_0</td>\n",
       "      <td>0.078367</td>\n",
       "      <td>0.238969</td>\n",
       "      <td>0.052129</td>\n",
       "      <td>0.665182</td>\n",
       "      <td>2.783548</td>\n",
       "      <td>0.033401</td>\n",
       "      <td>2.272966</td>\n",
       "    </tr>\n",
       "  </tbody>\n",
       "</table>\n",
       "<p>144 rows × 10 columns</p>\n",
       "</div>"
      ],
      "text/plain": [
       "     index          antecedents               consequents  antecedent support  \\\n",
       "0      206               중상자수_1                    경상자수_0            0.248160   \n",
       "1      207               경상자수_0                    중상자수_1            0.291639   \n",
       "2      209       중상자수_1, 사망자수_0                    경상자수_0            0.247567   \n",
       "3      210       경상자수_0, 사망자수_0                    중상자수_1            0.284987   \n",
       "4      211               중상자수_1            경상자수_0, 사망자수_0            0.248160   \n",
       "..     ...                  ...                       ...                 ...   \n",
       "139    682  부상신고자수_0, 경상자수_0, 비            중상자수_1, 사망자수_0            0.056877   \n",
       "140    683    중상자수_1, 비, 사망자수_0          부상신고자수_0, 경상자수_0            0.067160   \n",
       "141    685    사망자수_0, 경상자수_0, 비          부상신고자수_0, 중상자수_1            0.076534   \n",
       "142    686            중상자수_1, 비  부상신고자수_0, 사망자수_0, 경상자수_0            0.067317   \n",
       "143    687            경상자수_0, 비  부상신고자수_0, 중상자수_1, 사망자수_0            0.078367   \n",
       "\n",
       "     consequent support   support  confidence      lift  leverage  conviction  \n",
       "0              0.291639  0.200798    0.809145  2.774479  0.128425    3.711521  \n",
       "1              0.248160  0.200798    0.688516  2.774479  0.128425    2.413732  \n",
       "2              0.291639  0.200422    0.809569  2.775932  0.128222    3.719782  \n",
       "3              0.248160  0.200422    0.703268  2.833926  0.129700    2.533734  \n",
       "4              0.284987  0.200422    0.807633  2.833926  0.129700    3.716916  \n",
       "..                  ...       ...         ...       ...       ...         ...  \n",
       "139            0.247567  0.052129    0.916513  3.702084  0.038048    9.012600  \n",
       "140            0.213446  0.052129    0.776189  3.636469  0.037794    3.514371  \n",
       "141            0.239528  0.052129    0.681113  2.843569  0.033796    2.384772  \n",
       "142            0.206899  0.052129    0.774378  3.742776  0.038201    3.515168  \n",
       "143            0.238969  0.052129    0.665182  2.783548  0.033401    2.272966  \n",
       "\n",
       "[144 rows x 10 columns]"
      ]
     },
     "execution_count": 65,
     "metadata": {},
     "output_type": "execute_result"
    }
   ],
   "source": [
    "goodRule"
   ]
  },
  {
   "cell_type": "code",
   "execution_count": 66,
   "id": "d09f2ba3",
   "metadata": {},
   "outputs": [
    {
     "data": {
      "text/html": [
       "<div>\n",
       "<style scoped>\n",
       "    .dataframe tbody tr th:only-of-type {\n",
       "        vertical-align: middle;\n",
       "    }\n",
       "\n",
       "    .dataframe tbody tr th {\n",
       "        vertical-align: top;\n",
       "    }\n",
       "\n",
       "    .dataframe thead th {\n",
       "        text-align: right;\n",
       "    }\n",
       "</style>\n",
       "<table border=\"1\" class=\"dataframe\">\n",
       "  <thead>\n",
       "    <tr style=\"text-align: right;\">\n",
       "      <th></th>\n",
       "      <th>antecedents</th>\n",
       "      <th>consequents</th>\n",
       "      <th>antecedent support</th>\n",
       "      <th>consequent support</th>\n",
       "      <th>support</th>\n",
       "      <th>confidence</th>\n",
       "      <th>lift</th>\n",
       "      <th>leverage</th>\n",
       "      <th>conviction</th>\n",
       "    </tr>\n",
       "  </thead>\n",
       "  <tbody>\n",
       "    <tr>\n",
       "      <th>0</th>\n",
       "      <td>사망자수_0</td>\n",
       "      <td>사고건수_1</td>\n",
       "      <td>0.992275</td>\n",
       "      <td>0.981006</td>\n",
       "      <td>0.973560</td>\n",
       "      <td>0.981140</td>\n",
       "      <td>1.000136</td>\n",
       "      <td>0.000133</td>\n",
       "      <td>1.007085</td>\n",
       "    </tr>\n",
       "    <tr>\n",
       "      <th>1</th>\n",
       "      <td>사고건수_1</td>\n",
       "      <td>사망자수_0</td>\n",
       "      <td>0.981006</td>\n",
       "      <td>0.992275</td>\n",
       "      <td>0.973560</td>\n",
       "      <td>0.992410</td>\n",
       "      <td>1.000136</td>\n",
       "      <td>0.000133</td>\n",
       "      <td>1.017808</td>\n",
       "    </tr>\n",
       "    <tr>\n",
       "      <th>2</th>\n",
       "      <td>부상신고자수_0</td>\n",
       "      <td>사망자수_0</td>\n",
       "      <td>0.890645</td>\n",
       "      <td>0.992275</td>\n",
       "      <td>0.883104</td>\n",
       "      <td>0.991532</td>\n",
       "      <td>0.999252</td>\n",
       "      <td>-0.000661</td>\n",
       "      <td>0.912293</td>\n",
       "    </tr>\n",
       "    <tr>\n",
       "      <th>3</th>\n",
       "      <td>사망자수_0</td>\n",
       "      <td>부상신고자수_0</td>\n",
       "      <td>0.992275</td>\n",
       "      <td>0.890645</td>\n",
       "      <td>0.883104</td>\n",
       "      <td>0.889979</td>\n",
       "      <td>0.999252</td>\n",
       "      <td>-0.000661</td>\n",
       "      <td>0.993941</td>\n",
       "    </tr>\n",
       "    <tr>\n",
       "      <th>4</th>\n",
       "      <td>부상신고자수_0</td>\n",
       "      <td>사고건수_1</td>\n",
       "      <td>0.890645</td>\n",
       "      <td>0.981006</td>\n",
       "      <td>0.875335</td>\n",
       "      <td>0.982810</td>\n",
       "      <td>1.001839</td>\n",
       "      <td>0.001606</td>\n",
       "      <td>1.104928</td>\n",
       "    </tr>\n",
       "    <tr>\n",
       "      <th>...</th>\n",
       "      <td>...</td>\n",
       "      <td>...</td>\n",
       "      <td>...</td>\n",
       "      <td>...</td>\n",
       "      <td>...</td>\n",
       "      <td>...</td>\n",
       "      <td>...</td>\n",
       "      <td>...</td>\n",
       "      <td>...</td>\n",
       "    </tr>\n",
       "    <tr>\n",
       "      <th>693</th>\n",
       "      <td>사망자수_0, 눈, 사고건수_1</td>\n",
       "      <td>중상자수_0</td>\n",
       "      <td>0.069970</td>\n",
       "      <td>0.730218</td>\n",
       "      <td>0.051116</td>\n",
       "      <td>0.730539</td>\n",
       "      <td>1.000439</td>\n",
       "      <td>0.000022</td>\n",
       "      <td>1.001190</td>\n",
       "    </tr>\n",
       "    <tr>\n",
       "      <th>694</th>\n",
       "      <td>중상자수_0, 눈</td>\n",
       "      <td>사망자수_0, 사고건수_1</td>\n",
       "      <td>0.052600</td>\n",
       "      <td>0.973560</td>\n",
       "      <td>0.051116</td>\n",
       "      <td>0.971789</td>\n",
       "      <td>0.998180</td>\n",
       "      <td>-0.000093</td>\n",
       "      <td>0.937206</td>\n",
       "    </tr>\n",
       "    <tr>\n",
       "      <th>695</th>\n",
       "      <td>사망자수_0, 눈</td>\n",
       "      <td>중상자수_0, 사고건수_1</td>\n",
       "      <td>0.071620</td>\n",
       "      <td>0.719499</td>\n",
       "      <td>0.051116</td>\n",
       "      <td>0.713711</td>\n",
       "      <td>0.991955</td>\n",
       "      <td>-0.000415</td>\n",
       "      <td>0.979782</td>\n",
       "    </tr>\n",
       "    <tr>\n",
       "      <th>696</th>\n",
       "      <td>눈, 사고건수_1</td>\n",
       "      <td>중상자수_0, 사망자수_0</td>\n",
       "      <td>0.070511</td>\n",
       "      <td>0.723288</td>\n",
       "      <td>0.051116</td>\n",
       "      <td>0.724932</td>\n",
       "      <td>1.002273</td>\n",
       "      <td>0.000116</td>\n",
       "      <td>1.005978</td>\n",
       "    </tr>\n",
       "    <tr>\n",
       "      <th>697</th>\n",
       "      <td>눈</td>\n",
       "      <td>중상자수_0, 사망자수_0, 사고건수_1</td>\n",
       "      <td>0.072187</td>\n",
       "      <td>0.712778</td>\n",
       "      <td>0.051116</td>\n",
       "      <td>0.708102</td>\n",
       "      <td>0.993439</td>\n",
       "      <td>-0.000338</td>\n",
       "      <td>0.983979</td>\n",
       "    </tr>\n",
       "  </tbody>\n",
       "</table>\n",
       "<p>698 rows × 9 columns</p>\n",
       "</div>"
      ],
      "text/plain": [
       "           antecedents             consequents  antecedent support  \\\n",
       "0               사망자수_0                  사고건수_1            0.992275   \n",
       "1               사고건수_1                  사망자수_0            0.981006   \n",
       "2             부상신고자수_0                  사망자수_0            0.890645   \n",
       "3               사망자수_0                부상신고자수_0            0.992275   \n",
       "4             부상신고자수_0                  사고건수_1            0.890645   \n",
       "..                 ...                     ...                 ...   \n",
       "693  사망자수_0, 눈, 사고건수_1                  중상자수_0            0.069970   \n",
       "694          중상자수_0, 눈          사망자수_0, 사고건수_1            0.052600   \n",
       "695          사망자수_0, 눈          중상자수_0, 사고건수_1            0.071620   \n",
       "696          눈, 사고건수_1          중상자수_0, 사망자수_0            0.070511   \n",
       "697                  눈  중상자수_0, 사망자수_0, 사고건수_1            0.072187   \n",
       "\n",
       "     consequent support   support  confidence      lift  leverage  conviction  \n",
       "0              0.981006  0.973560    0.981140  1.000136  0.000133    1.007085  \n",
       "1              0.992275  0.973560    0.992410  1.000136  0.000133    1.017808  \n",
       "2              0.992275  0.883104    0.991532  0.999252 -0.000661    0.912293  \n",
       "3              0.890645  0.883104    0.889979  0.999252 -0.000661    0.993941  \n",
       "4              0.981006  0.875335    0.982810  1.001839  0.001606    1.104928  \n",
       "..                  ...       ...         ...       ...       ...         ...  \n",
       "693            0.730218  0.051116    0.730539  1.000439  0.000022    1.001190  \n",
       "694            0.973560  0.051116    0.971789  0.998180 -0.000093    0.937206  \n",
       "695            0.719499  0.051116    0.713711  0.991955 -0.000415    0.979782  \n",
       "696            0.723288  0.051116    0.724932  1.002273  0.000116    1.005978  \n",
       "697            0.712778  0.051116    0.708102  0.993439 -0.000338    0.983979  \n",
       "\n",
       "[698 rows x 9 columns]"
      ]
     },
     "execution_count": 66,
     "metadata": {},
     "output_type": "execute_result"
    }
   ],
   "source": [
    "rules"
   ]
  },
  {
   "attachments": {},
   "cell_type": "markdown",
   "id": "b189d2c7",
   "metadata": {},
   "source": [
    "### 지금은 전부 다 사용해서 시각화 한 것으로 보기 어렵습니다.\n",
    "### 두가지 방법으로 시각화 해보겠습니다.\n",
    "### 나중에 사용하신다면 모델 파라미터 변경하고, antecedents, consequents에서 포함되는 거 찾아서 해당 index만 뽑아 사용하면 보다 보기 편합니다."
   ]
  },
  {
   "cell_type": "code",
   "execution_count": 67,
   "id": "95a52da3",
   "metadata": {},
   "outputs": [],
   "source": [
    "import networkx as nx\n",
    "import plotly.express as px"
   ]
  },
  {
   "cell_type": "code",
   "execution_count": 68,
   "id": "ac59c57e",
   "metadata": {},
   "outputs": [
    {
     "data": {
      "application/vnd.plotly.v1+json": {
       "config": {
        "plotlyServerURL": "https://plot.ly"
       },
       "data": [
        {
         "dimensions": [
          {
           "label": "antecedents",
           "values": [
            "중상자수_1",
            "경상자수_0",
            "중상자수_1, 사망자수_0",
            "경상자수_0, 사망자수_0",
            "중상자수_1",
            "경상자수_0",
            "중상자수_1, 사고건수_1",
            "경상자수_0, 사고건수_1",
            "중상자수_1",
            "경상자수_0",
            "중상자수_1, 사고건수_1, 사망자수_0",
            "경상자수_0, 사고건수_1, 사망자수_0",
            "중상자수_1, 사고건수_1",
            "중상자수_1, 사망자수_0",
            "경상자수_0, 사고건수_1",
            "경상자수_0, 사망자수_0",
            "중상자수_1",
            "경상자수_0",
            "부상신고자수_0, 중상자수_1",
            "부상신고자수_0, 경상자수_0",
            "중상자수_1",
            "경상자수_0",
            "부상신고자수_0, 중상자수_1, 사고건수_1",
            "부상신고자수_0, 경상자수_0, 사고건수_1",
            "부상신고자수_0, 중상자수_1",
            "부상신고자수_0, 경상자수_0",
            "중상자수_1, 사고건수_1",
            "경상자수_0, 사고건수_1",
            "중상자수_1",
            "경상자수_0",
            "부상신고자수_0, 중상자수_1, 사고건수_1, 사망자수_0",
            "부상신고자수_0, 사망자수_0, 사고건수_1, 경상자수_0",
            "부상신고자수_0, 중상자수_1, 사고건수_1",
            "부상신고자수_0, 중상자수_1, 사망자수_0",
            "부상신고자수_0, 경상자수_0, 사고건수_1",
            "부상신고자수_0, 사망자수_0, 경상자수_0",
            "중상자수_1, 사고건수_1, 사망자수_0",
            "사망자수_0, 사고건수_1, 경상자수_0",
            "부상신고자수_0, 중상자수_1",
            "부상신고자수_0, 경상자수_0",
            "중상자수_1, 사고건수_1",
            "중상자수_1, 사망자수_0",
            "경상자수_0, 사고건수_1",
            "사망자수_0, 경상자수_0",
            "중상자수_1",
            "경상자수_0",
            "부상신고자수_0, 중상자수_1, 사망자수_0",
            "부상신고자수_0, 경상자수_0, 사망자수_0",
            "부상신고자수_0, 중상자수_1",
            "부상신고자수_0, 경상자수_0",
            "중상자수_1, 사망자수_0",
            "경상자수_0, 사망자수_0",
            "중상자수_1",
            "경상자수_0",
            "부상신고자수_1",
            "부상신고자수_1, 사망자수_0",
            "부상신고자수_1",
            "부상신고자수_1, 사고건수_1",
            "부상신고자수_1",
            "부상신고자수_1, 사고건수_1, 사망자수_0",
            "부상신고자수_1, 사고건수_1",
            "부상신고자수_1, 사망자수_0",
            "부상신고자수_1",
            "중상자수_0, 부상신고자수_1",
            "중상자수_0, 경상자수_0",
            "부상신고자수_1",
            "중상자수_0, 부상신고자수_1, 사고건수_1",
            "중상자수_0, 경상자수_0, 사고건수_1",
            "중상자수_0, 부상신고자수_1",
            "중상자수_0, 경상자수_0",
            "부상신고자수_1, 사고건수_1",
            "부상신고자수_1",
            "중상자수_0, 부상신고자수_1, 사망자수_0",
            "중상자수_0, 경상자수_0, 사망자수_0",
            "중상자수_0, 부상신고자수_1",
            "중상자수_0, 경상자수_0",
            "부상신고자수_1, 사망자수_0",
            "부상신고자수_1",
            "중상자수_0, 부상신고자수_1, 사고건수_1, 사망자수_0",
            "중상자수_0, 사망자수_0, 사고건수_1, 경상자수_0",
            "중상자수_0, 부상신고자수_1, 사고건수_1",
            "중상자수_0, 경상자수_0, 사고건수_1",
            "중상자수_0, 부상신고자수_1, 사망자수_0",
            "중상자수_0, 사망자수_0, 경상자수_0",
            "부상신고자수_1, 사고건수_1, 사망자수_0",
            "중상자수_0, 부상신고자수_1",
            "중상자수_0, 경상자수_0",
            "부상신고자수_1, 사고건수_1",
            "부상신고자수_1, 사망자수_0",
            "부상신고자수_1",
            "중상자수_1, 비",
            "경상자수_0, 비",
            "중상자수_1, 비, 사망자수_0",
            "사망자수_0, 경상자수_0, 비",
            "중상자수_1, 비",
            "경상자수_0, 비",
            "중상자수_1, 사고건수_1, 비",
            "경상자수_0, 사고건수_1, 비",
            "중상자수_1, 비",
            "경상자수_0, 비",
            "중상자수_1, 사고건수_1, 비, 사망자수_0",
            "사망자수_0, 사고건수_1, 경상자수_0, 비",
            "중상자수_1, 사고건수_1, 비",
            "중상자수_1, 비, 사망자수_0",
            "경상자수_0, 사고건수_1, 비",
            "사망자수_0, 경상자수_0, 비",
            "중상자수_1, 비",
            "경상자수_0, 비",
            "부상신고자수_0, 중상자수_1, 비",
            "부상신고자수_0, 경상자수_0, 비",
            "중상자수_1, 비",
            "경상자수_0, 비",
            "부상신고자수_0, 중상자수_1, 사고건수_1, 비",
            "부상신고자수_0, 경상자수_0, 사고건수_1, 비",
            "부상신고자수_0, 중상자수_1, 비",
            "부상신고자수_0, 경상자수_0, 비",
            "중상자수_1, 사고건수_1, 비",
            "경상자수_0, 사고건수_1, 비",
            "중상자수_1, 비",
            "경상자수_0, 비",
            "부상신고자수_0, 중상자수_1, 사고건수_1, 사망자수_0, 비",
            "부상신고자수_0, 사고건수_1, 사망자수_0, 비, 경상자수_0",
            "부상신고자수_0, 중상자수_1, 사고건수_1, 비",
            "부상신고자수_0, 중상자수_1, 비, 사망자수_0",
            "부상신고자수_0, 경상자수_0, 사고건수_1, 비",
            "부상신고자수_0, 사망자수_0, 경상자수_0, 비",
            "중상자수_1, 사고건수_1, 비, 사망자수_0",
            "사망자수_0, 사고건수_1, 경상자수_0, 비",
            "부상신고자수_0, 중상자수_1, 비",
            "부상신고자수_0, 경상자수_0, 비",
            "중상자수_1, 사고건수_1, 비",
            "중상자수_1, 비, 사망자수_0",
            "경상자수_0, 사고건수_1, 비",
            "사망자수_0, 경상자수_0, 비",
            "중상자수_1, 비",
            "경상자수_0, 비",
            "부상신고자수_0, 중상자수_1, 비, 사망자수_0",
            "부상신고자수_0, 사망자수_0, 경상자수_0, 비",
            "부상신고자수_0, 중상자수_1, 비",
            "부상신고자수_0, 경상자수_0, 비",
            "중상자수_1, 비, 사망자수_0",
            "사망자수_0, 경상자수_0, 비",
            "중상자수_1, 비",
            "경상자수_0, 비"
           ]
          },
          {
           "label": "lift",
           "values": [
            2.7744787483713775,
            2.7744787483713775,
            2.7759321658471032,
            2.8339255240728813,
            2.8339255240728813,
            2.775932165847103,
            2.841113884052152,
            2.7824363529050506,
            2.78243635290505,
            2.841113884052152,
            2.842298170534993,
            2.842299343563896,
            2.90222785412424,
            2.7841236455818197,
            2.7841236455818197,
            2.90222785412424,
            2.8422993435638957,
            2.842298170534993,
            2.806247988595232,
            3.700892307364344,
            3.700892307364344,
            2.8062479885952323,
            2.870220048970024,
            3.715758234649847,
            2.8212820276364985,
            3.799183816319679,
            3.799183816319679,
            2.8212820276364985,
            3.715758234649847,
            2.8702200489700243,
            2.871315223850741,
            3.8266754593253975,
            2.931976617847893,
            2.8228402316091743,
            3.7180324361646755,
            3.912414467910829,
            3.8007888641254293,
            2.8819969945328916,
            2.8819969945328916,
            3.8007888641254293,
            3.9124144679108284,
            3.7180324361646755,
            2.8228402316091747,
            2.931976617847893,
            3.8266754593253975,
            2.8713152238507416,
            2.8075478404230005,
            3.8108540782759994,
            2.86637282631848,
            3.7028276251551278,
            3.7028276251551273,
            2.8663728263184804,
            3.810854078275999,
            2.807547840423001,
            2.533048103062117,
            2.533679405866045,
            2.589377022843024,
            2.596703968075552,
            2.528264107512224,
            2.5973577991850414,
            2.655067734941413,
            2.529484218914608,
            2.5850998068949504,
            2.597056883865796,
            8.739858711274163,
            8.739858711274163,
            2.656819036555434,
            8.754239592055352,
            2.6108680711779173,
            9.024182699453604,
            9.024182699453604,
            8.754239592055352,
            2.5969957885805828,
            9.474364547542624,
            2.6552855142777663,
            8.743605355823652,
            8.743605355823652,
            9.474364547542624,
            2.656622667336384,
            9.491460116917475,
            2.716735804784989,
            8.759115077075666,
            2.6111413268813073,
            9.783837404113816,
            9.027125624486182,
            2.6697590772251414,
            9.027125624486182,
            9.783837404113815,
            8.759115077075666,
            9.491460116917475,
            2.7264028599669827,
            2.7522638329501583,
            2.728770308046821,
            2.8140462849269947,
            2.785939829926228,
            2.754813378522579,
            2.7990932329915488,
            2.760982397681845,
            2.7318654101053514,
            2.8159357240178835,
            2.801041458557498,
            2.8232079888318258,
            2.8606718410942995,
            2.7346718771524197,
            2.763978949329034,
            2.879604765592793,
            2.791976049873546,
            2.8184578464309578,
            2.7572270578361238,
            3.698794854819879,
            3.633448520644142,
            2.781241142979479,
            2.830594416830982,
            3.7175744557590304,
            2.771781848818727,
            3.7967339276281837,
            3.742515357037904,
            2.7991712184519053,
            3.6477584492474366,
            2.844420836849208,
            2.832281431567353,
            3.8332399503057815,
            2.89278296457752,
            2.7740410632702686,
            3.7215023487171766,
            3.9148188760751546,
            3.745012680419059,
            2.8621752982430015,
            2.8326894460247254,
            3.8000253894062412,
            3.855769267943089,
            3.6514009655936714,
            2.8019614567086952,
            2.9086504084429596,
            3.7583147734893356,
            2.8467703117555483,
            2.75901303560118,
            3.8131960716241005,
            2.8173325887872482,
            3.7020838281744535,
            3.636468642502052,
            2.84356854733061,
            3.7427760295412296,
            2.7835480321212795
           ]
          },
          {
           "label": "consequents",
           "values": [
            "경상자수_0",
            "중상자수_1",
            "경상자수_0",
            "중상자수_1",
            "경상자수_0, 사망자수_0",
            "중상자수_1, 사망자수_0",
            "경상자수_0",
            "중상자수_1",
            "경상자수_0, 사고건수_1",
            "중상자수_1, 사고건수_1",
            "경상자수_0",
            "중상자수_1",
            "경상자수_0, 사망자수_0",
            "경상자수_0, 사고건수_1",
            "중상자수_1, 사망자수_0",
            "중상자수_1, 사고건수_1",
            "경상자수_0, 사고건수_1, 사망자수_0",
            "중상자수_1, 사고건수_1, 사망자수_0",
            "경상자수_0",
            "중상자수_1",
            "부상신고자수_0, 경상자수_0",
            "부상신고자수_0, 중상자수_1",
            "경상자수_0",
            "중상자수_1",
            "경상자수_0, 사고건수_1",
            "중상자수_1, 사고건수_1",
            "부상신고자수_0, 경상자수_0",
            "부상신고자수_0, 중상자수_1",
            "부상신고자수_0, 경상자수_0, 사고건수_1",
            "부상신고자수_0, 중상자수_1, 사고건수_1",
            "경상자수_0",
            "중상자수_1",
            "사망자수_0, 경상자수_0",
            "경상자수_0, 사고건수_1",
            "중상자수_1, 사망자수_0",
            "중상자수_1, 사고건수_1",
            "부상신고자수_0, 경상자수_0",
            "부상신고자수_0, 중상자수_1",
            "사망자수_0, 사고건수_1, 경상자수_0",
            "중상자수_1, 사고건수_1, 사망자수_0",
            "부상신고자수_0, 사망자수_0, 경상자수_0",
            "부상신고자수_0, 경상자수_0, 사고건수_1",
            "부상신고자수_0, 중상자수_1, 사망자수_0",
            "부상신고자수_0, 중상자수_1, 사고건수_1",
            "부상신고자수_0, 사망자수_0, 사고건수_1, 경상자수_0",
            "부상신고자수_0, 중상자수_1, 사고건수_1, 사망자수_0",
            "경상자수_0",
            "중상자수_1",
            "경상자수_0, 사망자수_0",
            "중상자수_1, 사망자수_0",
            "부상신고자수_0, 경상자수_0",
            "부상신고자수_0, 중상자수_1",
            "부상신고자수_0, 경상자수_0, 사망자수_0",
            "부상신고자수_0, 중상자수_1, 사망자수_0",
            "경상자수_0",
            "경상자수_0",
            "경상자수_0, 사망자수_0",
            "경상자수_0",
            "경상자수_0, 사고건수_1",
            "경상자수_0",
            "경상자수_0, 사망자수_0",
            "경상자수_0, 사고건수_1",
            "경상자수_0, 사고건수_1, 사망자수_0",
            "경상자수_0",
            "부상신고자수_1",
            "중상자수_0, 경상자수_0",
            "경상자수_0",
            "부상신고자수_1",
            "경상자수_0, 사고건수_1",
            "부상신고자수_1, 사고건수_1",
            "중상자수_0, 경상자수_0",
            "중상자수_0, 경상자수_0, 사고건수_1",
            "경상자수_0",
            "부상신고자수_1",
            "경상자수_0, 사망자수_0",
            "부상신고자수_1, 사망자수_0",
            "중상자수_0, 경상자수_0",
            "중상자수_0, 경상자수_0, 사망자수_0",
            "경상자수_0",
            "부상신고자수_1",
            "사망자수_0, 경상자수_0",
            "부상신고자수_1, 사망자수_0",
            "경상자수_0, 사고건수_1",
            "부상신고자수_1, 사고건수_1",
            "중상자수_0, 경상자수_0",
            "사망자수_0, 사고건수_1, 경상자수_0",
            "부상신고자수_1, 사고건수_1, 사망자수_0",
            "중상자수_0, 사망자수_0, 경상자수_0",
            "중상자수_0, 경상자수_0, 사고건수_1",
            "중상자수_0, 사망자수_0, 사고건수_1, 경상자수_0",
            "경상자수_0",
            "중상자수_1",
            "경상자수_0",
            "중상자수_1",
            "사망자수_0, 경상자수_0",
            "중상자수_1, 사망자수_0",
            "경상자수_0",
            "중상자수_1",
            "경상자수_0, 사고건수_1",
            "중상자수_1, 사고건수_1",
            "경상자수_0",
            "중상자수_1",
            "사망자수_0, 경상자수_0",
            "경상자수_0, 사고건수_1",
            "중상자수_1, 사망자수_0",
            "중상자수_1, 사고건수_1",
            "사망자수_0, 사고건수_1, 경상자수_0",
            "중상자수_1, 사고건수_1, 사망자수_0",
            "경상자수_0",
            "중상자수_1",
            "부상신고자수_0, 경상자수_0",
            "부상신고자수_0, 중상자수_1",
            "경상자수_0",
            "중상자수_1",
            "경상자수_0, 사고건수_1",
            "중상자수_1, 사고건수_1",
            "부상신고자수_0, 경상자수_0",
            "부상신고자수_0, 중상자수_1",
            "부상신고자수_0, 경상자수_0, 사고건수_1",
            "부상신고자수_0, 중상자수_1, 사고건수_1",
            "경상자수_0",
            "중상자수_1",
            "사망자수_0, 경상자수_0",
            "경상자수_0, 사고건수_1",
            "중상자수_1, 사망자수_0",
            "중상자수_1, 사고건수_1",
            "부상신고자수_0, 경상자수_0",
            "부상신고자수_0, 중상자수_1",
            "사망자수_0, 사고건수_1, 경상자수_0",
            "중상자수_1, 사고건수_1, 사망자수_0",
            "부상신고자수_0, 사망자수_0, 경상자수_0",
            "부상신고자수_0, 경상자수_0, 사고건수_1",
            "부상신고자수_0, 중상자수_1, 사망자수_0",
            "부상신고자수_0, 중상자수_1, 사고건수_1",
            "부상신고자수_0, 사망자수_0, 사고건수_1, 경상자수_0",
            "부상신고자수_0, 중상자수_1, 사고건수_1, 사망자수_0",
            "경상자수_0",
            "중상자수_1",
            "사망자수_0, 경상자수_0",
            "중상자수_1, 사망자수_0",
            "부상신고자수_0, 경상자수_0",
            "부상신고자수_0, 중상자수_1",
            "부상신고자수_0, 사망자수_0, 경상자수_0",
            "부상신고자수_0, 중상자수_1, 사망자수_0"
           ]
          }
         ],
         "domain": {
          "x": [
           0,
           1
          ],
          "y": [
           0,
           1
          ]
         },
         "line": {
          "color": [
           2.7744787483713775,
           2.7744787483713775,
           2.7759321658471032,
           2.8339255240728813,
           2.8339255240728813,
           2.775932165847103,
           2.841113884052152,
           2.7824363529050506,
           2.78243635290505,
           2.841113884052152,
           2.842298170534993,
           2.842299343563896,
           2.90222785412424,
           2.7841236455818197,
           2.7841236455818197,
           2.90222785412424,
           2.8422993435638957,
           2.842298170534993,
           2.806247988595232,
           3.700892307364344,
           3.700892307364344,
           2.8062479885952323,
           2.870220048970024,
           3.715758234649847,
           2.8212820276364985,
           3.799183816319679,
           3.799183816319679,
           2.8212820276364985,
           3.715758234649847,
           2.8702200489700243,
           2.871315223850741,
           3.8266754593253975,
           2.931976617847893,
           2.8228402316091743,
           3.7180324361646755,
           3.912414467910829,
           3.8007888641254293,
           2.8819969945328916,
           2.8819969945328916,
           3.8007888641254293,
           3.9124144679108284,
           3.7180324361646755,
           2.8228402316091747,
           2.931976617847893,
           3.8266754593253975,
           2.8713152238507416,
           2.8075478404230005,
           3.8108540782759994,
           2.86637282631848,
           3.7028276251551278,
           3.7028276251551273,
           2.8663728263184804,
           3.810854078275999,
           2.807547840423001,
           2.533048103062117,
           2.533679405866045,
           2.589377022843024,
           2.596703968075552,
           2.528264107512224,
           2.5973577991850414,
           2.655067734941413,
           2.529484218914608,
           2.5850998068949504,
           2.597056883865796,
           8.739858711274163,
           8.739858711274163,
           2.656819036555434,
           8.754239592055352,
           2.6108680711779173,
           9.024182699453604,
           9.024182699453604,
           8.754239592055352,
           2.5969957885805828,
           9.474364547542624,
           2.6552855142777663,
           8.743605355823652,
           8.743605355823652,
           9.474364547542624,
           2.656622667336384,
           9.491460116917475,
           2.716735804784989,
           8.759115077075666,
           2.6111413268813073,
           9.783837404113816,
           9.027125624486182,
           2.6697590772251414,
           9.027125624486182,
           9.783837404113815,
           8.759115077075666,
           9.491460116917475,
           2.7264028599669827,
           2.7522638329501583,
           2.728770308046821,
           2.8140462849269947,
           2.785939829926228,
           2.754813378522579,
           2.7990932329915488,
           2.760982397681845,
           2.7318654101053514,
           2.8159357240178835,
           2.801041458557498,
           2.8232079888318258,
           2.8606718410942995,
           2.7346718771524197,
           2.763978949329034,
           2.879604765592793,
           2.791976049873546,
           2.8184578464309578,
           2.7572270578361238,
           3.698794854819879,
           3.633448520644142,
           2.781241142979479,
           2.830594416830982,
           3.7175744557590304,
           2.771781848818727,
           3.7967339276281837,
           3.742515357037904,
           2.7991712184519053,
           3.6477584492474366,
           2.844420836849208,
           2.832281431567353,
           3.8332399503057815,
           2.89278296457752,
           2.7740410632702686,
           3.7215023487171766,
           3.9148188760751546,
           3.745012680419059,
           2.8621752982430015,
           2.8326894460247254,
           3.8000253894062412,
           3.855769267943089,
           3.6514009655936714,
           2.8019614567086952,
           2.9086504084429596,
           3.7583147734893356,
           2.8467703117555483,
           2.75901303560118,
           3.8131960716241005,
           2.8173325887872482,
           3.7020838281744535,
           3.636468642502052,
           2.84356854733061,
           3.7427760295412296,
           2.7835480321212795
          ],
          "coloraxis": "coloraxis"
         },
         "name": "",
         "type": "parcats"
        }
       ],
       "layout": {
        "coloraxis": {
         "colorbar": {
          "len": 0.6,
          "orientation": "h",
          "thickness": 15,
          "title": {
           "text": "Color Bar"
          },
          "xanchor": "center",
          "y": 1
         },
         "colorscale": [
          [
           0,
           "#440154"
          ],
          [
           0.1111111111111111,
           "#482878"
          ],
          [
           0.2222222222222222,
           "#3e4989"
          ],
          [
           0.3333333333333333,
           "#31688e"
          ],
          [
           0.4444444444444444,
           "#26828e"
          ],
          [
           0.5555555555555556,
           "#1f9e89"
          ],
          [
           0.6666666666666666,
           "#35b779"
          ],
          [
           0.7777777777777778,
           "#6ece58"
          ],
          [
           0.8888888888888888,
           "#b5de2b"
          ],
          [
           1,
           "#fde725"
          ]
         ]
        },
        "height": 1500,
        "hovermode": "closest",
        "legend": {
         "orientation": "h",
         "tracegroupgap": 0,
         "x": 1,
         "xanchor": "right",
         "y": 1.02,
         "yanchor": "bottom"
        },
        "margin": {
         "b": 20,
         "l": 200,
         "r": 400,
         "t": 20
        },
        "template": {
         "data": {
          "bar": [
           {
            "error_x": {
             "color": "rgb(36,36,36)"
            },
            "error_y": {
             "color": "rgb(36,36,36)"
            },
            "marker": {
             "line": {
              "color": "white",
              "width": 0.5
             },
             "pattern": {
              "fillmode": "overlay",
              "size": 10,
              "solidity": 0.2
             }
            },
            "type": "bar"
           }
          ],
          "barpolar": [
           {
            "marker": {
             "line": {
              "color": "white",
              "width": 0.5
             },
             "pattern": {
              "fillmode": "overlay",
              "size": 10,
              "solidity": 0.2
             }
            },
            "type": "barpolar"
           }
          ],
          "carpet": [
           {
            "aaxis": {
             "endlinecolor": "rgb(36,36,36)",
             "gridcolor": "white",
             "linecolor": "white",
             "minorgridcolor": "white",
             "startlinecolor": "rgb(36,36,36)"
            },
            "baxis": {
             "endlinecolor": "rgb(36,36,36)",
             "gridcolor": "white",
             "linecolor": "white",
             "minorgridcolor": "white",
             "startlinecolor": "rgb(36,36,36)"
            },
            "type": "carpet"
           }
          ],
          "choropleth": [
           {
            "colorbar": {
             "outlinewidth": 1,
             "tickcolor": "rgb(36,36,36)",
             "ticks": "outside"
            },
            "type": "choropleth"
           }
          ],
          "contour": [
           {
            "colorbar": {
             "outlinewidth": 1,
             "tickcolor": "rgb(36,36,36)",
             "ticks": "outside"
            },
            "colorscale": [
             [
              0,
              "#440154"
             ],
             [
              0.1111111111111111,
              "#482878"
             ],
             [
              0.2222222222222222,
              "#3e4989"
             ],
             [
              0.3333333333333333,
              "#31688e"
             ],
             [
              0.4444444444444444,
              "#26828e"
             ],
             [
              0.5555555555555556,
              "#1f9e89"
             ],
             [
              0.6666666666666666,
              "#35b779"
             ],
             [
              0.7777777777777778,
              "#6ece58"
             ],
             [
              0.8888888888888888,
              "#b5de2b"
             ],
             [
              1,
              "#fde725"
             ]
            ],
            "type": "contour"
           }
          ],
          "contourcarpet": [
           {
            "colorbar": {
             "outlinewidth": 1,
             "tickcolor": "rgb(36,36,36)",
             "ticks": "outside"
            },
            "type": "contourcarpet"
           }
          ],
          "heatmap": [
           {
            "colorbar": {
             "outlinewidth": 1,
             "tickcolor": "rgb(36,36,36)",
             "ticks": "outside"
            },
            "colorscale": [
             [
              0,
              "#440154"
             ],
             [
              0.1111111111111111,
              "#482878"
             ],
             [
              0.2222222222222222,
              "#3e4989"
             ],
             [
              0.3333333333333333,
              "#31688e"
             ],
             [
              0.4444444444444444,
              "#26828e"
             ],
             [
              0.5555555555555556,
              "#1f9e89"
             ],
             [
              0.6666666666666666,
              "#35b779"
             ],
             [
              0.7777777777777778,
              "#6ece58"
             ],
             [
              0.8888888888888888,
              "#b5de2b"
             ],
             [
              1,
              "#fde725"
             ]
            ],
            "type": "heatmap"
           }
          ],
          "heatmapgl": [
           {
            "colorbar": {
             "outlinewidth": 1,
             "tickcolor": "rgb(36,36,36)",
             "ticks": "outside"
            },
            "colorscale": [
             [
              0,
              "#440154"
             ],
             [
              0.1111111111111111,
              "#482878"
             ],
             [
              0.2222222222222222,
              "#3e4989"
             ],
             [
              0.3333333333333333,
              "#31688e"
             ],
             [
              0.4444444444444444,
              "#26828e"
             ],
             [
              0.5555555555555556,
              "#1f9e89"
             ],
             [
              0.6666666666666666,
              "#35b779"
             ],
             [
              0.7777777777777778,
              "#6ece58"
             ],
             [
              0.8888888888888888,
              "#b5de2b"
             ],
             [
              1,
              "#fde725"
             ]
            ],
            "type": "heatmapgl"
           }
          ],
          "histogram": [
           {
            "marker": {
             "line": {
              "color": "white",
              "width": 0.6
             }
            },
            "type": "histogram"
           }
          ],
          "histogram2d": [
           {
            "colorbar": {
             "outlinewidth": 1,
             "tickcolor": "rgb(36,36,36)",
             "ticks": "outside"
            },
            "colorscale": [
             [
              0,
              "#440154"
             ],
             [
              0.1111111111111111,
              "#482878"
             ],
             [
              0.2222222222222222,
              "#3e4989"
             ],
             [
              0.3333333333333333,
              "#31688e"
             ],
             [
              0.4444444444444444,
              "#26828e"
             ],
             [
              0.5555555555555556,
              "#1f9e89"
             ],
             [
              0.6666666666666666,
              "#35b779"
             ],
             [
              0.7777777777777778,
              "#6ece58"
             ],
             [
              0.8888888888888888,
              "#b5de2b"
             ],
             [
              1,
              "#fde725"
             ]
            ],
            "type": "histogram2d"
           }
          ],
          "histogram2dcontour": [
           {
            "colorbar": {
             "outlinewidth": 1,
             "tickcolor": "rgb(36,36,36)",
             "ticks": "outside"
            },
            "colorscale": [
             [
              0,
              "#440154"
             ],
             [
              0.1111111111111111,
              "#482878"
             ],
             [
              0.2222222222222222,
              "#3e4989"
             ],
             [
              0.3333333333333333,
              "#31688e"
             ],
             [
              0.4444444444444444,
              "#26828e"
             ],
             [
              0.5555555555555556,
              "#1f9e89"
             ],
             [
              0.6666666666666666,
              "#35b779"
             ],
             [
              0.7777777777777778,
              "#6ece58"
             ],
             [
              0.8888888888888888,
              "#b5de2b"
             ],
             [
              1,
              "#fde725"
             ]
            ],
            "type": "histogram2dcontour"
           }
          ],
          "mesh3d": [
           {
            "colorbar": {
             "outlinewidth": 1,
             "tickcolor": "rgb(36,36,36)",
             "ticks": "outside"
            },
            "type": "mesh3d"
           }
          ],
          "parcoords": [
           {
            "line": {
             "colorbar": {
              "outlinewidth": 1,
              "tickcolor": "rgb(36,36,36)",
              "ticks": "outside"
             }
            },
            "type": "parcoords"
           }
          ],
          "pie": [
           {
            "automargin": true,
            "type": "pie"
           }
          ],
          "scatter": [
           {
            "fillpattern": {
             "fillmode": "overlay",
             "size": 10,
             "solidity": 0.2
            },
            "type": "scatter"
           }
          ],
          "scatter3d": [
           {
            "line": {
             "colorbar": {
              "outlinewidth": 1,
              "tickcolor": "rgb(36,36,36)",
              "ticks": "outside"
             }
            },
            "marker": {
             "colorbar": {
              "outlinewidth": 1,
              "tickcolor": "rgb(36,36,36)",
              "ticks": "outside"
             }
            },
            "type": "scatter3d"
           }
          ],
          "scattercarpet": [
           {
            "marker": {
             "colorbar": {
              "outlinewidth": 1,
              "tickcolor": "rgb(36,36,36)",
              "ticks": "outside"
             }
            },
            "type": "scattercarpet"
           }
          ],
          "scattergeo": [
           {
            "marker": {
             "colorbar": {
              "outlinewidth": 1,
              "tickcolor": "rgb(36,36,36)",
              "ticks": "outside"
             }
            },
            "type": "scattergeo"
           }
          ],
          "scattergl": [
           {
            "marker": {
             "colorbar": {
              "outlinewidth": 1,
              "tickcolor": "rgb(36,36,36)",
              "ticks": "outside"
             }
            },
            "type": "scattergl"
           }
          ],
          "scattermapbox": [
           {
            "marker": {
             "colorbar": {
              "outlinewidth": 1,
              "tickcolor": "rgb(36,36,36)",
              "ticks": "outside"
             }
            },
            "type": "scattermapbox"
           }
          ],
          "scatterpolar": [
           {
            "marker": {
             "colorbar": {
              "outlinewidth": 1,
              "tickcolor": "rgb(36,36,36)",
              "ticks": "outside"
             }
            },
            "type": "scatterpolar"
           }
          ],
          "scatterpolargl": [
           {
            "marker": {
             "colorbar": {
              "outlinewidth": 1,
              "tickcolor": "rgb(36,36,36)",
              "ticks": "outside"
             }
            },
            "type": "scatterpolargl"
           }
          ],
          "scatterternary": [
           {
            "marker": {
             "colorbar": {
              "outlinewidth": 1,
              "tickcolor": "rgb(36,36,36)",
              "ticks": "outside"
             }
            },
            "type": "scatterternary"
           }
          ],
          "surface": [
           {
            "colorbar": {
             "outlinewidth": 1,
             "tickcolor": "rgb(36,36,36)",
             "ticks": "outside"
            },
            "colorscale": [
             [
              0,
              "#440154"
             ],
             [
              0.1111111111111111,
              "#482878"
             ],
             [
              0.2222222222222222,
              "#3e4989"
             ],
             [
              0.3333333333333333,
              "#31688e"
             ],
             [
              0.4444444444444444,
              "#26828e"
             ],
             [
              0.5555555555555556,
              "#1f9e89"
             ],
             [
              0.6666666666666666,
              "#35b779"
             ],
             [
              0.7777777777777778,
              "#6ece58"
             ],
             [
              0.8888888888888888,
              "#b5de2b"
             ],
             [
              1,
              "#fde725"
             ]
            ],
            "type": "surface"
           }
          ],
          "table": [
           {
            "cells": {
             "fill": {
              "color": "rgb(237,237,237)"
             },
             "line": {
              "color": "white"
             }
            },
            "header": {
             "fill": {
              "color": "rgb(217,217,217)"
             },
             "line": {
              "color": "white"
             }
            },
            "type": "table"
           }
          ]
         },
         "layout": {
          "annotationdefaults": {
           "arrowhead": 0,
           "arrowwidth": 1
          },
          "autotypenumbers": "strict",
          "coloraxis": {
           "colorbar": {
            "outlinewidth": 1,
            "tickcolor": "rgb(36,36,36)",
            "ticks": "outside"
           }
          },
          "colorscale": {
           "diverging": [
            [
             0,
             "rgb(103,0,31)"
            ],
            [
             0.1,
             "rgb(178,24,43)"
            ],
            [
             0.2,
             "rgb(214,96,77)"
            ],
            [
             0.3,
             "rgb(244,165,130)"
            ],
            [
             0.4,
             "rgb(253,219,199)"
            ],
            [
             0.5,
             "rgb(247,247,247)"
            ],
            [
             0.6,
             "rgb(209,229,240)"
            ],
            [
             0.7,
             "rgb(146,197,222)"
            ],
            [
             0.8,
             "rgb(67,147,195)"
            ],
            [
             0.9,
             "rgb(33,102,172)"
            ],
            [
             1,
             "rgb(5,48,97)"
            ]
           ],
           "sequential": [
            [
             0,
             "#440154"
            ],
            [
             0.1111111111111111,
             "#482878"
            ],
            [
             0.2222222222222222,
             "#3e4989"
            ],
            [
             0.3333333333333333,
             "#31688e"
            ],
            [
             0.4444444444444444,
             "#26828e"
            ],
            [
             0.5555555555555556,
             "#1f9e89"
            ],
            [
             0.6666666666666666,
             "#35b779"
            ],
            [
             0.7777777777777778,
             "#6ece58"
            ],
            [
             0.8888888888888888,
             "#b5de2b"
            ],
            [
             1,
             "#fde725"
            ]
           ],
           "sequentialminus": [
            [
             0,
             "#440154"
            ],
            [
             0.1111111111111111,
             "#482878"
            ],
            [
             0.2222222222222222,
             "#3e4989"
            ],
            [
             0.3333333333333333,
             "#31688e"
            ],
            [
             0.4444444444444444,
             "#26828e"
            ],
            [
             0.5555555555555556,
             "#1f9e89"
            ],
            [
             0.6666666666666666,
             "#35b779"
            ],
            [
             0.7777777777777778,
             "#6ece58"
            ],
            [
             0.8888888888888888,
             "#b5de2b"
            ],
            [
             1,
             "#fde725"
            ]
           ]
          },
          "colorway": [
           "#1F77B4",
           "#FF7F0E",
           "#2CA02C",
           "#D62728",
           "#9467BD",
           "#8C564B",
           "#E377C2",
           "#7F7F7F",
           "#BCBD22",
           "#17BECF"
          ],
          "font": {
           "color": "rgb(36,36,36)"
          },
          "geo": {
           "bgcolor": "white",
           "lakecolor": "white",
           "landcolor": "white",
           "showlakes": true,
           "showland": true,
           "subunitcolor": "white"
          },
          "hoverlabel": {
           "align": "left"
          },
          "hovermode": "closest",
          "mapbox": {
           "style": "light"
          },
          "paper_bgcolor": "white",
          "plot_bgcolor": "white",
          "polar": {
           "angularaxis": {
            "gridcolor": "rgb(232,232,232)",
            "linecolor": "rgb(36,36,36)",
            "showgrid": false,
            "showline": true,
            "ticks": "outside"
           },
           "bgcolor": "white",
           "radialaxis": {
            "gridcolor": "rgb(232,232,232)",
            "linecolor": "rgb(36,36,36)",
            "showgrid": false,
            "showline": true,
            "ticks": "outside"
           }
          },
          "scene": {
           "xaxis": {
            "backgroundcolor": "white",
            "gridcolor": "rgb(232,232,232)",
            "gridwidth": 2,
            "linecolor": "rgb(36,36,36)",
            "showbackground": true,
            "showgrid": false,
            "showline": true,
            "ticks": "outside",
            "zeroline": false,
            "zerolinecolor": "rgb(36,36,36)"
           },
           "yaxis": {
            "backgroundcolor": "white",
            "gridcolor": "rgb(232,232,232)",
            "gridwidth": 2,
            "linecolor": "rgb(36,36,36)",
            "showbackground": true,
            "showgrid": false,
            "showline": true,
            "ticks": "outside",
            "zeroline": false,
            "zerolinecolor": "rgb(36,36,36)"
           },
           "zaxis": {
            "backgroundcolor": "white",
            "gridcolor": "rgb(232,232,232)",
            "gridwidth": 2,
            "linecolor": "rgb(36,36,36)",
            "showbackground": true,
            "showgrid": false,
            "showline": true,
            "ticks": "outside",
            "zeroline": false,
            "zerolinecolor": "rgb(36,36,36)"
           }
          },
          "shapedefaults": {
           "fillcolor": "black",
           "line": {
            "width": 0
           },
           "opacity": 0.3
          },
          "ternary": {
           "aaxis": {
            "gridcolor": "rgb(232,232,232)",
            "linecolor": "rgb(36,36,36)",
            "showgrid": false,
            "showline": true,
            "ticks": "outside"
           },
           "baxis": {
            "gridcolor": "rgb(232,232,232)",
            "linecolor": "rgb(36,36,36)",
            "showgrid": false,
            "showline": true,
            "ticks": "outside"
           },
           "bgcolor": "white",
           "caxis": {
            "gridcolor": "rgb(232,232,232)",
            "linecolor": "rgb(36,36,36)",
            "showgrid": false,
            "showline": true,
            "ticks": "outside"
           }
          },
          "title": {
           "x": 0.05
          },
          "xaxis": {
           "automargin": true,
           "gridcolor": "rgb(232,232,232)",
           "linecolor": "rgb(36,36,36)",
           "showgrid": false,
           "showline": true,
           "ticks": "outside",
           "title": {
            "standoff": 15
           },
           "zeroline": false,
           "zerolinecolor": "rgb(36,36,36)"
          },
          "yaxis": {
           "automargin": true,
           "gridcolor": "rgb(232,232,232)",
           "linecolor": "rgb(36,36,36)",
           "showgrid": false,
           "showline": true,
           "ticks": "outside",
           "title": {
            "standoff": 15
           },
           "zeroline": false,
           "zerolinecolor": "rgb(36,36,36)"
          }
         }
        },
        "width": 2000
       }
      }
     },
     "metadata": {},
     "output_type": "display_data"
    }
   ],
   "source": [
    "# lift 값 round해서 사용하면 가운데 부분이 보다 보기 편합니다.\n",
    "dimension_cats = ['antecedents','lift' ,'consequents']\n",
    "fig = px.parallel_categories(goodRule, dimensions=dimension_cats,color='lift', color_continuous_scale=px.colors.sequential.Viridis, width = 2000, height = 1500)\n",
    "fig.update_layout(\n",
    "\n",
    "\n",
    "    legend=dict(\n",
    "            orientation=\"h\",\n",
    "            yanchor=\"bottom\",\n",
    "            y=1.02,\n",
    "            xanchor=\"right\",\n",
    "            x=1\n",
    "            \n",
    "        ),\n",
    "    margin=dict(l=200, r=400, t=20, b=20),\n",
    "    template = 'simple_white',\n",
    "    hovermode='closest',\n",
    "    coloraxis_colorbar=dict(\n",
    "            x=None,\n",
    "            y=1,\n",
    "            xanchor = 'center',\n",
    "            thickness=15, # colorbar 두께 설정\n",
    "            len=0.6,\n",
    "            title=dict(text='Color Bar'),\n",
    "            orientation = 'h'\n",
    ")\n",
    ")\n",
    "fig.show()"
   ]
  },
  {
   "cell_type": "code",
   "execution_count": 69,
   "id": "5c766927",
   "metadata": {},
   "outputs": [
    {
     "data": {
      "image/png": "[encoded data removed]",
      "text/plain": [
       "<Figure size 1500x1500 with 1 Axes>"
      ]
     },
     "metadata": {},
     "output_type": "display_data"
    }
   ],
   "source": [
    "plt.figure(figsize=(15,15))\n",
    "# Create a directed graph object\n",
    "G = nx.DiGraph()\n",
    "\n",
    "# Add edges to the graph\n",
    "for i in range(len(goodRule)):\n",
    "    G.add_edge(goodRule.iloc[i]['antecedents'], goodRule.iloc[i]['consequents'], weight = round(goodRule.iloc[i]['lift'],2))\n",
    "\n",
    "elarge = [(u, v) for (u, v, d) in G.edges(data=True) if d[\"weight\"] > 5]\n",
    "esmall = [(u, v) for (u, v, d) in G.edges(data=True) if d[\"weight\"] <= 5]\n",
    "\n",
    "pos = nx.spring_layout(G, k = 0.7)\n",
    "# nodes\n",
    "nx.draw_networkx_nodes(G, pos)\n",
    "\n",
    "# edges\n",
    "nx.draw_networkx_edges(G, pos, edgelist=elarge)\n",
    "nx.draw_networkx_edges(\n",
    "    G, pos, edgelist=esmall, alpha=0.9, edge_color=\"b\", style=\"dashed\"\n",
    ")\n",
    "\n",
    "# node labels\n",
    "nx.draw_networkx_labels(G, pos, font_size=7, font_family=\"Malgun Gothic\")\n",
    "# edge weight labels\n",
    "edge_labels = nx.get_edge_attributes(G, \"weight\")\n",
    "nx.draw_networkx_edge_labels(G, pos, edge_labels)\n",
    "\n",
    "ax = plt.gca()\n",
    "ax.margins(0.08)\n",
    "plt.axis(\"off\")\n",
    "plt.tight_layout()\n",
    "plt.show()"
   ]
  },
  {
   "cell_type": "code",
   "execution_count": null,
   "id": "773fe48f",
   "metadata": {},
   "outputs": [],
   "source": []
  }
 ],
 "metadata": {
  "kernelspec": {
   "display_name": "Python 3 (ipykernel)",
   "language": "python",
   "name": "python3"
  },
  "language_info": {
   "codemirror_mode": {
    "name": "ipython",
    "version": 3
   },
   "file_extension": ".py",
   "mimetype": "text/x-python",
   "name": "python",
   "nbconvert_exporter": "python",
   "pygments_lexer": "ipython3",
   "version": "3.9.15"
  }
 },
 "nbformat": 4,
 "nbformat_minor": 5
}
