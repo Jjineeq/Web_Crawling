{
 "cells": [
  {
   "cell_type": "code",
   "execution_count": 2,
   "id": "a5376dda",
   "metadata": {},
   "outputs": [
    {
     "data": {
      "text/html": [
       "<div>\n",
       "<style scoped>\n",
       "    .dataframe tbody tr th:only-of-type {\n",
       "        vertical-align: middle;\n",
       "    }\n",
       "\n",
       "    .dataframe tbody tr th {\n",
       "        vertical-align: top;\n",
       "    }\n",
       "\n",
       "    .dataframe thead th {\n",
       "        text-align: right;\n",
       "    }\n",
       "</style>\n",
       "<table border=\"1\" class=\"dataframe\">\n",
       "  <thead>\n",
       "    <tr style=\"text-align: right;\">\n",
       "      <th></th>\n",
       "      <th>사고건수</th>\n",
       "      <th>사망자수</th>\n",
       "      <th>중상자수</th>\n",
       "      <th>경상자수</th>\n",
       "      <th>부상신고자수</th>\n",
       "    </tr>\n",
       "    <tr>\n",
       "      <th>날짜</th>\n",
       "      <th></th>\n",
       "      <th></th>\n",
       "      <th></th>\n",
       "      <th></th>\n",
       "      <th></th>\n",
       "    </tr>\n",
       "  </thead>\n",
       "  <tbody>\n",
       "    <tr>\n",
       "      <th>2017-01-01</th>\n",
       "      <td>73</td>\n",
       "      <td>2</td>\n",
       "      <td>25</td>\n",
       "      <td>90</td>\n",
       "      <td>10</td>\n",
       "    </tr>\n",
       "    <tr>\n",
       "      <th>2017-01-02</th>\n",
       "      <td>82</td>\n",
       "      <td>4</td>\n",
       "      <td>27</td>\n",
       "      <td>92</td>\n",
       "      <td>17</td>\n",
       "    </tr>\n",
       "    <tr>\n",
       "      <th>2017-01-03</th>\n",
       "      <td>88</td>\n",
       "      <td>1</td>\n",
       "      <td>25</td>\n",
       "      <td>80</td>\n",
       "      <td>13</td>\n",
       "    </tr>\n",
       "    <tr>\n",
       "      <th>2017-01-04</th>\n",
       "      <td>115</td>\n",
       "      <td>1</td>\n",
       "      <td>39</td>\n",
       "      <td>99</td>\n",
       "      <td>25</td>\n",
       "    </tr>\n",
       "    <tr>\n",
       "      <th>2017-01-05</th>\n",
       "      <td>103</td>\n",
       "      <td>1</td>\n",
       "      <td>34</td>\n",
       "      <td>111</td>\n",
       "      <td>8</td>\n",
       "    </tr>\n",
       "    <tr>\n",
       "      <th>...</th>\n",
       "      <td>...</td>\n",
       "      <td>...</td>\n",
       "      <td>...</td>\n",
       "      <td>...</td>\n",
       "      <td>...</td>\n",
       "    </tr>\n",
       "    <tr>\n",
       "      <th>2019-12-27</th>\n",
       "      <td>94</td>\n",
       "      <td>0</td>\n",
       "      <td>27</td>\n",
       "      <td>88</td>\n",
       "      <td>14</td>\n",
       "    </tr>\n",
       "    <tr>\n",
       "      <th>2019-12-28</th>\n",
       "      <td>94</td>\n",
       "      <td>0</td>\n",
       "      <td>27</td>\n",
       "      <td>105</td>\n",
       "      <td>10</td>\n",
       "    </tr>\n",
       "    <tr>\n",
       "      <th>2019-12-29</th>\n",
       "      <td>78</td>\n",
       "      <td>1</td>\n",
       "      <td>26</td>\n",
       "      <td>87</td>\n",
       "      <td>7</td>\n",
       "    </tr>\n",
       "    <tr>\n",
       "      <th>2019-12-30</th>\n",
       "      <td>91</td>\n",
       "      <td>1</td>\n",
       "      <td>19</td>\n",
       "      <td>93</td>\n",
       "      <td>53</td>\n",
       "    </tr>\n",
       "    <tr>\n",
       "      <th>2019-12-31</th>\n",
       "      <td>106</td>\n",
       "      <td>2</td>\n",
       "      <td>20</td>\n",
       "      <td>102</td>\n",
       "      <td>12</td>\n",
       "    </tr>\n",
       "  </tbody>\n",
       "</table>\n",
       "<p>1095 rows × 5 columns</p>\n",
       "</div>"
      ],
      "text/plain": [
       "            사고건수  사망자수  중상자수  경상자수  부상신고자수\n",
       "날짜                                        \n",
       "2017-01-01    73     2    25    90      10\n",
       "2017-01-02    82     4    27    92      17\n",
       "2017-01-03    88     1    25    80      13\n",
       "2017-01-04   115     1    39    99      25\n",
       "2017-01-05   103     1    34   111       8\n",
       "...          ...   ...   ...   ...     ...\n",
       "2019-12-27    94     0    27    88      14\n",
       "2019-12-28    94     0    27   105      10\n",
       "2019-12-29    78     1    26    87       7\n",
       "2019-12-30    91     1    19    93      53\n",
       "2019-12-31   106     2    20   102      12\n",
       "\n",
       "[1095 rows x 5 columns]"
      ]
     },
     "execution_count": 2,
     "metadata": {},
     "output_type": "execute_result"
    }
   ],
   "source": [
    "import numpy as np\n",
    "import pandas as pd\n",
    "#교통사고 데이터(CSV파일) 불러오기\n",
    "accident_data = pd.read_csv(\"accident_data.csv\",encoding = 'EUC-KR')\n",
    "\n",
    "#쓰지않는 데이터 열 삭제\n",
    "del accident_data['발생시간']\n",
    "del accident_data['발생지_시군구']\n",
    "del accident_data['발생지_시도']\n",
    "del accident_data['법정동명']\n",
    "\n",
    "# '발생일'컬럼을 날짜 데이터로 변환\n",
    "accident_data['발생일'] = pd.to_datetime(accident_data['발생일'])\n",
    "\n",
    "#같은 날짜에 발생한 사건은 합치기\n",
    "accident_data_final = accident_data.groupby('발생일').sum()\n",
    "\n",
    "# 인덱스 이름 '날짜'로 변환\n",
    "accident_data_final.index.name = '날짜'\n",
    "accident_data_final"
   ]
  },
  {
   "cell_type": "code",
   "execution_count": 3,
   "id": "6563bbec",
   "metadata": {},
   "outputs": [
    {
     "name": "stderr",
     "output_type": "stream",
     "text": [
      "C:\\Users\\user\\AppData\\Local\\Temp\\ipykernel_12336\\1261135189.py:29: SettingWithCopyWarning: \n",
      "A value is trying to be set on a copy of a slice from a DataFrame.\n",
      "Try using .loc[row_indexer,col_indexer] = value instead\n",
      "\n",
      "See the caveats in the documentation: https://pandas.pydata.org/pandas-docs/stable/user_guide/indexing.html#returning-a-view-versus-a-copy\n",
      "  snow_df['눈'] = '눈'\n"
     ]
    }
   ],
   "source": [
    "# 강수량 데이터(CSV파일) 불러오기\n",
    "rain_df = pd.read_csv(\"rain_data.csv\",encoding = 'EUC-KR')\n",
    "\n",
    "# 날짜' 날짜데이터 형식으로 변환\n",
    "rain_df['날짜'] = pd.to_datetime(rain_df['날짜'])\n",
    "\n",
    "# 지점 열 삭제\n",
    "rain_df.drop('지점', axis=1, inplace=True)\n",
    "\n",
    "# 강수량 열 이름을 비로 변경\n",
    "rain_df.rename(columns={'강수량(mm)': '비'}, inplace=True)\n",
    "\n",
    "rain_df.loc[rain_df['비'].notnull(), '비'] = '비'\n",
    "\n",
    "# 눈일수 데이터(CSV파일) 불러오기\n",
    "snow_data = pd.read_csv(\"snow_data.csv\",encoding = 'EUC-KR')\n",
    "snow_df = snow_data\n",
    "\n",
    "# 연도와 날짜 열을 합치고 날짜 형식으로 변환\n",
    "snow_df['날짜'] = pd.to_datetime(snow_df['연도'].astype(str) + snow_df['날짜'].astype(str), format='%Y%m%d')\n",
    "\n",
    "# 기상현상 열 이름을 눈으로 변경\n",
    "snow_df.rename(columns={'기상현상': '눈'}, inplace=True)\n",
    "\n",
    "# 열의 순서 변경, 연도, 지점, 일 최심신적설(cm) 열 삭제\n",
    "snow_df = snow_df[['날짜', '눈']]\n",
    "\n",
    "# 데이터프레임의 '눈'열 값들을 '눈'으로 변경\n",
    "snow_df['눈'] = '눈'"
   ]
  },
  {
   "cell_type": "code",
   "execution_count": 4,
   "id": "653e7b41",
   "metadata": {},
   "outputs": [
    {
     "data": {
      "text/html": [
       "<div>\n",
       "<style scoped>\n",
       "    .dataframe tbody tr th:only-of-type {\n",
       "        vertical-align: middle;\n",
       "    }\n",
       "\n",
       "    .dataframe tbody tr th {\n",
       "        vertical-align: top;\n",
       "    }\n",
       "\n",
       "    .dataframe thead th {\n",
       "        text-align: right;\n",
       "    }\n",
       "</style>\n",
       "<table border=\"1\" class=\"dataframe\">\n",
       "  <thead>\n",
       "    <tr style=\"text-align: right;\">\n",
       "      <th></th>\n",
       "      <th>날짜</th>\n",
       "      <th>사고건수</th>\n",
       "      <th>사망자수</th>\n",
       "      <th>중상자수</th>\n",
       "      <th>경상자수</th>\n",
       "      <th>부상신고자수</th>\n",
       "      <th>비</th>\n",
       "      <th>눈</th>\n",
       "      <th>날씨</th>\n",
       "    </tr>\n",
       "  </thead>\n",
       "  <tbody>\n",
       "    <tr>\n",
       "      <th>0</th>\n",
       "      <td>2017-01-01</td>\n",
       "      <td>73</td>\n",
       "      <td>2</td>\n",
       "      <td>25</td>\n",
       "      <td>90</td>\n",
       "      <td>10</td>\n",
       "      <td></td>\n",
       "      <td></td>\n",
       "      <td></td>\n",
       "    </tr>\n",
       "    <tr>\n",
       "      <th>1</th>\n",
       "      <td>2017-01-02</td>\n",
       "      <td>82</td>\n",
       "      <td>4</td>\n",
       "      <td>27</td>\n",
       "      <td>92</td>\n",
       "      <td>17</td>\n",
       "      <td>비</td>\n",
       "      <td></td>\n",
       "      <td>비</td>\n",
       "    </tr>\n",
       "    <tr>\n",
       "      <th>2</th>\n",
       "      <td>2017-01-03</td>\n",
       "      <td>88</td>\n",
       "      <td>1</td>\n",
       "      <td>25</td>\n",
       "      <td>80</td>\n",
       "      <td>13</td>\n",
       "      <td></td>\n",
       "      <td></td>\n",
       "      <td></td>\n",
       "    </tr>\n",
       "    <tr>\n",
       "      <th>3</th>\n",
       "      <td>2017-01-04</td>\n",
       "      <td>115</td>\n",
       "      <td>1</td>\n",
       "      <td>39</td>\n",
       "      <td>99</td>\n",
       "      <td>25</td>\n",
       "      <td></td>\n",
       "      <td></td>\n",
       "      <td></td>\n",
       "    </tr>\n",
       "    <tr>\n",
       "      <th>4</th>\n",
       "      <td>2017-01-05</td>\n",
       "      <td>103</td>\n",
       "      <td>1</td>\n",
       "      <td>34</td>\n",
       "      <td>111</td>\n",
       "      <td>8</td>\n",
       "      <td></td>\n",
       "      <td></td>\n",
       "      <td></td>\n",
       "    </tr>\n",
       "    <tr>\n",
       "      <th>...</th>\n",
       "      <td>...</td>\n",
       "      <td>...</td>\n",
       "      <td>...</td>\n",
       "      <td>...</td>\n",
       "      <td>...</td>\n",
       "      <td>...</td>\n",
       "      <td>...</td>\n",
       "      <td>...</td>\n",
       "      <td>...</td>\n",
       "    </tr>\n",
       "    <tr>\n",
       "      <th>1091</th>\n",
       "      <td>2019-12-27</td>\n",
       "      <td>94</td>\n",
       "      <td>0</td>\n",
       "      <td>27</td>\n",
       "      <td>88</td>\n",
       "      <td>14</td>\n",
       "      <td></td>\n",
       "      <td></td>\n",
       "      <td></td>\n",
       "    </tr>\n",
       "    <tr>\n",
       "      <th>1092</th>\n",
       "      <td>2019-12-28</td>\n",
       "      <td>94</td>\n",
       "      <td>0</td>\n",
       "      <td>27</td>\n",
       "      <td>105</td>\n",
       "      <td>10</td>\n",
       "      <td></td>\n",
       "      <td></td>\n",
       "      <td></td>\n",
       "    </tr>\n",
       "    <tr>\n",
       "      <th>1093</th>\n",
       "      <td>2019-12-29</td>\n",
       "      <td>78</td>\n",
       "      <td>1</td>\n",
       "      <td>26</td>\n",
       "      <td>87</td>\n",
       "      <td>7</td>\n",
       "      <td>비</td>\n",
       "      <td></td>\n",
       "      <td>비</td>\n",
       "    </tr>\n",
       "    <tr>\n",
       "      <th>1094</th>\n",
       "      <td>2019-12-30</td>\n",
       "      <td>91</td>\n",
       "      <td>1</td>\n",
       "      <td>19</td>\n",
       "      <td>93</td>\n",
       "      <td>53</td>\n",
       "      <td>비</td>\n",
       "      <td>눈</td>\n",
       "      <td>비눈</td>\n",
       "    </tr>\n",
       "    <tr>\n",
       "      <th>1095</th>\n",
       "      <td>2019-12-31</td>\n",
       "      <td>106</td>\n",
       "      <td>2</td>\n",
       "      <td>20</td>\n",
       "      <td>102</td>\n",
       "      <td>12</td>\n",
       "      <td>비</td>\n",
       "      <td>눈</td>\n",
       "      <td>비눈</td>\n",
       "    </tr>\n",
       "  </tbody>\n",
       "</table>\n",
       "<p>1096 rows × 9 columns</p>\n",
       "</div>"
      ],
      "text/plain": [
       "             날짜  사고건수  사망자수  중상자수  경상자수  부상신고자수  비  눈  날씨\n",
       "0    2017-01-01    73     2    25    90      10          \n",
       "1    2017-01-02    82     4    27    92      17  비      비\n",
       "2    2017-01-03    88     1    25    80      13          \n",
       "3    2017-01-04   115     1    39    99      25          \n",
       "4    2017-01-05   103     1    34   111       8          \n",
       "...         ...   ...   ...   ...   ...     ... .. ..  ..\n",
       "1091 2019-12-27    94     0    27    88      14          \n",
       "1092 2019-12-28    94     0    27   105      10          \n",
       "1093 2019-12-29    78     1    26    87       7  비      비\n",
       "1094 2019-12-30    91     1    19    93      53  비  눈  비눈\n",
       "1095 2019-12-31   106     2    20   102      12  비  눈  비눈\n",
       "\n",
       "[1096 rows x 9 columns]"
      ]
     },
     "execution_count": 4,
     "metadata": {},
     "output_type": "execute_result"
    }
   ],
   "source": [
    "# 교통사고 데이터, 눈, 비 데이터프레임 합치기\n",
    "\n",
    "# 'accident_data_final' 데이터프레임과 'rain_df' 데이터프레임을 날짜를 기준으로 병합\n",
    "merged_df = pd.merge(accident_data_final, rain_df, on='날짜', how='left')\n",
    "\n",
    "# 'merged_df'와 'snow_df'를 날짜를 기준으로 병합\n",
    "merged_df = pd.merge(merged_df, snow_df, on='날짜', how='left')\n",
    "\n",
    "merged_df['비'].fillna('', inplace=True)\n",
    "merged_df['눈'].fillna('', inplace=True)\n",
    "\n",
    "merged_df['날씨'] = merged_df['비'] + merged_df['눈']\n",
    "merged_df"
   ]
  },
  {
   "cell_type": "code",
   "execution_count": 5,
   "id": "edf3c3c4",
   "metadata": {},
   "outputs": [
    {
     "name": "stdout",
     "output_type": "stream",
     "text": [
      "눈 개수: 9\n",
      "비 개수: 344\n",
      "비눈 개수: 68\n"
     ]
    }
   ],
   "source": [
    "snow_count = merged_df[merged_df['날씨'] == '눈'].shape[0]\n",
    "rain_count = merged_df[merged_df['날씨'] == '비'].shape[0]\n",
    "snow_rain_count = merged_df[merged_df['날씨'] == '비눈'].shape[0]\n",
    "\n",
    "merged_df['날씨'] = merged_df['날씨'].replace('', '맑음')\n",
    "merged_df['날씨'] = merged_df['날씨'].replace('비눈', '눈')\n",
    "\n",
    "print(\"눈 개수:\", snow_count)\n",
    "print(\"비 개수:\", rain_count)\n",
    "print(\"비눈 개수:\", snow_rain_count)"
   ]
  },
  {
   "cell_type": "code",
   "execution_count": 6,
   "id": "1e0082d7",
   "metadata": {},
   "outputs": [],
   "source": [
    "import seaborn as sns\n",
    "import matplotlib.pyplot as plt\n",
    "\n",
    "# 한글 폰트 사용을 위해서 세팅\n",
    "from matplotlib import font_manager, rc\n",
    "font_path = \"C:/Windows/Fonts/NGULIM.TTF\"\n",
    "font = font_manager.FontProperties(fname=font_path).get_name()\n",
    "rc('font', family=font)"
   ]
  },
  {
   "cell_type": "code",
   "execution_count": 7,
   "id": "ca3f6853",
   "metadata": {},
   "outputs": [],
   "source": [
    "import pandas as pd\n",
    "\n",
    "def sum_3_by_weather(dataframe):\n",
    "    grouped = dataframe.groupby('날씨')\n",
    "    sums = grouped['경상자수'].sum()\n",
    "    new_dataframe = pd.DataFrame({'날씨': sums.index, '경상자수_합계': sums.values})\n",
    "    return new_dataframe\n",
    "\n",
    "data = merged_df\n",
    "df = pd.DataFrame(data)\n",
    "\n",
    "result_df_3 = sum_3_by_weather(df)\n",
    "\n",
    "def sum_2_by_weather(dataframe):\n",
    "    grouped = dataframe.groupby('날씨')\n",
    "    sums = grouped['중상자수'].sum()\n",
    "    new_dataframe = pd.DataFrame({'날씨': sums.index, '중상자수_합계': sums.values})\n",
    "    return new_dataframe\n",
    "\n",
    "data = merged_df\n",
    "df = pd.DataFrame(data)\n",
    "\n",
    "result_df_2 = sum_2_by_weather(df)\n",
    "del result_df_2['날씨']\n",
    "\n",
    "def sum_1_by_weather(dataframe):\n",
    "    grouped = dataframe.groupby('날씨')\n",
    "    sums = grouped['사망자수'].sum()\n",
    "    new_dataframe = pd.DataFrame({'날씨': sums.index, '사망자수_합계': sums.values})\n",
    "    return new_dataframe\n",
    "\n",
    "data = merged_df\n",
    "df = pd.DataFrame(data)\n",
    "\n",
    "result_df_1 = sum_1_by_weather(df)\n",
    "del result_df_1['날씨']\n",
    "\n",
    "def sum_0_by_weather(dataframe):\n",
    "    grouped = dataframe.groupby('날씨')\n",
    "    sums = grouped['부상신고자수'].sum()\n",
    "    new_dataframe = pd.DataFrame({'날씨': sums.index, '부상자수_합계': sums.values})\n",
    "    return new_dataframe\n",
    "\n",
    "data = merged_df\n",
    "df = pd.DataFrame(data)\n",
    "\n",
    "result_df_0 = sum_0_by_weather(df)\n",
    "del result_df_0['날씨']"
   ]
  },
  {
   "cell_type": "code",
   "execution_count": 8,
   "id": "3797e330",
   "metadata": {},
   "outputs": [
    {
     "data": {
      "text/html": [
       "<div>\n",
       "<style scoped>\n",
       "    .dataframe tbody tr th:only-of-type {\n",
       "        vertical-align: middle;\n",
       "    }\n",
       "\n",
       "    .dataframe tbody tr th {\n",
       "        vertical-align: top;\n",
       "    }\n",
       "\n",
       "    .dataframe thead th {\n",
       "        text-align: right;\n",
       "    }\n",
       "</style>\n",
       "<table border=\"1\" class=\"dataframe\">\n",
       "  <thead>\n",
       "    <tr style=\"text-align: right;\">\n",
       "      <th></th>\n",
       "      <th>날씨</th>\n",
       "      <th>경상자수_합계</th>\n",
       "      <th>중상자수_합계</th>\n",
       "      <th>사망자수_합계</th>\n",
       "      <th>부상자수_합계</th>\n",
       "    </tr>\n",
       "  </thead>\n",
       "  <tbody>\n",
       "    <tr>\n",
       "      <th>0</th>\n",
       "      <td>눈</td>\n",
       "      <td>8369</td>\n",
       "      <td>2476</td>\n",
       "      <td>65</td>\n",
       "      <td>1007</td>\n",
       "    </tr>\n",
       "    <tr>\n",
       "      <th>1</th>\n",
       "      <td>맑음</td>\n",
       "      <td>69270</td>\n",
       "      <td>21150</td>\n",
       "      <td>530</td>\n",
       "      <td>8878</td>\n",
       "    </tr>\n",
       "    <tr>\n",
       "      <th>2</th>\n",
       "      <td>비</td>\n",
       "      <td>35542</td>\n",
       "      <td>10371</td>\n",
       "      <td>303</td>\n",
       "      <td>4565</td>\n",
       "    </tr>\n",
       "  </tbody>\n",
       "</table>\n",
       "</div>"
      ],
      "text/plain": [
       "   날씨  경상자수_합계  중상자수_합계  사망자수_합계  부상자수_합계\n",
       "0   눈     8369     2476       65     1007\n",
       "1  맑음    69270    21150      530     8878\n",
       "2   비    35542    10371      303     4565"
      ]
     },
     "execution_count": 8,
     "metadata": {},
     "output_type": "execute_result"
    }
   ],
   "source": [
    "final_result_df = pd.concat([result_df_3,result_df_2,result_df_1,result_df_0], axis=1)\n",
    "final_result_df"
   ]
  },
  {
   "cell_type": "code",
   "execution_count": 9,
   "id": "9f5f238b",
   "metadata": {},
   "outputs": [
    {
     "data": {
      "image/png": "[encoded data removed]",
      "text/plain": [
       "<Figure size 640x480 with 1 Axes>"
      ]
     },
     "metadata": {},
     "output_type": "display_data"
    }
   ],
   "source": [
    "asdf_1 = sns.barplot(x='날씨', y = '중상자수_합계', hue = '날씨', data = final_result_df)\n",
    "\n",
    "asdf_2 = sns.barplot(x='날씨', y = '사망자수_합계', hue = '날씨', data = final_result_df)\n",
    "\n",
    "asdf_3 = sns.barplot(x='날씨', y = '부상자수_합계', hue = '날씨', data = final_result_df)\n",
    "\n",
    "plt.show()"
   ]
  },
  {
   "cell_type": "code",
   "execution_count": 10,
   "id": "f3e7d867",
   "metadata": {},
   "outputs": [
    {
     "data": {
      "image/png": "[encoded data removed]",
      "text/plain": [
       "<Figure size 1000x600 with 1 Axes>"
      ]
     },
     "metadata": {},
     "output_type": "display_data"
    }
   ],
   "source": [
    "import pandas as pd\n",
    "import matplotlib.pyplot as plt\n",
    "\n",
    "# 샘플 데이터프레임 생성\n",
    "data = final_result_df\n",
    "df = pd.DataFrame(data)\n",
    "\n",
    "# 그래프 생성\n",
    "plt.figure(figsize=(10, 6))\n",
    "plt.bar(df['날씨'], df['사망자수_합계'], label='사망자수')\n",
    "plt.bar(df['날씨'], df['중상자수_합계'], label='중상자수')\n",
    "plt.bar(df['날씨'], df['부상자수_합계'], label='부상자수')\n",
    "plt.xlabel('날씨')\n",
    "plt.ylabel('인원 수')\n",
    "plt.title('날씨별 사망자수, 중상자수, 부상자수')\n",
    "plt.legend()\n",
    "plt.show()\n"
   ]
  },
  {
   "cell_type": "code",
   "execution_count": 11,
   "id": "cad83185",
   "metadata": {},
   "outputs": [
    {
     "data": {
      "image/png": "[encoded data removed]",
      "text/plain": [
       "<Figure size 1000x600 with 1 Axes>"
      ]
     },
     "metadata": {},
     "output_type": "display_data"
    }
   ],
   "source": [
    "import pandas as pd\n",
    "import matplotlib.pyplot as plt\n",
    "import numpy as np\n",
    "\n",
    "# 샘플 데이터프레임 생성\n",
    "data = final_result_df\n",
    "df = pd.DataFrame(data)\n",
    "\n",
    "plt.figure(figsize=(10, 6))\n",
    "bar_width = 0.2\n",
    "index = np.arange(len(df['날씨']))\n",
    "\n",
    "plt.bar(index, df['사망자수_합계'], bar_width, label='사망자수')\n",
    "plt.bar(index + bar_width, df['중상자수_합계'], bar_width, label='중상자수')\n",
    "plt.bar(index + 2 * bar_width, df['경상자수_합계'], bar_width, label='부상자수')\n",
    "plt.bar(index + 3 * bar_width, df['부상자수_합계'], bar_width, label='부상자수')\n",
    "plt.xlabel('날씨')\n",
    "plt.ylabel('인원 수')\n",
    "plt.title('날씨별 사망자수, 중상자수, 경상자수, 부상자수')\n",
    "plt.xticks(index + bar_width, df['날씨'])\n",
    "plt.legend()\n",
    "plt.tight_layout()\n",
    "plt.show()"
   ]
  },
  {
   "cell_type": "code",
   "execution_count": 12,
   "id": "e40b16c3",
   "metadata": {},
   "outputs": [
    {
     "data": {
      "text/html": [
       "<div>\n",
       "<style scoped>\n",
       "    .dataframe tbody tr th:only-of-type {\n",
       "        vertical-align: middle;\n",
       "    }\n",
       "\n",
       "    .dataframe tbody tr th {\n",
       "        vertical-align: top;\n",
       "    }\n",
       "\n",
       "    .dataframe thead th {\n",
       "        text-align: right;\n",
       "    }\n",
       "</style>\n",
       "<table border=\"1\" class=\"dataframe\">\n",
       "  <thead>\n",
       "    <tr style=\"text-align: right;\">\n",
       "      <th></th>\n",
       "      <th>날짜</th>\n",
       "      <th>사고건수</th>\n",
       "      <th>사망자수</th>\n",
       "      <th>중상자수</th>\n",
       "      <th>경상자수</th>\n",
       "      <th>부상신고자수</th>\n",
       "      <th>비</th>\n",
       "      <th>눈</th>\n",
       "      <th>날씨</th>\n",
       "    </tr>\n",
       "  </thead>\n",
       "  <tbody>\n",
       "    <tr>\n",
       "      <th>0</th>\n",
       "      <td>2019-03-23</td>\n",
       "      <td>128</td>\n",
       "      <td>1</td>\n",
       "      <td>29</td>\n",
       "      <td>133</td>\n",
       "      <td>23</td>\n",
       "      <td>비</td>\n",
       "      <td>눈</td>\n",
       "      <td>눈</td>\n",
       "    </tr>\n",
       "    <tr>\n",
       "      <th>1</th>\n",
       "      <td>2018-11-07</td>\n",
       "      <td>120</td>\n",
       "      <td>0</td>\n",
       "      <td>48</td>\n",
       "      <td>96</td>\n",
       "      <td>13</td>\n",
       "      <td>비</td>\n",
       "      <td></td>\n",
       "      <td>비</td>\n",
       "    </tr>\n",
       "    <tr>\n",
       "      <th>2</th>\n",
       "      <td>2019-01-15</td>\n",
       "      <td>95</td>\n",
       "      <td>0</td>\n",
       "      <td>32</td>\n",
       "      <td>103</td>\n",
       "      <td>8</td>\n",
       "      <td>비</td>\n",
       "      <td></td>\n",
       "      <td>비</td>\n",
       "    </tr>\n",
       "    <tr>\n",
       "      <th>3</th>\n",
       "      <td>2017-06-21</td>\n",
       "      <td>101</td>\n",
       "      <td>3</td>\n",
       "      <td>30</td>\n",
       "      <td>87</td>\n",
       "      <td>17</td>\n",
       "      <td>비</td>\n",
       "      <td></td>\n",
       "      <td>비</td>\n",
       "    </tr>\n",
       "    <tr>\n",
       "      <th>4</th>\n",
       "      <td>2017-06-26</td>\n",
       "      <td>111</td>\n",
       "      <td>1</td>\n",
       "      <td>27</td>\n",
       "      <td>112</td>\n",
       "      <td>11</td>\n",
       "      <td>비</td>\n",
       "      <td></td>\n",
       "      <td>비</td>\n",
       "    </tr>\n",
       "    <tr>\n",
       "      <th>...</th>\n",
       "      <td>...</td>\n",
       "      <td>...</td>\n",
       "      <td>...</td>\n",
       "      <td>...</td>\n",
       "      <td>...</td>\n",
       "      <td>...</td>\n",
       "      <td>...</td>\n",
       "      <td>...</td>\n",
       "      <td>...</td>\n",
       "    </tr>\n",
       "    <tr>\n",
       "      <th>95</th>\n",
       "      <td>2018-02-11</td>\n",
       "      <td>76</td>\n",
       "      <td>0</td>\n",
       "      <td>23</td>\n",
       "      <td>78</td>\n",
       "      <td>14</td>\n",
       "      <td>비</td>\n",
       "      <td>눈</td>\n",
       "      <td>눈</td>\n",
       "    </tr>\n",
       "    <tr>\n",
       "      <th>96</th>\n",
       "      <td>2019-03-23</td>\n",
       "      <td>128</td>\n",
       "      <td>1</td>\n",
       "      <td>29</td>\n",
       "      <td>133</td>\n",
       "      <td>23</td>\n",
       "      <td>비</td>\n",
       "      <td>눈</td>\n",
       "      <td>눈</td>\n",
       "    </tr>\n",
       "    <tr>\n",
       "      <th>97</th>\n",
       "      <td>2018-01-31</td>\n",
       "      <td>118</td>\n",
       "      <td>0</td>\n",
       "      <td>32</td>\n",
       "      <td>126</td>\n",
       "      <td>10</td>\n",
       "      <td>비</td>\n",
       "      <td>눈</td>\n",
       "      <td>눈</td>\n",
       "    </tr>\n",
       "    <tr>\n",
       "      <th>98</th>\n",
       "      <td>2017-12-15</td>\n",
       "      <td>123</td>\n",
       "      <td>1</td>\n",
       "      <td>34</td>\n",
       "      <td>127</td>\n",
       "      <td>12</td>\n",
       "      <td>비</td>\n",
       "      <td>눈</td>\n",
       "      <td>눈</td>\n",
       "    </tr>\n",
       "    <tr>\n",
       "      <th>99</th>\n",
       "      <td>2017-02-22</td>\n",
       "      <td>91</td>\n",
       "      <td>0</td>\n",
       "      <td>25</td>\n",
       "      <td>96</td>\n",
       "      <td>11</td>\n",
       "      <td>비</td>\n",
       "      <td>눈</td>\n",
       "      <td>눈</td>\n",
       "    </tr>\n",
       "  </tbody>\n",
       "</table>\n",
       "<p>100 rows × 9 columns</p>\n",
       "</div>"
      ],
      "text/plain": [
       "           날짜  사고건수  사망자수  중상자수  경상자수  부상신고자수  비  눈 날씨\n",
       "0  2019-03-23   128     1    29   133      23  비  눈  눈\n",
       "1  2018-11-07   120     0    48    96      13  비     비\n",
       "2  2019-01-15    95     0    32   103       8  비     비\n",
       "3  2017-06-21   101     3    30    87      17  비     비\n",
       "4  2017-06-26   111     1    27   112      11  비     비\n",
       "..        ...   ...   ...   ...   ...     ... .. .. ..\n",
       "95 2018-02-11    76     0    23    78      14  비  눈  눈\n",
       "96 2019-03-23   128     1    29   133      23  비  눈  눈\n",
       "97 2018-01-31   118     0    32   126      10  비  눈  눈\n",
       "98 2017-12-15   123     1    34   127      12  비  눈  눈\n",
       "99 2017-02-22    91     0    25    96      11  비  눈  눈\n",
       "\n",
       "[100 rows x 9 columns]"
      ]
     },
     "execution_count": 12,
     "metadata": {},
     "output_type": "execute_result"
    }
   ],
   "source": [
    "df = merged_df\n",
    "\n",
    "# '비'가 써져 있는 데이터만 필터링하여 새로운 데이터프레임 생성\n",
    "random_rain_df = df[df['비'] == '비'].sample(n=50)\n",
    "random_snow_df = df[df['눈'] == '눈'].sample(n=50)\n",
    "\n",
    "merged_df_random = pd.concat([random_rain_df, random_snow_df], ignore_index=True)\n",
    "merged_df_random"
   ]
  },
  {
   "cell_type": "code",
   "execution_count": 13,
   "id": "4476a084",
   "metadata": {},
   "outputs": [
    {
     "name": "stdout",
     "output_type": "stream",
     "text": [
      "  날씨  경상자수_합계_랜덤\n",
      "0  눈        6215\n",
      "1  비        4457\n"
     ]
    }
   ],
   "source": [
    "def sum_3_by_weather_random(dataframe):\n",
    "    grouped = dataframe.groupby('날씨')\n",
    "    sums = grouped['경상자수'].sum()\n",
    "    new_dataframe = pd.DataFrame({'날씨': sums.index, '경상자수_합계_랜덤': sums.values})\n",
    "    return new_dataframe\n",
    "\n",
    "data = merged_df_random\n",
    "df = pd.DataFrame(data)\n",
    "result_df_3_random = sum_3_by_weather_random(df)\n",
    "print(result_df_3_random)"
   ]
  },
  {
   "cell_type": "code",
   "execution_count": 14,
   "id": "ccab840f",
   "metadata": {},
   "outputs": [
    {
     "name": "stdout",
     "output_type": "stream",
     "text": [
      "   중상자수_합계_랜덤\n",
      "0        2476\n",
      "1       21150\n",
      "2       10371\n"
     ]
    }
   ],
   "source": [
    "def sum_2_by_weather_random(dataframe):\n",
    "    grouped = dataframe.groupby('날씨')\n",
    "    sums = grouped['중상자수'].sum()\n",
    "    new_dataframe = pd.DataFrame({'날씨': sums.index, '중상자수_합계_랜덤': sums.values})\n",
    "    return new_dataframe\n",
    "\n",
    "data = merged_df\n",
    "df = pd.DataFrame(data)\n",
    "\n",
    "result_df_2_random = sum_2_by_weather_random(df)\n",
    "del result_df_2_random['날씨']\n",
    "print(result_df_2_random)"
   ]
  },
  {
   "cell_type": "code",
   "execution_count": 15,
   "id": "56727f86",
   "metadata": {},
   "outputs": [
    {
     "name": "stdout",
     "output_type": "stream",
     "text": [
      "   사망자수_합계_랜덤\n",
      "0          65\n",
      "1         530\n",
      "2         303\n"
     ]
    }
   ],
   "source": [
    "def sum_1_by_weather_random(dataframe):\n",
    "    grouped = dataframe.groupby('날씨')\n",
    "    sums = grouped['사망자수'].sum()\n",
    "    new_dataframe = pd.DataFrame({'날씨': sums.index, '사망자수_합계_랜덤': sums.values})\n",
    "    return new_dataframe\n",
    "\n",
    "data = merged_df\n",
    "df = pd.DataFrame(data)\n",
    "\n",
    "result_df_1_random = sum_1_by_weather_random(df)\n",
    "del result_df_1_random['날씨']\n",
    "print(result_df_1_random)"
   ]
  },
  {
   "cell_type": "code",
   "execution_count": 16,
   "id": "1dc94a7f",
   "metadata": {},
   "outputs": [
    {
     "name": "stdout",
     "output_type": "stream",
     "text": [
      "   부상신고자수_합계_랜덤\n",
      "0          1007\n",
      "1          8878\n",
      "2          4565\n"
     ]
    }
   ],
   "source": [
    "def sum_0_by_weather_random(dataframe):\n",
    "    grouped = dataframe.groupby('날씨')\n",
    "    sums = grouped['부상신고자수'].sum()\n",
    "    new_dataframe = pd.DataFrame({'날씨': sums.index, '부상신고자수_합계_랜덤': sums.values})\n",
    "    return new_dataframe\n",
    "\n",
    "data = merged_df\n",
    "df = pd.DataFrame(data)\n",
    "\n",
    "result_df_0_random = sum_0_by_weather_random(df)\n",
    "del result_df_0_random['날씨']\n",
    "print(result_df_0_random)"
   ]
  },
  {
   "cell_type": "code",
   "execution_count": 17,
   "id": "6b59a0fd",
   "metadata": {},
   "outputs": [
    {
     "data": {
      "text/html": [
       "<div>\n",
       "<style scoped>\n",
       "    .dataframe tbody tr th:only-of-type {\n",
       "        vertical-align: middle;\n",
       "    }\n",
       "\n",
       "    .dataframe tbody tr th {\n",
       "        vertical-align: top;\n",
       "    }\n",
       "\n",
       "    .dataframe thead th {\n",
       "        text-align: right;\n",
       "    }\n",
       "</style>\n",
       "<table border=\"1\" class=\"dataframe\">\n",
       "  <thead>\n",
       "    <tr style=\"text-align: right;\">\n",
       "      <th></th>\n",
       "      <th>날씨</th>\n",
       "      <th>경상자수_합계_랜덤</th>\n",
       "      <th>중상자수_합계_랜덤</th>\n",
       "      <th>사망자수_합계_랜덤</th>\n",
       "      <th>부상신고자수_합계_랜덤</th>\n",
       "    </tr>\n",
       "  </thead>\n",
       "  <tbody>\n",
       "    <tr>\n",
       "      <th>0</th>\n",
       "      <td>눈</td>\n",
       "      <td>6215.0</td>\n",
       "      <td>2476</td>\n",
       "      <td>65</td>\n",
       "      <td>1007</td>\n",
       "    </tr>\n",
       "    <tr>\n",
       "      <th>1</th>\n",
       "      <td>비</td>\n",
       "      <td>4457.0</td>\n",
       "      <td>21150</td>\n",
       "      <td>530</td>\n",
       "      <td>8878</td>\n",
       "    </tr>\n",
       "    <tr>\n",
       "      <th>2</th>\n",
       "      <td>맑음</td>\n",
       "      <td>NaN</td>\n",
       "      <td>10371</td>\n",
       "      <td>303</td>\n",
       "      <td>4565</td>\n",
       "    </tr>\n",
       "  </tbody>\n",
       "</table>\n",
       "</div>"
      ],
      "text/plain": [
       "   날씨  경상자수_합계_랜덤  중상자수_합계_랜덤  사망자수_합계_랜덤  부상신고자수_합계_랜덤\n",
       "0   눈      6215.0        2476          65          1007\n",
       "1   비      4457.0       21150         530          8878\n",
       "2  맑음         NaN       10371         303          4565"
      ]
     },
     "execution_count": 17,
     "metadata": {},
     "output_type": "execute_result"
    }
   ],
   "source": [
    "final_result_df_random = pd.concat([result_df_3_random,result_df_2_random,result_df_1_random,result_df_0_random], axis=1)\n",
    "final_result_df_random['날씨'].fillna('맑음', inplace=True)\n",
    "final_result_df_random.head()"
   ]
  },
  {
   "cell_type": "code",
   "execution_count": 18,
   "id": "fe6b2d06",
   "metadata": {},
   "outputs": [
    {
     "data": {
      "image/png": "[encoded data removed]",
      "text/plain": [
       "<Figure size 1000x600 with 1 Axes>"
      ]
     },
     "metadata": {},
     "output_type": "display_data"
    }
   ],
   "source": [
    "# 샘플 데이터프레임 생성\n",
    "data = final_result_df_random\n",
    "df = pd.DataFrame(data)\n",
    "\n",
    "plt.figure(figsize=(10, 6))\n",
    "bar_width = 0.2\n",
    "index = np.arange(len(df['날씨']))\n",
    "\n",
    "plt.bar(index, df['사망자수_합계_랜덤'], bar_width, label='사망자수')\n",
    "plt.bar(index + bar_width, df['중상자수_합계_랜덤'], bar_width, label='중상자수')\n",
    "plt.bar(index + 2 * bar_width, df['경상자수_합계_랜덤'], bar_width, label='경상자수')\n",
    "plt.bar(index + 3 * bar_width, df['부상신고자수_합계_랜덤'], bar_width, label='부상자수')\n",
    "plt.xlabel('날씨')\n",
    "plt.ylabel('인원 수')\n",
    "plt.title('랜덤추출한 날씨별 사망자수, 중상자수, 경상자수, 부상자수')\n",
    "plt.xticks(index + bar_width, df['날씨'])\n",
    "plt.legend()\n",
    "plt.tight_layout()\n",
    "plt.show()"
   ]
  },
  {
   "cell_type": "code",
   "execution_count": 19,
   "id": "b3996724",
   "metadata": {},
   "outputs": [],
   "source": [
    "ac_df = accident_data_final.reset_index()"
   ]
  },
  {
   "cell_type": "code",
   "execution_count": 20,
   "id": "3fc19e01",
   "metadata": {},
   "outputs": [],
   "source": [
    "ac_df['년도'] = ac_df.날짜.dt.year"
   ]
  },
  {
   "cell_type": "code",
   "execution_count": 21,
   "id": "6028e108",
   "metadata": {},
   "outputs": [],
   "source": [
    "ac_df.drop('날짜', inplace=True, axis=1)"
   ]
  },
  {
   "cell_type": "code",
   "execution_count": 22,
   "id": "10a077a6",
   "metadata": {},
   "outputs": [],
   "source": [
    "ac_eda = ac_df.groupby('년도').mean()"
   ]
  },
  {
   "cell_type": "code",
   "execution_count": 23,
   "id": "66235358",
   "metadata": {},
   "outputs": [],
   "source": [
    "dd = pd.read_csv('./도로시설물_20230611004413.csv')"
   ]
  },
  {
   "cell_type": "code",
   "execution_count": 24,
   "id": "8eaa2269",
   "metadata": {},
   "outputs": [
    {
     "data": {
      "text/plain": [
       "2017    3.594746e+101\n",
       "2018    3.688348e+101\n",
       "2019    3.706347e+101\n",
       "dtype: float64"
      ]
     },
     "execution_count": 24,
     "metadata": {},
     "output_type": "execute_result"
    }
   ],
   "source": [
    "dd.iloc[10:,2:].mean(axis=0)"
   ]
  },
  {
   "cell_type": "code",
   "execution_count": 25,
   "id": "6e41f615",
   "metadata": {},
   "outputs": [
    {
     "data": {
      "text/plain": [
       "2017    7431.44\n",
       "2018    7569.24\n",
       "2019    7706.04\n",
       "dtype: float64"
      ]
     },
     "execution_count": 25,
     "metadata": {},
     "output_type": "execute_result"
    }
   ],
   "source": [
    "dd.iloc[10:,2:].astype('float').mean(axis=0)"
   ]
  },
  {
   "cell_type": "code",
   "execution_count": 26,
   "id": "2055f7fd",
   "metadata": {},
   "outputs": [],
   "source": [
    "ac_eda['가로등 수'] = dd.iloc[10:,2:].astype('float').mean(axis=0).values"
   ]
  },
  {
   "cell_type": "code",
   "execution_count": 27,
   "id": "002725eb",
   "metadata": {},
   "outputs": [
    {
     "data": {
      "text/html": [
       "<div>\n",
       "<style scoped>\n",
       "    .dataframe tbody tr th:only-of-type {\n",
       "        vertical-align: middle;\n",
       "    }\n",
       "\n",
       "    .dataframe tbody tr th {\n",
       "        vertical-align: top;\n",
       "    }\n",
       "\n",
       "    .dataframe thead th {\n",
       "        text-align: right;\n",
       "    }\n",
       "</style>\n",
       "<table border=\"1\" class=\"dataframe\">\n",
       "  <thead>\n",
       "    <tr style=\"text-align: right;\">\n",
       "      <th></th>\n",
       "      <th>사고건수</th>\n",
       "      <th>사망자수</th>\n",
       "      <th>중상자수</th>\n",
       "      <th>경상자수</th>\n",
       "      <th>부상신고자수</th>\n",
       "      <th>가로등 수</th>\n",
       "    </tr>\n",
       "    <tr>\n",
       "      <th>년도</th>\n",
       "      <th></th>\n",
       "      <th></th>\n",
       "      <th></th>\n",
       "      <th></th>\n",
       "      <th></th>\n",
       "      <th></th>\n",
       "    </tr>\n",
       "  </thead>\n",
       "  <tbody>\n",
       "    <tr>\n",
       "      <th>2017</th>\n",
       "      <td>105.821918</td>\n",
       "      <td>0.939726</td>\n",
       "      <td>32.780822</td>\n",
       "      <td>100.838356</td>\n",
       "      <td>13.805479</td>\n",
       "      <td>7431.44</td>\n",
       "    </tr>\n",
       "    <tr>\n",
       "      <th>2018</th>\n",
       "      <td>106.287671</td>\n",
       "      <td>0.832877</td>\n",
       "      <td>31.183562</td>\n",
       "      <td>103.356164</td>\n",
       "      <td>12.723288</td>\n",
       "      <td>7569.24</td>\n",
       "    </tr>\n",
       "    <tr>\n",
       "      <th>2019</th>\n",
       "      <td>107.556164</td>\n",
       "      <td>0.684932</td>\n",
       "      <td>29.082192</td>\n",
       "      <td>105.580822</td>\n",
       "      <td>13.019178</td>\n",
       "      <td>7706.04</td>\n",
       "    </tr>\n",
       "  </tbody>\n",
       "</table>\n",
       "</div>"
      ],
      "text/plain": [
       "            사고건수      사망자수       중상자수        경상자수     부상신고자수    가로등 수\n",
       "년도                                                                   \n",
       "2017  105.821918  0.939726  32.780822  100.838356  13.805479  7431.44\n",
       "2018  106.287671  0.832877  31.183562  103.356164  12.723288  7569.24\n",
       "2019  107.556164  0.684932  29.082192  105.580822  13.019178  7706.04"
      ]
     },
     "execution_count": 27,
     "metadata": {},
     "output_type": "execute_result"
    }
   ],
   "source": [
    "ac_eda"
   ]
  },
  {
   "cell_type": "code",
   "execution_count": 28,
   "id": "f33ad251",
   "metadata": {},
   "outputs": [
    {
     "data": {
      "image/png": "[encoded data removed]",
      "text/plain": [
       "<Figure size 640x480 with 2 Axes>"
      ]
     },
     "metadata": {},
     "output_type": "display_data"
    }
   ],
   "source": [
    "sns.heatmap(ac_eda.corr(), annot=True, cmap='Greens')\n",
    "plt.show()"
   ]
  },
  {
   "cell_type": "code",
   "execution_count": 31,
   "id": "4091c609",
   "metadata": {},
   "outputs": [
    {
     "data": {
      "image/png": "[encoded data removed]",
      "text/plain": [
       "<Figure size 640x480 with 2 Axes>"
      ]
     },
     "metadata": {},
     "output_type": "display_data"
    }
   ],
   "source": [
    "corr_matrix = ac_eda.corr()\n",
    "mask = np.tril(np.ones_like(corr_matrix, dtype=bool))\n",
    "sns.heatmap(corr_matrix, annot=True, cmap='Greens', mask=mask)\n",
    "plt.show()"
   ]
  },
  {
   "cell_type": "code",
   "execution_count": 38,
   "id": "a7d3d372",
   "metadata": {},
   "outputs": [
    {
     "data": {
      "image/png": "[encoded data removed]",
      "text/plain": [
       "<Figure size 640x480 with 2 Axes>"
      ]
     },
     "metadata": {},
     "output_type": "display_data"
    }
   ],
   "source": [
    "corr_matrix = ac_eda.corr()\n",
    "mask = np.tril(np.ones_like(corr_matrix, dtype=bool))\n",
    "mask[np.diag_indices_from(mask)] = False\n",
    "\n",
    "sns.heatmap(corr_matrix, annot=True, cmap='Greens', mask=mask)\n",
    "plt.show()\n"
   ]
  }
 ],
 "metadata": {
  "kernelspec": {
   "display_name": "Python 3 (ipykernel)",
   "language": "python",
   "name": "python3"
  },
  "language_info": {
   "codemirror_mode": {
    "name": "ipython",
    "version": 3
   },
   "file_extension": ".py",
   "mimetype": "text/x-python",
   "name": "python",
   "nbconvert_exporter": "python",
   "pygments_lexer": "ipython3",
   "version": "3.9.15"
  }
 },
 "nbformat": 4,
 "nbformat_minor": 5
}
