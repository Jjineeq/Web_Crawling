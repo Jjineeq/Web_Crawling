{
 "cells": [
  {
   "cell_type": "code",
   "execution_count": 1,
   "metadata": {},
   "outputs": [],
   "source": [
    "import csv\n",
    "from bs4 import BeautifulSoup\n",
    "import requests\n",
    "import pandas as pd\n",
    "from selenium import webdriver\n",
    "import time\n",
    "from selenium.webdriver.common.by import By\n"
   ]
  },
  {
   "cell_type": "code",
   "execution_count": 2,
   "metadata": {},
   "outputs": [],
   "source": [
    "\n",
    "browser = webdriver.Chrome()\n",
    "browser.maximize_window() # 창 최대화\n",
    "#browser.set_window_size(400,600)\n",
    "\n",
    "category = ['음식료품', '섬유의복', '종이목재', '화학', '의약품', '비금속광물', '철강금속', '기계',\n",
    "       '전기전자', '의료정밀', '운수장비', '유통업', '전기가스업', '건설업', '운수창고', '통신업', '금융업',\n",
    "       '은행', '증권', '보험', '서비스업']\n",
    "\n",
    "# 1. 페이지 이동\n",
    "url = 'https://finance.daum.net/domestic/sectors'\n",
    "browser.get(url)\n",
    "time.sleep(1)\n",
    "\n",
    "name_result = []\n",
    "preice_result = []\n",
    "day_result = []\n",
    "\n",
    "\n",
    "# 2. 업종으로 이동\n",
    "for i in range(0,21): \n",
    "    click1 = browser.find_element(By.LINK_TEXT, category[i])\n",
    "    click1.click()\n",
    "    time.sleep(1)\n",
    "\n",
    "    # 3. 업종, 날짜, 주가 데이터 확보\n",
    "    name = browser.find_element(By.XPATH, '//*[@id=\"labTitle\"]').text\n",
    "    price = browser.find_element(By.XPATH, '//*[@id=\"boxDashboard\"]/div/div/span[1]/strong').text\n",
    "    day = browser.find_element(By.XPATH, '//*[@id=\"boxMarketStatus\"]').text\n",
    "    name = name[0:len(category[i])]\n",
    "    day = day[0:5]\n",
    "\n",
    "\n",
    "    name_result.append(name)\n",
    "    preice_result.append(price)\n",
    "    day_result.append(day)\n",
    "\n",
    "\n",
    "    browser.back() # 뒤로가기\n",
    "    time.sleep(1)\n",
    "\n",
    "# 4. \n",
    "\n",
    "\n",
    "\n",
    "# 브라우저 종료\n",
    "#browser.quit()\n"
   ]
  },
  {
   "cell_type": "code",
   "execution_count": 3,
   "metadata": {},
   "outputs": [
    {
     "data": {
      "text/html": [
       "<div>\n",
       "<style scoped>\n",
       "    .dataframe tbody tr th:only-of-type {\n",
       "        vertical-align: middle;\n",
       "    }\n",
       "\n",
       "    .dataframe tbody tr th {\n",
       "        vertical-align: top;\n",
       "    }\n",
       "\n",
       "    .dataframe thead th {\n",
       "        text-align: right;\n",
       "    }\n",
       "</style>\n",
       "<table border=\"1\" class=\"dataframe\">\n",
       "  <thead>\n",
       "    <tr style=\"text-align: right;\">\n",
       "      <th></th>\n",
       "      <th>0</th>\n",
       "      <th>1</th>\n",
       "      <th>2</th>\n",
       "      <th>3</th>\n",
       "      <th>4</th>\n",
       "      <th>5</th>\n",
       "      <th>6</th>\n",
       "      <th>7</th>\n",
       "      <th>8</th>\n",
       "      <th>9</th>\n",
       "      <th>...</th>\n",
       "      <th>11</th>\n",
       "      <th>12</th>\n",
       "      <th>13</th>\n",
       "      <th>14</th>\n",
       "      <th>15</th>\n",
       "      <th>16</th>\n",
       "      <th>17</th>\n",
       "      <th>18</th>\n",
       "      <th>19</th>\n",
       "      <th>20</th>\n",
       "    </tr>\n",
       "  </thead>\n",
       "  <tbody>\n",
       "    <tr>\n",
       "      <th>0</th>\n",
       "      <td>음식료품</td>\n",
       "      <td>섬유의복</td>\n",
       "      <td>종이목재</td>\n",
       "      <td>화학</td>\n",
       "      <td>의약품</td>\n",
       "      <td>비금속광물</td>\n",
       "      <td>철강금속</td>\n",
       "      <td>기계</td>\n",
       "      <td>전기전자</td>\n",
       "      <td>의료정밀</td>\n",
       "      <td>...</td>\n",
       "      <td>유통업</td>\n",
       "      <td>전기가스업</td>\n",
       "      <td>건설업</td>\n",
       "      <td>운수창고</td>\n",
       "      <td>통신업</td>\n",
       "      <td>금융업</td>\n",
       "      <td>은행</td>\n",
       "      <td>증권</td>\n",
       "      <td>보험</td>\n",
       "      <td>서비스업</td>\n",
       "    </tr>\n",
       "  </tbody>\n",
       "</table>\n",
       "<p>1 rows × 21 columns</p>\n",
       "</div>"
      ],
      "text/plain": [
       "     0     1     2   3    4      5     6   7     8     9   ...   11     12  \\\n",
       "0  음식료품  섬유의복  종이목재  화학  의약품  비금속광물  철강금속  기계  전기전자  의료정밀  ...  유통업  전기가스업   \n",
       "\n",
       "    13    14   15   16  17  18  19    20  \n",
       "0  건설업  운수창고  통신업  금융업  은행  증권  보험  서비스업  \n",
       "\n",
       "[1 rows x 21 columns]"
      ]
     },
     "execution_count": 3,
     "metadata": {},
     "output_type": "execute_result"
    }
   ],
   "source": [
    "pd.DataFrame(name_result).T"
   ]
  },
  {
   "cell_type": "code",
   "execution_count": 4,
   "metadata": {},
   "outputs": [
    {
     "data": {
      "text/html": [
       "<div>\n",
       "<style scoped>\n",
       "    .dataframe tbody tr th:only-of-type {\n",
       "        vertical-align: middle;\n",
       "    }\n",
       "\n",
       "    .dataframe tbody tr th {\n",
       "        vertical-align: top;\n",
       "    }\n",
       "\n",
       "    .dataframe thead th {\n",
       "        text-align: right;\n",
       "    }\n",
       "</style>\n",
       "<table border=\"1\" class=\"dataframe\">\n",
       "  <thead>\n",
       "    <tr style=\"text-align: right;\">\n",
       "      <th></th>\n",
       "      <th>음식료품</th>\n",
       "      <th>섬유의복</th>\n",
       "      <th>종이목재</th>\n",
       "      <th>화학</th>\n",
       "      <th>의약품</th>\n",
       "      <th>비금속광물</th>\n",
       "      <th>철강금속</th>\n",
       "      <th>기계</th>\n",
       "      <th>전기전자</th>\n",
       "      <th>의료정밀</th>\n",
       "      <th>...</th>\n",
       "      <th>유통업</th>\n",
       "      <th>전기가스업</th>\n",
       "      <th>건설업</th>\n",
       "      <th>운수창고</th>\n",
       "      <th>통신업</th>\n",
       "      <th>금융업</th>\n",
       "      <th>은행</th>\n",
       "      <th>증권</th>\n",
       "      <th>보험</th>\n",
       "      <th>서비스업</th>\n",
       "    </tr>\n",
       "  </thead>\n",
       "  <tbody>\n",
       "    <tr>\n",
       "      <th>0</th>\n",
       "      <td>3,615.51</td>\n",
       "      <td>370.11</td>\n",
       "      <td>346.37</td>\n",
       "      <td>4,994.33</td>\n",
       "      <td>13,639.57</td>\n",
       "      <td>2,660.32</td>\n",
       "      <td>4,374.76</td>\n",
       "      <td>901.47</td>\n",
       "      <td>22,362.55</td>\n",
       "      <td>2,058.71</td>\n",
       "      <td>...</td>\n",
       "      <td>331.76</td>\n",
       "      <td>785.87</td>\n",
       "      <td>77.64</td>\n",
       "      <td>1,606.61</td>\n",
       "      <td>372.13</td>\n",
       "      <td>360.71</td>\n",
       "      <td>129.83</td>\n",
       "      <td>1,641.27</td>\n",
       "      <td>14,689.79</td>\n",
       "      <td>1,116.33</td>\n",
       "    </tr>\n",
       "  </tbody>\n",
       "</table>\n",
       "<p>1 rows × 21 columns</p>\n",
       "</div>"
      ],
      "text/plain": [
       "       음식료품    섬유의복    종이목재        화학        의약품     비금속광물      철강금속      기계  \\\n",
       "0  3,615.51  370.11  346.37  4,994.33  13,639.57  2,660.32  4,374.76  901.47   \n",
       "\n",
       "        전기전자      의료정밀  ...     유통업   전기가스업    건설업      운수창고     통신업     금융업  \\\n",
       "0  22,362.55  2,058.71  ...  331.76  785.87  77.64  1,606.61  372.13  360.71   \n",
       "\n",
       "       은행        증권         보험      서비스업  \n",
       "0  129.83  1,641.27  14,689.79  1,116.33  \n",
       "\n",
       "[1 rows x 21 columns]"
      ]
     },
     "execution_count": 4,
     "metadata": {},
     "output_type": "execute_result"
    }
   ],
   "source": [
    "pd.DataFrame(preice_result, index = category).T"
   ]
  },
  {
   "cell_type": "code",
   "execution_count": 5,
   "metadata": {},
   "outputs": [
    {
     "data": {
      "text/plain": [
       "3615.51"
      ]
     },
     "execution_count": 5,
     "metadata": {},
     "output_type": "execute_result"
    }
   ],
   "source": [
    "float(preice_result[0].replace(',',\"\"))"
   ]
  },
  {
   "cell_type": "code",
   "execution_count": null,
   "metadata": {},
   "outputs": [],
   "source": []
  }
 ],
 "metadata": {
  "kernelspec": {
   "display_name": "3_9",
   "language": "python",
   "name": "python3"
  },
  "language_info": {
   "codemirror_mode": {
    "name": "ipython",
    "version": 3
   },
   "file_extension": ".py",
   "mimetype": "text/x-python",
   "name": "python",
   "nbconvert_exporter": "python",
   "pygments_lexer": "ipython3",
   "version": "3.9.15 (main, Nov 24 2022, 14:39:17) [MSC v.1916 64 bit (AMD64)]"
  },
  "orig_nbformat": 4,
  "vscode": {
   "interpreter": {
    "hash": "aa34ee35a9e7649c6d0d2b32df33c6043c872662e8346dd04118c6fc3b30b6e4"
   }
  }
 },
 "nbformat": 4,
 "nbformat_minor": 2
}
