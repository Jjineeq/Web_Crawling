{
 "cells": [
  {
   "cell_type": "code",
   "execution_count": null,
   "metadata": {},
   "outputs": [],
   "source": [
    "import csv\n",
    "from bs4 import BeautifulSoup\n",
    "import requests\n",
    "import pandas as pd\n",
    "from selenium import webdriver\n",
    "import time\n",
    "from selenium.webdriver.common.by import By\n",
    "\n",
    "browser = webdriver.Chrome()\n",
    "browser.maximize_window() # 창 최대화\n",
    "#browser.set_window_size(400,600)\n",
    "\n",
    "category = ['음식료품', '섬유의복', '종이목재', '화학', '의약품', '비금속광물', '철강금속', '기계',\n",
    "       '전기전자', '의료정밀', '운수장비', '유통업', '전기가스업', '건설업', '운수창고', '통신업', '금융업',\n",
    "       '은행', '증권', '보험', '서비스업']\n",
    "\n",
    "# 1. 페이지 이동\n",
    "url = 'https://www.google.com/'\n",
    "browser.get(url)\n",
    "time.sleep(0.5)\n",
    "\n",
    "\n",
    "# 2. 업종 검색\n",
    "element = browser.find_element(By.NAME, 'q')\n",
    "element.send_keys(\"음식료품\")\n",
    "element.submit()\n",
    "time.sleep(0.5)\n",
    "\n",
    "# 3. 뉴스 항목 클릭 ( 뉴스 위치는 다르기 때문에 xpath 안됨)\n",
    "news = browser.find_element(By.LINK_TEXT, \"뉴스\")\n",
    "news.click()\n",
    "time.sleep(1)\n",
    "\n",
    "# 4. 도구 항목 클릭\n",
    "tool1 = browser.find_element(By.XPATH, '//*[@id=\"hdtb-tls\"]')\n",
    "tool1.click()\n",
    "time.sleep(1)\n",
    "\n",
    "# 5. 최근 항목 클릭\n",
    "tool2 = browser.find_elements(By.CLASS_NAME, 'hdtb-mn-hd')\n",
    "tool2[1].click()\n",
    "time.sleep(1)\n",
    "\n",
    "# 6. 기간 설정 클릭\n",
    "period = browser.find_element(By.XPATH, '//*[@id=\"lb\"]/div/g-menu/g-menu-item[8]/div/div/span')\n",
    "period.click()\n",
    "time.sleep(1)\n",
    "\n",
    "# 7. 기간 설정 후 실행\n",
    "start = browser.find_element(By.CLASS_NAME, 'OouJcb')\n",
    "start.send_keys('01/2019')\n",
    "end = browser.find_element(By.CLASS_NAME, 'rzG2be')\n",
    "end.send_keys('01/2019')\n",
    "time.sleep(1)\n",
    "search = browser.find_element(By.XPATH, '//*[@id=\"T3kYXe\"]/g-button')\n",
    "search.click()\n",
    "time.sleep(1)"
   ]
  },
  {
   "cell_type": "code",
   "execution_count": null,
   "metadata": {},
   "outputs": [],
   "source": []
  }
 ],
 "metadata": {
  "kernelspec": {
   "display_name": "crawling",
   "language": "python",
   "name": "python3"
  },
  "language_info": {
   "codemirror_mode": {
    "name": "ipython",
    "version": 3
   },
   "file_extension": ".py",
   "mimetype": "text/x-python",
   "name": "python",
   "nbconvert_exporter": "python",
   "pygments_lexer": "ipython3",
   "version": "3.9.15 (main, Nov 24 2022, 14:39:17) [MSC v.1916 64 bit (AMD64)]"
  },
  "orig_nbformat": 4,
  "vscode": {
   "interpreter": {
    "hash": "c83ef3adab64e3cbb510cefd6b611928ffaaeddedd527d1b02ef4edcd5a80c0c"
   }
  }
 },
 "nbformat": 4,
 "nbformat_minor": 2
}
