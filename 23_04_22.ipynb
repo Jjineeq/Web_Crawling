{
 "cells": [
  {
   "cell_type": "code",
   "execution_count": 1,
   "metadata": {},
   "outputs": [],
   "source": [
    "import pandas as pd\n",
    "import numpy as np\n",
    "from bs4 import BeautifulSoup\n",
    "import requests"
   ]
  },
  {
   "cell_type": "code",
   "execution_count": 29,
   "metadata": {},
   "outputs": [],
   "source": [
    "result = []\n",
    "for i in range(1,6):\n",
    "    url = 'https://comic.naver.com/webtoon/list?titleId=790713&page='+ str(i) +'&sort=DESC'\n",
    "    headers = {'User-Agent' : 'Mozilla/5.0'}\n",
    "    response = requests.get(url, headers=headers)\n",
    "    soup = BeautifulSoup(response.content, 'html.parser', from_encoding='utf-8')\n",
    "    for j in range(1,21):\n",
    "        name = soup.select('#content > div.EpisodeListView__episode_list_wrap--q0VYg > ul > li:nth-child('+ str(j) +') > a > div.EpisodeListList__info_area--Rq03U > p > span') # 영화 이름 추출\n",
    "        for z in name: \n",
    "            name_2 = z.text # 영화 이름 추출 한 부분에서 text만 뽑아 저장\n",
    "            result.append(name_2)"
   ]
  },
  {
   "cell_type": "code",
   "execution_count": null,
   "metadata": {},
   "outputs": [],
   "source": [
    "#content > div.EpisodeListView__episode_list_wrap--q0VYg > ul > li:nth-child(2) > a > div.EpisodeListList__info_area--Rq03U > p > span"
   ]
  },
  {
   "cell_type": "code",
   "execution_count": null,
   "metadata": {},
   "outputs": [],
   "source": [
    "#content > div.EpisodeListView__episode_list_wrap--q0VYg > ul > li:nth-child(1) > a > div.EpisodeListList__info_area--Rq03U > p > span"
   ]
  },
  {
   "cell_type": "code",
   "execution_count": 37,
   "metadata": {},
   "outputs": [
    {
     "data": {
      "text/plain": [
       "'https://comic.naver.com/webtoon/list?titleId=790713&page=5&sort=DESC'"
      ]
     },
     "execution_count": 37,
     "metadata": {},
     "output_type": "execute_result"
    }
   ],
   "source": [
    "url"
   ]
  },
  {
   "cell_type": "code",
   "execution_count": 34,
   "metadata": {},
   "outputs": [
    {
     "data": {
      "text/plain": [
       "[]"
      ]
     },
     "execution_count": 34,
     "metadata": {},
     "output_type": "execute_result"
    }
   ],
   "source": [
    "soup.select('#content > div.EpisodeListView__episode_list_wrap--q0VYg > ul > li:nth-child(1) > a > div.EpisodeListList__info_area--Rq03U > p > span')"
   ]
  },
  {
   "cell_type": "code",
   "execution_count": 35,
   "metadata": {},
   "outputs": [],
   "source": [
    "name = soup.select('#content > div.EpisodeListView__episode_list_wrap--q0VYg > ul > li:nth-child(6) > a > div.EpisodeListList__info_area--Rq03U > p > span')"
   ]
  },
  {
   "cell_type": "code",
   "execution_count": 36,
   "metadata": {},
   "outputs": [],
   "source": [
    "for z in name:\n",
    "    print(z.text)"
   ]
  },
  {
   "cell_type": "code",
   "execution_count": null,
   "metadata": {},
   "outputs": [],
   "source": [
    "#content > div.EpisodeListView__episode_list_wrap--q0VYg > ul > li:nth-child(1) > a > div.EpisodeListList__info_area--Rq03U > p > span"
   ]
  },
  {
   "cell_type": "code",
   "execution_count": null,
   "metadata": {},
   "outputs": [],
   "source": [
    "#content > div.EpisodeListView__episode_list_wrap--q0VYg > ul > li:nth-child(2) > a > div.EpisodeListList__info_area--Rq03U > p > span"
   ]
  },
  {
   "cell_type": "code",
   "execution_count": null,
   "metadata": {},
   "outputs": [],
   "source": [
    "#content > div.EpisodeListView__episode_list_wrap--q0VYg > ul > li:nth-child(2) > a > div.EpisodeListList__info_area--Rq03U > p > span"
   ]
  },
  {
   "cell_type": "code",
   "execution_count": null,
   "metadata": {},
   "outputs": [],
   "source": [
    "#content > div.EpisodeListView__episode_list_wrap--q0VYg > ul > li:nth-child(20) > a > div.EpisodeListList__info_area--Rq03U > p > span"
   ]
  },
  {
   "cell_type": "code",
   "execution_count": null,
   "metadata": {},
   "outputs": [],
   "source": []
  }
 ],
 "metadata": {
  "kernelspec": {
   "display_name": "Python 3",
   "language": "python",
   "name": "python3"
  },
  "language_info": {
   "codemirror_mode": {
    "name": "ipython",
    "version": 3
   },
   "file_extension": ".py",
   "mimetype": "text/x-python",
   "name": "python",
   "nbconvert_exporter": "python",
   "pygments_lexer": "ipython3",
   "version": "3.11.0"
  },
  "orig_nbformat": 4
 },
 "nbformat": 4,
 "nbformat_minor": 2
}
