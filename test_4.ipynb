{
 "cells": [
  {
   "cell_type": "code",
   "execution_count": 1,
   "metadata": {},
   "outputs": [],
   "source": [
    "import requests \n",
    "import lxml\n",
    "from bs4 import BeautifulSoup as bs\n",
    "from datetime import datetime\n",
    "import csv\n",
    "import pandas as pd\n",
    "import numpy as np\n",
    "from selenium import webdriver\n",
    "from selenium.webdriver.common.by import By\n",
    "from tqdm import tqdm\n",
    "import time\n",
    "import re\n",
    "\n",
    "from news_function_all import *"
   ]
  },
  {
   "cell_type": "code",
   "execution_count": 2,
   "metadata": {},
   "outputs": [],
   "source": [
    "category = ['음식료품', '섬유의복', '종이목재', '화학', '의약품', '비금속광물', '철강금속', '기계',\n",
    "       '전기전자', '의료정밀', '운수장비', '유통업', '전기가스업', '건설업', '운수창고', '통신업', '금융업',\n",
    "       '은행', '증권', '보험', '서비스업']"
   ]
  },
  {
   "cell_type": "code",
   "execution_count": 4,
   "metadata": {},
   "outputs": [],
   "source": [
    "category_2 = ['은행', '증권', '보험', '서비스업']"
   ]
  },
  {
   "cell_type": "code",
   "execution_count": 5,
   "metadata": {},
   "outputs": [
    {
     "name": "stderr",
     "output_type": "stream",
     "text": [
      "100%|██████████| 3652/3652 [1:00:35<00:00,  1.00it/s]\n",
      "100%|██████████| 3652/3652 [1:02:22<00:00,  1.02s/it]\n",
      "100%|██████████| 3652/3652 [1:07:05<00:00,  1.10s/it]\n",
      "100%|██████████| 3652/3652 [52:30<00:00,  1.16it/s]\n",
      "100%|██████████| 4/4 [4:02:36<00:00, 3639.19s/it]  \n"
     ]
    }
   ],
   "source": [
    "for i in tqdm(category_2):\n",
    "    news_function(i,'20130101','20221231',5)"
   ]
  },
  {
   "cell_type": "code",
   "execution_count": null,
   "metadata": {},
   "outputs": [],
   "source": []
  }
 ],
 "metadata": {
  "kernelspec": {
   "display_name": "version_test",
   "language": "python",
   "name": "python3"
  },
  "language_info": {
   "codemirror_mode": {
    "name": "ipython",
    "version": 3
   },
   "file_extension": ".py",
   "mimetype": "text/x-python",
   "name": "python",
   "nbconvert_exporter": "python",
   "pygments_lexer": "ipython3",
   "version": "3.7.15"
  },
  "orig_nbformat": 4,
  "vscode": {
   "interpreter": {
    "hash": "cfe135afd72bafd3529fdb2d5bee25c98d4b633c63039531eadf892df31ba1d4"
   }
  }
 },
 "nbformat": 4,
 "nbformat_minor": 2
}
