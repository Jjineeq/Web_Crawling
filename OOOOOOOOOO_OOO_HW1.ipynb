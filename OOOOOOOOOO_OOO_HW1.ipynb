{
 "cells": [
  {
   "cell_type": "markdown",
   "id": "6c9fda71",
   "metadata": {},
   "source": [
    "### 파일명을 본인의 학번_이름_HW1.ipynb로 바꾸어 제출하십시오.\n",
    "### (ex. 2020123456_권오성_HW1.ipynb)\n",
    "### 제출기한: 4/5(수) 23:59\n",
    "### -----------------------------------------------------"
   ]
  },
  {
   "cell_type": "markdown",
   "id": "559262c4",
   "metadata": {},
   "source": [
    "### 각 문제 아래칸에 답을 작성해주세요.\n",
    "### 모든 문제에는 코드뿐만 아니라 풀이 과정(설명)까지 작성하셔야 합니다.\n",
    "### 주석 처리 혹은 markdown 기능 등을 활용하여 풀이 과정을 작성해주세요.\n",
    "### 풀이 과정이 없거나 미흡할 경우 감점 처리됩니다.\n",
    "### 지각 제출은 메일로 가능하나, 대폭 감점합니다.\n",
    "### -----------------------------------------------------"
   ]
  },
  {
   "cell_type": "code",
   "execution_count": 17,
   "id": "8046fefa",
   "metadata": {},
   "outputs": [],
   "source": [
    "# 모듈 import\n",
    "from bs4 import BeautifulSoup\n",
    "import requests\n"
   ]
  },
  {
   "attachments": {},
   "cell_type": "markdown",
   "id": "57c5fdb3",
   "metadata": {},
   "source": [
    "---\n",
    "---\n",
    "<br>\n",
    "<br>\n",
    "<br>\n",
    "1번과 2번 모두 비슷한 방법으로 path를 copy한 다음 구조를 확인 -> 이후 for문으로 하나씩 접근하여 데이터를 추출하는 방식 사용\n",
    "<br>\n",
    "<br>\n",
    "<br>\n",
    "\n",
    "---\n",
    "---"
   ]
  },
  {
   "cell_type": "markdown",
   "id": "3799c322",
   "metadata": {},
   "source": [
    "## No. 1 (3점)\n",
    "### 다음은 '네이버 증권'의 시가총액 순서입니다.\n",
    "### 해당 페이지에서 종목명, 현재가, 등락률을 출력하는 크롤러를 작성하세요.\n",
    "##### ex.\n",
    "##### 삼성전자 - 현재가: 64,000, 등락률: +1.27%\n",
    "##### LG에너지솔루션 - 현재가: 588,000, 등락률: 0.00%\n",
    "##### SK하이닉스 - 현재가: 89,000, 등락률: +0.23%\n",
    "##### ...."
   ]
  },
  {
   "cell_type": "code",
   "execution_count": 199,
   "id": "e3c7ae0e",
   "metadata": {},
   "outputs": [],
   "source": [
    "url = 'https://finance.naver.com/sise/sise_market_sum.naver'\n",
    "headers = {'User-Agent' : 'Mozilla/5.0'}\n",
    "response = requests.get(url, headers=headers)\n",
    "soup = BeautifulSoup(response.content, 'html.parser', from_encoding='utf-8')\n"
   ]
  },
  {
   "attachments": {},
   "cell_type": "markdown",
   "id": "17f99b2e",
   "metadata": {},
   "source": [
    "#### 아래 풀이 설명 : 주식 사이트에서 테이블에서 50 * 11 타입의 매트릭스가 있는 것을 확인하였음\n",
    "#### 이를 활용하여 query 처럼 사용하면 쉽게 불러올 수 있을것으로 판단하였음\n",
    "#### for 문에 range에 2부터 추출을 원하는 '행 + 2'를 입력하면 해당 행까지 추출됨\n",
    "#### 이후 matrix의 구조 자체는 동일함으로, replace와 split을 사용하여 list에서 추출하는 방식을 사용(split을 사용함으로 자동으로 list로 변환)"
   ]
  },
  {
   "cell_type": "code",
   "execution_count": 200,
   "id": "7363edfa",
   "metadata": {},
   "outputs": [
    {
     "name": "stdout",
     "output_type": "stream",
     "text": [
      "삼성전자 - 현재가: 63,600 등락률: +0.79%\n",
      "LG에너지솔루션 - 현재가: 575,000 등락률: -1.88%\n",
      "SK하이닉스 - 현재가: 84,500 등락률: -3.10%\n",
      "삼성바이오로직스 - 현재가: 788,000 등락률: +1.29%\n",
      "LG화학 - 현재가: 722,000 등락률: +1.40%\n"
     ]
    }
   ],
   "source": [
    "for i in range(2,7):\n",
    "    stock = soup.select('#contentarea > div.box_type_l > table.type_2 > tbody > tr:nth-child('+ str(i) +')')\n",
    "    for z in stock:\n",
    "        stock_2 = z.text.replace('\\t','').split('\\n')\n",
    "        print(stock_2[2] + ' - 현재가: ' + stock_2[3] + ' 등락률: ' + stock_2[11]) \n",
    "    "
   ]
  },
  {
   "attachments": {},
   "cell_type": "markdown",
   "id": "ca1d6e57",
   "metadata": {},
   "source": [
    "-----\n",
    "-----"
   ]
  },
  {
   "attachments": {},
   "cell_type": "markdown",
   "id": "54266631",
   "metadata": {},
   "source": [
    "## No. 2 (2점)\n",
    "### 정왕동의 맛집을 최소 5개 이상 소개하는 크롤러를 작성하세요.\n",
    "### 적절한 웹 페이지를 찾아서, 이름과 설명을 5개 이상 간단히 출력하면 됩니다."
   ]
  },
  {
   "cell_type": "code",
   "execution_count": 160,
   "id": "258e0223",
   "metadata": {},
   "outputs": [],
   "source": [
    "url_2 = 'https://www.siksinhot.com/search?keywords=%EC%A0%95%EC%99%95%EB%8F%99' # 구글에 음식추천 사이트 검색 후, 첫번째 나오는 사이트 주소\n",
    "headers = {'User-Agent' : 'Mozilla/5.0'}\n",
    "response_2 = requests.get(url_2, headers=headers)\n",
    "soup_2 = BeautifulSoup(response_2.content, 'html.parser', from_encoding='utf-8')"
   ]
  },
  {
   "attachments": {},
   "cell_type": "markdown",
   "id": "1a113a2b",
   "metadata": {},
   "source": [
    "#### 빈 list에 데이터를 추가하여 하나씩 추출하는 방식을 사용\n",
    "#### 위와 원리 자체는 비슷함\n",
    "#### 다만 name과 introduction을 따로 불러오는 것이 편하다고 판단하여 list를 따로 만들어 추출하였음"
   ]
  },
  {
   "cell_type": "code",
   "execution_count": 201,
   "id": "1ef0c30e",
   "metadata": {},
   "outputs": [
    {
     "name": "stdout",
     "output_type": "stream",
     "text": [
      "추천 맛집은 : 별이네입니다. 해당 집 음식 종류는 해물탕/해물요리 입니다.\n",
      "추천 맛집은 : 청춘조개입니다. 해당 집 음식 종류는 해물탕/해물요리 입니다.\n",
      "추천 맛집은 : 배터지는집입니다. 해당 집 음식 종류는 해물탕/해물요리 입니다.\n",
      "추천 맛집은 : 조개짱입니다. 해당 집 음식 종류는 해물탕/해물요리 입니다.\n",
      "추천 맛집은 : 맛자랑입니다. 해당 집 음식 종류는 해물탕/해물요리 입니다.\n",
      "추천 맛집은 : 포청천입니다. 해당 집 음식 종류는 중식 입니다.\n",
      "추천 맛집은 : 명성각입니다. 해당 집 음식 종류는 중식 입니다.\n",
      "추천 맛집은 : 해상공원회집입니다. 해당 집 음식 종류는 회/횟집/참치 입니다.\n",
      "추천 맛집은 : 태백칡냉면 입니다. 해당 집 음식 종류는 냉면/막국수 입니다.\n",
      "추천 맛집은 : 큰손오리농장입니다. 해당 집 음식 종류는 오리고기 입니다.\n"
     ]
    }
   ],
   "source": [
    "name = []\n",
    "introduction = []\n",
    "for i in range(11):\n",
    "    name_2 = soup_2.select('#main_search > div > article:nth-child(1) > section > div > div > ul > li:nth-child('+str(i)+') > figcaption > a > h2')\n",
    "    intro_2 = soup_2.select('#main_search > div > article:nth-child(1) > section > div > div > ul > li:nth-child('+str(i)+') > figcaption > p.cate > a:nth-child(2)')\n",
    "    for j in name_2:\n",
    "        name.append(j.text)\n",
    "    for q in intro_2:\n",
    "        introduction.append(q.text)\n",
    "        \n",
    "for z in range(10):\n",
    "    print('추천 맛집은 : '+ name[z] + '입니다. 해당 집 음식 종류는 '+introduction[z]+' 입니다.')"
   ]
  }
 ],
 "metadata": {
  "kernelspec": {
   "display_name": "Python 3 (ipykernel)",
   "language": "python",
   "name": "python3"
  },
  "language_info": {
   "codemirror_mode": {
    "name": "ipython",
    "version": 3
   },
   "file_extension": ".py",
   "mimetype": "text/x-python",
   "name": "python",
   "nbconvert_exporter": "python",
   "pygments_lexer": "ipython3",
   "version": "3.9.15"
  }
 },
 "nbformat": 4,
 "nbformat_minor": 5
}
