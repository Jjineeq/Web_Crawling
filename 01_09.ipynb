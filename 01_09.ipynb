{
 "cells": [
  {
   "cell_type": "code",
   "execution_count": 1,
   "metadata": {},
   "outputs": [
    {
     "name": "stdout",
     "output_type": "stream",
     "text": [
      "anything…234ㄹㅇfkadjsfdfklasdfjklsdfjlksdj\n",
      "작은 따옴표도 가능\n"
     ]
    }
   ],
   "source": [
    "print(\"anything…234ㄹㅇfkadjsfdfklasdfjklsdfjlksdj\")\n",
    "print('작은 따옴표도 가능')"
   ]
  },
  {
   "cell_type": "code",
   "execution_count": 2,
   "metadata": {},
   "outputs": [
    {
     "name": "stdout",
     "output_type": "stream",
     "text": [
      "33453424\n"
     ]
    }
   ],
   "source": [
    "print(33453424)"
   ]
  },
  {
   "cell_type": "code",
   "execution_count": 3,
   "metadata": {},
   "outputs": [
    {
     "name": "stdout",
     "output_type": "stream",
     "text": [
      "구구단 2 단을 출력합니다.\n",
      "2 x 2 = 4\n",
      "2 x 3 = 6\n",
      "2 x 4 = 8\n",
      "2 x 5 = 10\n",
      "2 x 6 = 12\n",
      "2 x 7 = 14\n",
      "2 x 8 = 16\n",
      "2 x 9 = 18\n"
     ]
    }
   ],
   "source": [
    "print(\"구구단 2 단을 출력합니다.\")\n",
    "print(\"2 x 2 = 4\")\n",
    "print(\"2 x 3 = 6\")\n",
    "print(\"2 x 4 = 8\")\n",
    "print(\"2 x 5 = 10\")\n",
    "print(\"2 x 6 = 12\")\n",
    "print(\"2 x 7 = 14\")\n",
    "print(\"2 x 8 = 16\")\n",
    "print(\"2 x 9 = 18\")"
   ]
  },
  {
   "cell_type": "code",
   "execution_count": 4,
   "metadata": {},
   "outputs": [
    {
     "name": "stdout",
     "output_type": "stream",
     "text": [
      "구구단 9 단을 출력합니다.\n",
      "9 x 2 = 18\n",
      "9 x 3 = 27\n",
      "9 x 4 = 36\n",
      "9 x 5 = 45\n",
      "9 x 6 = 54\n",
      "9 x 7 = 63\n",
      "9 x 8 = 72\n",
      "9 x 9 = 81\n"
     ]
    }
   ],
   "source": [
    "print(\"구구단 9 단을 출력합니다.\")\n",
    "print(\"9 x 2 = 18\")\n",
    "print(\"9 x 3 = 27\")\n",
    "print(\"9 x 4 = 36\")\n",
    "print(\"9 x 5 = 45\")\n",
    "print(\"9 x 6 = 54\")\n",
    "print(\"9 x 7 = 63\")\n",
    "print(\"9 x 8 = 72\")\n",
    "print(\"9 x 9 = 81\")"
   ]
  },
  {
   "cell_type": "code",
   "execution_count": 5,
   "metadata": {},
   "outputs": [],
   "source": [
    "def test():\n",
    "    print(1)\n",
    "    print(2)"
   ]
  },
  {
   "cell_type": "code",
   "execution_count": 25,
   "metadata": {},
   "outputs": [
    {
     "name": "stdout",
     "output_type": "stream",
     "text": [
      "1\n",
      "2\n"
     ]
    }
   ],
   "source": [
    "test()"
   ]
  },
  {
   "cell_type": "code",
   "execution_count": 6,
   "metadata": {},
   "outputs": [
    {
     "name": "stdout",
     "output_type": "stream",
     "text": [
      "1\n",
      "4\n",
      "a\n"
     ]
    }
   ],
   "source": [
    "a = 1\n",
    "print(a)\n",
    "a = 4\n",
    "print(a)\n",
    "print(\"a\")"
   ]
  },
  {
   "cell_type": "code",
   "execution_count": 7,
   "metadata": {},
   "outputs": [
    {
     "name": "stdout",
     "output_type": "stream",
     "text": [
      "15\n",
      "-2\n",
      "0.6\n"
     ]
    }
   ],
   "source": [
    "a = 3\n",
    "b = 5\n",
    "print(a * b)\n",
    "print(a - b)\n",
    "print(a / b)"
   ]
  },
  {
   "cell_type": "code",
   "execution_count": 8,
   "metadata": {},
   "outputs": [
    {
     "name": "stdout",
     "output_type": "stream",
     "text": [
      "저는 5 층에 살아요\n",
      "차는 지하 3 층에 있어요\n",
      "꼭대기층은 15 층이에요\n"
     ]
    }
   ],
   "source": [
    "print(\"저는\", b, \"층에 살아요\")\n",
    "print(\"차는 지하\", a, \"층에 있어요\")\n",
    "print(\"꼭대기층은\", a * b, \"층이에요\")\n"
   ]
  },
  {
   "cell_type": "code",
   "execution_count": 9,
   "metadata": {},
   "outputs": [
    {
     "name": "stdout",
     "output_type": "stream",
     "text": [
      "제 이름은 jang 이고,  25 살입니다.\n"
     ]
    }
   ],
   "source": [
    "name = input(\"이름 : \")\n",
    "age = input(\"나이 : \")\n",
    "print(\"제 이름은\", name, \"이고, \", age, \"살입니다.\")"
   ]
  },
  {
   "cell_type": "code",
   "execution_count": 10,
   "metadata": {},
   "outputs": [
    {
     "name": "stdout",
     "output_type": "stream",
     "text": [
      "제 동생은 23 살입니다.\n"
     ]
    }
   ],
   "source": [
    "broAge = int(age) - 2\n",
    "print(\"제 동생은\", broAge, \"살입니다.\")"
   ]
  },
  {
   "cell_type": "code",
   "execution_count": 12,
   "metadata": {},
   "outputs": [
    {
     "name": "stdout",
     "output_type": "stream",
     "text": [
      "37.4\n"
     ]
    }
   ],
   "source": [
    "# DIY1\n",
    "celsius = int(input())\n",
    "print(celsius*1.8+32)"
   ]
  },
  {
   "cell_type": "code",
   "execution_count": 13,
   "metadata": {},
   "outputs": [
    {
     "name": "stdout",
     "output_type": "stream",
     "text": [
      "r\n",
      "n\n",
      "i a\n",
      "ngry\n",
      "am hun\n"
     ]
    }
   ],
   "source": [
    "str = \"i am hungry\"\n",
    "print(str[-2])\n",
    "print(str[7])\n",
    "print(str[:3])\n",
    "print(str[7:])\n",
    "print(str[2:-3])"
   ]
  },
  {
   "cell_type": "code",
   "execution_count": 14,
   "metadata": {},
   "outputs": [
    {
     "name": "stdout",
     "output_type": "stream",
     "text": [
      "i am angry\n",
      "i am hungry\n"
     ]
    }
   ],
   "source": [
    "str2 = str.replace(\"hu\", \"a\")\n",
    "print(str2)\n",
    "print(str)"
   ]
  },
  {
   "cell_type": "code",
   "execution_count": 15,
   "metadata": {},
   "outputs": [
    {
     "name": "stdout",
     "output_type": "stream",
     "text": [
      "i am hungry\n"
     ]
    }
   ],
   "source": [
    "str3 = str.replace(\"gryt\", \"ting\")\n",
    "print(str3)"
   ]
  },
  {
   "cell_type": "code",
   "execution_count": 16,
   "metadata": {},
   "outputs": [
    {
     "name": "stdout",
     "output_type": "stream",
     "text": [
      " 앞뒤로 공백이 있어요! \n",
      "앞뒤로 공백이 있어요!\n",
      " 앞뒤로 공백이 있어요! \n",
      "앞뒤로공백이있어요!\n"
     ]
    }
   ],
   "source": [
    "str4 = \" 앞뒤로 공백이 있어요! \"\n",
    "print(str4)\n",
    "print(str4.strip())\n",
    "print(str4)\n",
    "print(str4.replace(\" \", \"\"))"
   ]
  },
  {
   "cell_type": "code",
   "execution_count": 17,
   "metadata": {},
   "outputs": [
    {
     "name": "stdout",
     "output_type": "stream",
     "text": [
      "#\n",
      "\n",
      "오늘\n",
      "점심은\n",
      "뭐먹을까\n"
     ]
    }
   ],
   "source": [
    "str5 = \"#오늘#점심은#뭐먹을까\"\n",
    "print(str5[3])\n",
    "splitResult = str5.split(\"#\")\n",
    "print(splitResult[0])\n",
    "print(splitResult[1])\n",
    "print(splitResult[2])\n",
    "print(splitResult[3])\n"
   ]
  },
  {
   "cell_type": "code",
   "execution_count": 24,
   "metadata": {},
   "outputs": [
    {
     "name": "stdout",
     "output_type": "stream",
     "text": [
      "처음에 글이 있고 중간에는          공백이 길고, 끝부분에는 공백이 짧아요\n",
      "'공백'이라는 문자열로 분리를 하고 난 결과의 index가 1인 문자열은?  이 길고, 끝부분에는 \n",
      "index가 3인 문자는?  고\n"
     ]
    }
   ],
   "source": [
    "# DIY2\n",
    "diyString = '처음에 글이 있고 중간에는          공백이 길고, 끝부분에는 공백이 짧아요  '\n",
    "# 1) 앞뒤 공백 제거\n",
    "diyString_fr_en = diyString.strip()\n",
    "print(diyString_fr_en)\n",
    "\n",
    "# 2) '공백'이라는 문자열로 분리를 하고 난 결과의 index가 1인 문자열의 \n",
    "diyString_fr_en.split('공백')\n",
    "print(\"'공백'이라는 문자열로 분리를 하고 난 결과의 index가 1인 문자열은? \",diyString_fr_en.split('공백')[1])\n",
    "\n",
    "# 3) index가 3인 문자는?\n",
    "\n",
    "print('index가 3인 문자는? ',diyString_fr_en.split('공백')[1][3])"
   ]
  },
  {
   "cell_type": "code",
   "execution_count": 1,
   "metadata": {},
   "outputs": [
    {
     "name": "stdout",
     "output_type": "stream",
     "text": [
      "* \n",
      "* * \n",
      "* * * \n",
      "* * * * \n",
      "* * * * * \n"
     ]
    }
   ],
   "source": [
    "# Q1. Answer\n",
    "for i in range(1, 6):\n",
    "    for j in range(1, i+1):\n",
    "        print('*', end=\" \")\n",
    "    for k in range(1, i+1):\n",
    "        print(end='')\n",
    "    print()"
   ]
  },
  {
   "cell_type": "code",
   "execution_count": 2,
   "metadata": {},
   "outputs": [
    {
     "name": "stdout",
     "output_type": "stream",
     "text": [
      "* * * * *  \n",
      "* * * *  \n",
      "* * *  \n",
      "* *  \n",
      "*  \n"
     ]
    }
   ],
   "source": [
    "# Q2. Answer\n",
    "for i in range(1,6):\n",
    "      for j in range(i,6):\n",
    "          print(\"*\",end=\" \")\n",
    "      print(\" \")"
   ]
  },
  {
   "cell_type": "code",
   "execution_count": 3,
   "metadata": {},
   "outputs": [
    {
     "name": "stdout",
     "output_type": "stream",
     "text": [
      "        * \n",
      "      * * \n",
      "    * * * \n",
      "  * * * * \n",
      "* * * * * \n"
     ]
    }
   ],
   "source": [
    "# Q3. Answer\n",
    "for i in range(1,6):\n",
    "    for j in range(1,6-i):\n",
    "        print(\" \",end=\" \")\n",
    "    for j in range(1,i+1):\n",
    "        print('*', end=\" \")\n",
    "    print()"
   ]
  },
  {
   "cell_type": "code",
   "execution_count": 8,
   "metadata": {},
   "outputs": [
    {
     "name": "stdout",
     "output_type": "stream",
     "text": [
      "    *\n",
      "   ***\n",
      "  *****\n",
      " *******\n",
      "*********\n"
     ]
    }
   ],
   "source": [
    "for i in range(5):\n",
    "    for j in range(5,0,-1):\n",
    "        if(j<=i+1):\n",
    "            print(\"*\",end=\"\")\n",
    "        else:\n",
    "            print(\" \",end=\"\")\n",
    "    for j in range(5):\n",
    "        if(j<i):\n",
    "            print(\"*\",end=\"\")\n",
    "    print()"
   ]
  },
  {
   "cell_type": "code",
   "execution_count": 9,
   "metadata": {},
   "outputs": [
    {
     "name": "stdout",
     "output_type": "stream",
     "text": [
      "  *\n",
      " ***\n",
      "*****\n",
      " ***\n",
      "  *\n"
     ]
    }
   ],
   "source": [
    "num = 5\n",
    " \n",
    "for i in range(1,num,2):\n",
    "    print(\" \"*((num-i)//2)+\"*\"*i)\n",
    "for i in range(num,0,-2):\n",
    "    print(\" \"*((num-i)//2)+\"*\"*i)"
   ]
  },
  {
   "cell_type": "code",
   "execution_count": 11,
   "metadata": {},
   "outputs": [
    {
     "name": "stdout",
     "output_type": "stream",
     "text": [
      "  1\n",
      " 333\n",
      "55555\n",
      " 333\n",
      "  1\n"
     ]
    }
   ],
   "source": [
    "num = 5\n",
    " \n",
    "for i in range(1,num,2):\n",
    "    print(\" \"*((num-i)//2)+str(i)*i)\n",
    "for i in range(num,0,-2):\n",
    "    print(\" \"*((num-i)//2)+str(i)*i)"
   ]
  },
  {
   "cell_type": "code",
   "execution_count": null,
   "metadata": {},
   "outputs": [],
   "source": []
  }
 ],
 "metadata": {
  "kernelspec": {
   "display_name": "crawling",
   "language": "python",
   "name": "python3"
  },
  "language_info": {
   "codemirror_mode": {
    "name": "ipython",
    "version": 3
   },
   "file_extension": ".py",
   "mimetype": "text/x-python",
   "name": "python",
   "nbconvert_exporter": "python",
   "pygments_lexer": "ipython3",
   "version": "3.9.15 (main, Nov 24 2022, 14:39:17) [MSC v.1916 64 bit (AMD64)]"
  },
  "orig_nbformat": 4,
  "vscode": {
   "interpreter": {
    "hash": "c83ef3adab64e3cbb510cefd6b611928ffaaeddedd527d1b02ef4edcd5a80c0c"
   }
  }
 },
 "nbformat": 4,
 "nbformat_minor": 2
}
